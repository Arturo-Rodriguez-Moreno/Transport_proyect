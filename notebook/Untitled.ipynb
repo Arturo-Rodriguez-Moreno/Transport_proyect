{
 "cells": [
  {
   "cell_type": "code",
   "execution_count": 1,
   "id": "a3c05219",
   "metadata": {},
   "outputs": [],
   "source": [
    "import pandas as pd\n",
    "import numpy as np\n",
    "\n",
    "pd.set_option('display.max_columns', None)  # es para enseñar todas las columnas del df\n",
    "#pd.set_option('display.max_rows', None)     # es para enseñar todas las filas del df\n",
    "\n",
    "\n",
    "import warnings\n",
    "warnings.simplefilter('ignore')   # es para quitar warnings"
   ]
  },
  {
   "cell_type": "code",
   "execution_count": 4,
   "id": "f202fbe4",
   "metadata": {},
   "outputs": [],
   "source": [
    "topologia = pd.read_csv('../data/pasajeros/topologia.csv')"
   ]
  },
  {
   "cell_type": "code",
   "execution_count": 5,
   "id": "800e8147",
   "metadata": {},
   "outputs": [
    {
     "name": "stdout",
     "output_type": "stream",
     "text": [
      "<class 'pandas.core.frame.DataFrame'>\n",
      "RangeIndex: 2693 entries, 0 to 2692\n",
      "Data columns (total 10 columns):\n",
      " #   Column         Non-Null Count  Dtype \n",
      "---  ------         --------------  ----- \n",
      " 0   route_code     2693 non-null   int64 \n",
      " 1   route_name     2693 non-null   object\n",
      " 2   line_code      2693 non-null   int64 \n",
      " 3   line_name      2693 non-null   object\n",
      " 4   stop_order     2693 non-null   int64 \n",
      " 5   stop_code      2693 non-null   int64 \n",
      " 6   stop_name      2693 non-null   object\n",
      " 7   stop_code_int  2693 non-null   int64 \n",
      " 8   latitude       2693 non-null   object\n",
      " 9   longitude      2693 non-null   object\n",
      "dtypes: int64(5), object(5)\n",
      "memory usage: 210.5+ KB\n"
     ]
    }
   ],
   "source": [
    "topologia.info()"
   ]
  },
  {
   "cell_type": "code",
   "execution_count": null,
   "id": "7b39b574",
   "metadata": {},
   "outputs": [],
   "source": []
  }
 ],
 "metadata": {
  "kernelspec": {
   "display_name": "clase",
   "language": "python",
   "name": "clase"
  },
  "language_info": {
   "codemirror_mode": {
    "name": "ipython",
    "version": 3
   },
   "file_extension": ".py",
   "mimetype": "text/x-python",
   "name": "python",
   "nbconvert_exporter": "python",
   "pygments_lexer": "ipython3",
   "version": "3.9.7"
  }
 },
 "nbformat": 4,
 "nbformat_minor": 5
}
