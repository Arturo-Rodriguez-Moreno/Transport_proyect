{
 "cells": [
  {
   "cell_type": "code",
   "execution_count": 1,
   "id": "98bafe0f",
   "metadata": {},
   "outputs": [],
   "source": [
    "import pandas as pd\n",
    "import numpy as np\n",
    "\n",
    "pd.set_option('display.max_columns', None)  # es para enseñar todas las columnas del df\n",
    "#pd.set_option('display.max_rows', None)     # es para enseñar todas las filas del df\n",
    "\n",
    "\n",
    "import warnings\n",
    "warnings.simplefilter('ignore')   # es para quitar warnings"
   ]
  },
  {
   "cell_type": "markdown",
   "id": "c1dbbb23",
   "metadata": {},
   "source": [
    "## Cargo los archivos"
   ]
  },
  {
   "cell_type": "markdown",
   "id": "e333bfc5",
   "metadata": {},
   "source": [
    "#### Cargo tarjetas"
   ]
  },
  {
   "cell_type": "code",
   "execution_count": 2,
   "id": "2c31ccba",
   "metadata": {},
   "outputs": [
    {
     "data": {
      "text/plain": [
       "\"# Leo todos los csv de la parte de tarjetas\\n\\netudiant = pd.read_csv('../data/tarjetas/Validaciones_titulo_1020.csv', sep=';')\\neleve = pd.read_csv('../data/tarjetas/Validaciones_titulo_1022.csv', sep=';')\\nita = pd.read_csv('../data/tarjetas/Validaciones_titulo_1033.csv', sep=';')\\npass_spsm = pd.read_csv('../data/tarjetas/Validaciones_titulo_3001.csv', sep=';')\\npass_ecole_jardinage = pd.read_csv('../data/tarjetas/Validaciones_titulo_3002.csv', sep=';')\\npass_baplm = pd.read_csv('../data/tarjetas/Validaciones_titulo_3003.csv', sep=';')\\ncarte_employee = pd.read_csv('../data/tarjetas/Validaciones_titulo_6020.csv', sep=';')\\n\\n# Concateno todos los dataframes de tarjetas\\n\\ncards = pd.concat([etudiant, eleve, ita, pass_spsm, pass_ecole_jardinage, pass_baplm, carte_employee])\\n\\n# Cambio los nombres de las columna sin espacios y a minusculas.\\n\\ncards.columns=[c.lower().replace(' ', '_') for c in cards.columns]\\n\\n# Convierto a csv los tarjetas\\n\\ncards.to_csv('../data/pasajeros/cards.csv', sep=',', index=False)\\n\""
      ]
     },
     "execution_count": 2,
     "metadata": {},
     "output_type": "execute_result"
    }
   ],
   "source": [
    "'''# Leo todos los csv de la parte de tarjetas\n",
    "\n",
    "etudiant = pd.read_csv('../data/tarjetas/Validaciones_titulo_1020.csv', sep=';')\n",
    "eleve = pd.read_csv('../data/tarjetas/Validaciones_titulo_1022.csv', sep=';')\n",
    "ita = pd.read_csv('../data/tarjetas/Validaciones_titulo_1033.csv', sep=';')\n",
    "pass_spsm = pd.read_csv('../data/tarjetas/Validaciones_titulo_3001.csv', sep=';')\n",
    "pass_ecole_jardinage = pd.read_csv('../data/tarjetas/Validaciones_titulo_3002.csv', sep=';')\n",
    "pass_baplm = pd.read_csv('../data/tarjetas/Validaciones_titulo_3003.csv', sep=';')\n",
    "carte_employee = pd.read_csv('../data/tarjetas/Validaciones_titulo_6020.csv', sep=';')\n",
    "\n",
    "# Concateno todos los dataframes de tarjetas\n",
    "\n",
    "cards = pd.concat([etudiant, eleve, ita, pass_spsm, pass_ecole_jardinage, pass_baplm, carte_employee])\n",
    "\n",
    "# Cambio los nombres de las columna sin espacios y a minusculas.\n",
    "\n",
    "cards.columns=[c.lower().replace(' ', '_') for c in cards.columns]\n",
    "\n",
    "# Convierto a csv los tarjetas\n",
    "\n",
    "cards.to_csv('../data/pasajeros/cards.csv', sep=',', index=False)\n",
    "'''"
   ]
  },
  {
   "cell_type": "code",
   "execution_count": 3,
   "id": "5fd3e5a2",
   "metadata": {},
   "outputs": [],
   "source": [
    "# Cargo los csv de tickets\n",
    "\n",
    "cards = pd.read_csv('../data/pasajeros/cards.csv')"
   ]
  },
  {
   "cell_type": "markdown",
   "id": "d9f0633c",
   "metadata": {},
   "source": [
    "#### Cargo tickets"
   ]
  },
  {
   "cell_type": "code",
   "execution_count": 4,
   "id": "ff6ba06a",
   "metadata": {},
   "outputs": [
    {
     "data": {
      "text/plain": [
       "\"# Leo todos los csv de la parte de tickets\\n\\nlunes = pd.read_excel('../data/billetes/Billetes_21032022.xlsx')\\nmartes = pd.read_excel('../data/billetes/Billetes_22032022.xlsx')\\nmiercoles = pd.read_excel('../data/billetes/Billetes_23032022.xlsx')\\njueves = pd.read_excel('../data/billetes/Billetes_24032022.xlsx')\\nviernes = pd.read_excel('../data/billetes/Billetes_25032022.xlsx')\\nsabado = pd.read_excel('../data/billetes/Billetes_26032022.xlsx')\\ndomingo = pd.read_excel('../data/billetes/Billetes_27032022.xlsx')\\n\\n# Función para modificar el nombre de las columnas\\n\\ndef rename_columns(lista):\\n    \\n    for file in lista:\\n        \\n        file.columns=[c.lower().replace(' ', '_') for c in file.columns]\\n    \\n    df = pd.concat([lunes, martes, miercoles, jueves, viernes, sabado, domingo])\\n    \\n    return df\\n\\n# llamo a la función para modificar las columnas\\n\\ndias = [lunes, martes, miercoles, jueves, viernes, sabado, domingo]\\n\\ntickets = rename_columns(dias)\\n\\n# Convierto a csv los tickets\\n\\ntickets.to_csv('../data/pasajeros/tickets.csv', sep=',', index=False)\""
      ]
     },
     "execution_count": 4,
     "metadata": {},
     "output_type": "execute_result"
    }
   ],
   "source": [
    "'''# Leo todos los csv de la parte de tickets\n",
    "\n",
    "lunes = pd.read_excel('../data/billetes/Billetes_21032022.xlsx')\n",
    "martes = pd.read_excel('../data/billetes/Billetes_22032022.xlsx')\n",
    "miercoles = pd.read_excel('../data/billetes/Billetes_23032022.xlsx')\n",
    "jueves = pd.read_excel('../data/billetes/Billetes_24032022.xlsx')\n",
    "viernes = pd.read_excel('../data/billetes/Billetes_25032022.xlsx')\n",
    "sabado = pd.read_excel('../data/billetes/Billetes_26032022.xlsx')\n",
    "domingo = pd.read_excel('../data/billetes/Billetes_27032022.xlsx')\n",
    "\n",
    "# Función para modificar el nombre de las columnas\n",
    "\n",
    "def rename_columns(lista):\n",
    "    \n",
    "    for file in lista:\n",
    "        \n",
    "        file.columns=[c.lower().replace(' ', '_') for c in file.columns]\n",
    "    \n",
    "    df = pd.concat([lunes, martes, miercoles, jueves, viernes, sabado, domingo])\n",
    "    \n",
    "    return df\n",
    "\n",
    "# llamo a la función para modificar las columnas\n",
    "\n",
    "dias = [lunes, martes, miercoles, jueves, viernes, sabado, domingo]\n",
    "\n",
    "tickets = rename_columns(dias)\n",
    "\n",
    "# Convierto a csv los tickets\n",
    "\n",
    "tickets.to_csv('../data/pasajeros/tickets.csv', sep=',', index=False)'''\n",
    "\n"
   ]
  },
  {
   "cell_type": "code",
   "execution_count": 5,
   "id": "2d297d5a",
   "metadata": {},
   "outputs": [],
   "source": [
    "# Cargo los csv de tickets\n",
    "\n",
    "tickets = pd.read_csv('../data/pasajeros/tickets.csv')"
   ]
  },
  {
   "cell_type": "markdown",
   "id": "e4c6ebe2",
   "metadata": {},
   "source": [
    "#### Cargo Topologia"
   ]
  },
  {
   "cell_type": "code",
   "execution_count": 6,
   "id": "decbf726",
   "metadata": {},
   "outputs": [],
   "source": [
    "# Cargo el archivo de topologia\n",
    "\n",
    "topologia = pd.read_csv('../data/red_transporte/topologia.csv')\n",
    "\n",
    "# Modificio las columnas a minusculas y sin espacios.\n",
    "\n",
    "topologia.columns=[c.lower().replace(' ', '_') for c in topologia.columns]\n",
    "\n",
    "# Convierto a csv los tickets\n",
    "\n",
    "# topologia.to_csv('../data/pasajeros/topologia.csv', sep=',', index=False)\n"
   ]
  },
  {
   "cell_type": "code",
   "execution_count": 7,
   "id": "e4ba8a42",
   "metadata": {},
   "outputs": [
    {
     "data": {
      "text/plain": [
       "\"# Cargo el archivo de topologia\\n\\ntopologia = pd.read_csv('../data/pasajeros/topologia.csv')\""
      ]
     },
     "execution_count": 7,
     "metadata": {},
     "output_type": "execute_result"
    }
   ],
   "source": [
    "'''# Cargo el archivo de topologia\n",
    "\n",
    "topologia = pd.read_csv('../data/pasajeros/topologia.csv')'''"
   ]
  },
  {
   "cell_type": "markdown",
   "id": "7045c878",
   "metadata": {},
   "source": [
    "## Limpieza de datos"
   ]
  },
  {
   "cell_type": "markdown",
   "id": "441b2123",
   "metadata": {},
   "source": [
    "#### Limpieza Cards"
   ]
  },
  {
   "cell_type": "code",
   "execution_count": 8,
   "id": "84d7607d",
   "metadata": {},
   "outputs": [],
   "source": [
    "# Elimino las columnas que no quiero\n",
    "\n",
    "cards = cards.drop(['fecha_inicio', 'fechacaducidad'], axis=1)"
   ]
  },
  {
   "cell_type": "code",
   "execution_count": 9,
   "id": "db113837",
   "metadata": {},
   "outputs": [],
   "source": [
    "# Elimino las columnas que no quiero\n",
    "\n",
    "cards = cards.drop(['card_title', 'waybill', 'route_name', 'line_name' ], axis=1)"
   ]
  },
  {
   "cell_type": "code",
   "execution_count": 10,
   "id": "153c1899",
   "metadata": {},
   "outputs": [],
   "source": [
    "# Cambio el formato a de fecha a datetime64\n",
    "\n",
    "cards.date = cards.date.astype('datetime64[ns]')"
   ]
  },
  {
   "cell_type": "code",
   "execution_count": 11,
   "id": "736daf20",
   "metadata": {},
   "outputs": [],
   "source": [
    "# Me quedo con fecha inferiores al '2022-03-28'\n",
    "\n",
    "cards =cards[cards.date < '2022-03-28']"
   ]
  },
  {
   "cell_type": "code",
   "execution_count": 12,
   "id": "77bb1cd9",
   "metadata": {},
   "outputs": [],
   "source": [
    "# Modifico el nombre de las columnas\n",
    "\n",
    "columnas = {'card_number': 'ticket_number', 'route': 'route_code', 'line': 'line_code', 'stop': 'stop_code', 'card_type': 'operation_type'}\n",
    "\n",
    "cards = cards.rename(columns=columnas)"
   ]
  },
  {
   "cell_type": "code",
   "execution_count": 13,
   "id": "dbd5e387",
   "metadata": {},
   "outputs": [],
   "source": [
    "# Ordeno las columnas\n",
    "\n",
    "column_names = [\"date\", \"bus\", \"machine\", \"driver\", \"settlement\", \"ticket_number\", \"operation\", \"operation_type\", \"fare\", \"route_code\", \"line_code\", \"stop_code\"]\n",
    "\n",
    "cards = cards.reindex(columns=column_names)"
   ]
  },
  {
   "cell_type": "code",
   "execution_count": 14,
   "id": "e2048d55",
   "metadata": {},
   "outputs": [],
   "source": [
    "# Cambio el tipo de dato 'ticket_number' a object\n",
    "\n",
    "cards = cards.astype({'ticket_number': 'object'})"
   ]
  },
  {
   "cell_type": "code",
   "execution_count": 15,
   "id": "41fcd3a7",
   "metadata": {},
   "outputs": [],
   "source": [
    "# Me quedo solo con Validaciones y Transfers\n",
    "\n",
    "cards = cards[(cards.operation == 'Entry validation') | (cards.operation == 'Transfer (entry)')]\n",
    "\n",
    "# Modifico lo valores de valores a Validation y Transfer\n",
    "\n",
    "cards.operation.replace('Entry validation', 'Validation', inplace=True)\n",
    "cards.operation.replace('Transfer (entry)', 'Transfer', inplace=True)\n"
   ]
  },
  {
   "cell_type": "code",
   "execution_count": 16,
   "id": "66986a13",
   "metadata": {},
   "outputs": [
    {
     "data": {
      "text/html": [
       "<div>\n",
       "<style scoped>\n",
       "    .dataframe tbody tr th:only-of-type {\n",
       "        vertical-align: middle;\n",
       "    }\n",
       "\n",
       "    .dataframe tbody tr th {\n",
       "        vertical-align: top;\n",
       "    }\n",
       "\n",
       "    .dataframe thead th {\n",
       "        text-align: right;\n",
       "    }\n",
       "</style>\n",
       "<table border=\"1\" class=\"dataframe\">\n",
       "  <thead>\n",
       "    <tr style=\"text-align: right;\">\n",
       "      <th></th>\n",
       "      <th>date</th>\n",
       "      <th>bus</th>\n",
       "      <th>machine</th>\n",
       "      <th>driver</th>\n",
       "      <th>settlement</th>\n",
       "      <th>ticket_number</th>\n",
       "      <th>operation</th>\n",
       "      <th>operation_type</th>\n",
       "      <th>fare</th>\n",
       "      <th>route_code</th>\n",
       "      <th>line_code</th>\n",
       "      <th>stop_code</th>\n",
       "    </tr>\n",
       "  </thead>\n",
       "  <tbody>\n",
       "    <tr>\n",
       "      <th>0</th>\n",
       "      <td>2022-03-21 05:59:28</td>\n",
       "      <td>30064</td>\n",
       "      <td>5773</td>\n",
       "      <td>2114</td>\n",
       "      <td>AA01621</td>\n",
       "      <td>43230192</td>\n",
       "      <td>Validation</td>\n",
       "      <td>Etudiant</td>\n",
       "      <td>0.0</td>\n",
       "      <td>8</td>\n",
       "      <td>203</td>\n",
       "      <td>11670</td>\n",
       "    </tr>\n",
       "    <tr>\n",
       "      <th>1</th>\n",
       "      <td>2022-03-21 06:03:51</td>\n",
       "      <td>30018</td>\n",
       "      <td>5828</td>\n",
       "      <td>1945</td>\n",
       "      <td>AA01567</td>\n",
       "      <td>18701088</td>\n",
       "      <td>Validation</td>\n",
       "      <td>Etudiant</td>\n",
       "      <td>0.0</td>\n",
       "      <td>38</td>\n",
       "      <td>205</td>\n",
       "      <td>10429</td>\n",
       "    </tr>\n",
       "    <tr>\n",
       "      <th>2</th>\n",
       "      <td>2022-03-21 06:18:53</td>\n",
       "      <td>30292</td>\n",
       "      <td>5677</td>\n",
       "      <td>1611</td>\n",
       "      <td>AA01360</td>\n",
       "      <td>2443413712</td>\n",
       "      <td>Validation</td>\n",
       "      <td>Etudiant</td>\n",
       "      <td>0.0</td>\n",
       "      <td>9</td>\n",
       "      <td>102</td>\n",
       "      <td>10986</td>\n",
       "    </tr>\n",
       "    <tr>\n",
       "      <th>3</th>\n",
       "      <td>2022-03-21 06:19:43</td>\n",
       "      <td>30269</td>\n",
       "      <td>5723</td>\n",
       "      <td>2077</td>\n",
       "      <td>AA01558</td>\n",
       "      <td>3472759179</td>\n",
       "      <td>Validation</td>\n",
       "      <td>Etudiant</td>\n",
       "      <td>0.0</td>\n",
       "      <td>303</td>\n",
       "      <td>202</td>\n",
       "      <td>11846</td>\n",
       "    </tr>\n",
       "    <tr>\n",
       "      <th>4</th>\n",
       "      <td>2022-03-21 06:19:48</td>\n",
       "      <td>30158</td>\n",
       "      <td>5553</td>\n",
       "      <td>596</td>\n",
       "      <td>AA01767</td>\n",
       "      <td>3862394236</td>\n",
       "      <td>Validation</td>\n",
       "      <td>Etudiant</td>\n",
       "      <td>0.0</td>\n",
       "      <td>8</td>\n",
       "      <td>203</td>\n",
       "      <td>11602</td>\n",
       "    </tr>\n",
       "  </tbody>\n",
       "</table>\n",
       "</div>"
      ],
      "text/plain": [
       "                 date    bus  machine  driver settlement ticket_number  \\\n",
       "0 2022-03-21 05:59:28  30064     5773    2114    AA01621      43230192   \n",
       "1 2022-03-21 06:03:51  30018     5828    1945    AA01567      18701088   \n",
       "2 2022-03-21 06:18:53  30292     5677    1611    AA01360    2443413712   \n",
       "3 2022-03-21 06:19:43  30269     5723    2077    AA01558    3472759179   \n",
       "4 2022-03-21 06:19:48  30158     5553     596    AA01767    3862394236   \n",
       "\n",
       "    operation operation_type  fare  route_code  line_code  stop_code  \n",
       "0  Validation       Etudiant   0.0           8        203      11670  \n",
       "1  Validation       Etudiant   0.0          38        205      10429  \n",
       "2  Validation       Etudiant   0.0           9        102      10986  \n",
       "3  Validation       Etudiant   0.0         303        202      11846  \n",
       "4  Validation       Etudiant   0.0           8        203      11602  "
      ]
     },
     "execution_count": 16,
     "metadata": {},
     "output_type": "execute_result"
    }
   ],
   "source": [
    "cards.head()"
   ]
  },
  {
   "cell_type": "code",
   "execution_count": 17,
   "id": "1b84d48f",
   "metadata": {},
   "outputs": [
    {
     "name": "stdout",
     "output_type": "stream",
     "text": [
      "<class 'pandas.core.frame.DataFrame'>\n",
      "Int64Index: 229258 entries, 0 to 1269680\n",
      "Data columns (total 12 columns):\n",
      " #   Column          Non-Null Count   Dtype         \n",
      "---  ------          --------------   -----         \n",
      " 0   date            229258 non-null  datetime64[ns]\n",
      " 1   bus             229258 non-null  int64         \n",
      " 2   machine         229258 non-null  int64         \n",
      " 3   driver          229258 non-null  int64         \n",
      " 4   settlement      229258 non-null  object        \n",
      " 5   ticket_number   229258 non-null  object        \n",
      " 6   operation       229258 non-null  object        \n",
      " 7   operation_type  229258 non-null  object        \n",
      " 8   fare            229258 non-null  float64       \n",
      " 9   route_code      229258 non-null  int64         \n",
      " 10  line_code       229258 non-null  int64         \n",
      " 11  stop_code       229258 non-null  int64         \n",
      "dtypes: datetime64[ns](1), float64(1), int64(6), object(4)\n",
      "memory usage: 22.7+ MB\n"
     ]
    }
   ],
   "source": [
    "cards.info()"
   ]
  },
  {
   "cell_type": "markdown",
   "id": "a7cd1ebc",
   "metadata": {},
   "source": [
    "#### Limpieza Tickets"
   ]
  },
  {
   "cell_type": "code",
   "execution_count": 18,
   "id": "aedb1dc6",
   "metadata": {},
   "outputs": [],
   "source": [
    "# Sustituyo el tipo de tarifa a object y como Ticket\n",
    "\n",
    "tickets.tarifa.replace(1, 'Ticket', inplace=True)"
   ]
  },
  {
   "cell_type": "code",
   "execution_count": 19,
   "id": "a5042409",
   "metadata": {},
   "outputs": [],
   "source": [
    "# Renombro las columnas\n",
    "\n",
    "columnas2 = {'conductor': 'driver', 'maquina': 'machine', 'liquidacion': 'settlement', 'fecha': 'date', 'tarifa': 'operation_type', 'nombretarifa': 'operation', 'precio': 'fare', 'billete': 'ticket_number', 'linea': 'route_code', 'trayecto': 'line_code', 'parada': 'stop_code'}\n",
    "\n",
    "tickets = tickets.rename(columns=columnas2)"
   ]
  },
  {
   "cell_type": "code",
   "execution_count": 20,
   "id": "d081f83f",
   "metadata": {},
   "outputs": [],
   "source": [
    "# Ordeno las columnas\n",
    "\n",
    "column_names = [\"date\", \"bus\", \"machine\", \"driver\", \"settlement\", \"ticket_number\", \"operation\", \"operation_type\", \"fare\", \"route_code\", \"line_code\", \"stop_code\"]\n",
    "\n",
    "tickets = tickets.reindex(columns=column_names)"
   ]
  },
  {
   "cell_type": "code",
   "execution_count": 21,
   "id": "c1e2b53d",
   "metadata": {},
   "outputs": [],
   "source": [
    "# Cambio el formato de fecha a datetime64\n",
    "\n",
    "tickets.date = tickets.date.astype('datetime64[ns]')"
   ]
  },
  {
   "cell_type": "code",
   "execution_count": 22,
   "id": "93a3cc0a",
   "metadata": {},
   "outputs": [],
   "source": [
    "# Cambio el tipo de dato 'ticket_number' a object\n",
    "\n",
    "tickets = tickets.astype({'fare': 'float64'})"
   ]
  },
  {
   "cell_type": "code",
   "execution_count": 23,
   "id": "d0f9045f",
   "metadata": {},
   "outputs": [],
   "source": [
    "# Modifico el precio de los billetes\n",
    "\n",
    "tickets.fare.replace({5000 : 5.0, 10000: 10.0, 25000 : 25.0}, inplace=True)"
   ]
  },
  {
   "cell_type": "code",
   "execution_count": 24,
   "id": "c19414a2",
   "metadata": {},
   "outputs": [
    {
     "data": {
      "text/html": [
       "<div>\n",
       "<style scoped>\n",
       "    .dataframe tbody tr th:only-of-type {\n",
       "        vertical-align: middle;\n",
       "    }\n",
       "\n",
       "    .dataframe tbody tr th {\n",
       "        vertical-align: top;\n",
       "    }\n",
       "\n",
       "    .dataframe thead th {\n",
       "        text-align: right;\n",
       "    }\n",
       "</style>\n",
       "<table border=\"1\" class=\"dataframe\">\n",
       "  <thead>\n",
       "    <tr style=\"text-align: right;\">\n",
       "      <th></th>\n",
       "      <th>date</th>\n",
       "      <th>bus</th>\n",
       "      <th>machine</th>\n",
       "      <th>driver</th>\n",
       "      <th>settlement</th>\n",
       "      <th>ticket_number</th>\n",
       "      <th>operation</th>\n",
       "      <th>operation_type</th>\n",
       "      <th>fare</th>\n",
       "      <th>route_code</th>\n",
       "      <th>line_code</th>\n",
       "      <th>stop_code</th>\n",
       "    </tr>\n",
       "  </thead>\n",
       "  <tbody>\n",
       "    <tr>\n",
       "      <th>0</th>\n",
       "      <td>2022-03-21 00:02:31</td>\n",
       "      <td>30037</td>\n",
       "      <td>5573</td>\n",
       "      <td>8888</td>\n",
       "      <td>AA01731</td>\n",
       "      <td>AI26354</td>\n",
       "      <td>ORDINAIRE</td>\n",
       "      <td>Ticket</td>\n",
       "      <td>5.0</td>\n",
       "      <td>5</td>\n",
       "      <td>102</td>\n",
       "      <td>10069</td>\n",
       "    </tr>\n",
       "    <tr>\n",
       "      <th>1</th>\n",
       "      <td>2022-03-21 00:02:33</td>\n",
       "      <td>30037</td>\n",
       "      <td>5573</td>\n",
       "      <td>8888</td>\n",
       "      <td>AA01731</td>\n",
       "      <td>AI26355</td>\n",
       "      <td>ORDINAIRE</td>\n",
       "      <td>Ticket</td>\n",
       "      <td>5.0</td>\n",
       "      <td>5</td>\n",
       "      <td>102</td>\n",
       "      <td>10069</td>\n",
       "    </tr>\n",
       "    <tr>\n",
       "      <th>2</th>\n",
       "      <td>2022-03-21 00:02:34</td>\n",
       "      <td>30037</td>\n",
       "      <td>5573</td>\n",
       "      <td>8888</td>\n",
       "      <td>AA01731</td>\n",
       "      <td>AI26356</td>\n",
       "      <td>ORDINAIRE</td>\n",
       "      <td>Ticket</td>\n",
       "      <td>5.0</td>\n",
       "      <td>5</td>\n",
       "      <td>102</td>\n",
       "      <td>10069</td>\n",
       "    </tr>\n",
       "    <tr>\n",
       "      <th>3</th>\n",
       "      <td>2022-03-21 00:02:36</td>\n",
       "      <td>30037</td>\n",
       "      <td>5573</td>\n",
       "      <td>8888</td>\n",
       "      <td>AA01731</td>\n",
       "      <td>AI26357</td>\n",
       "      <td>ORDINAIRE</td>\n",
       "      <td>Ticket</td>\n",
       "      <td>5.0</td>\n",
       "      <td>5</td>\n",
       "      <td>102</td>\n",
       "      <td>10069</td>\n",
       "    </tr>\n",
       "    <tr>\n",
       "      <th>4</th>\n",
       "      <td>2022-03-21 00:02:37</td>\n",
       "      <td>30037</td>\n",
       "      <td>5573</td>\n",
       "      <td>8888</td>\n",
       "      <td>AA01731</td>\n",
       "      <td>AI26358</td>\n",
       "      <td>ORDINAIRE</td>\n",
       "      <td>Ticket</td>\n",
       "      <td>5.0</td>\n",
       "      <td>5</td>\n",
       "      <td>102</td>\n",
       "      <td>10069</td>\n",
       "    </tr>\n",
       "  </tbody>\n",
       "</table>\n",
       "</div>"
      ],
      "text/plain": [
       "                 date    bus  machine  driver settlement ticket_number  \\\n",
       "0 2022-03-21 00:02:31  30037     5573    8888    AA01731       AI26354   \n",
       "1 2022-03-21 00:02:33  30037     5573    8888    AA01731       AI26355   \n",
       "2 2022-03-21 00:02:34  30037     5573    8888    AA01731       AI26356   \n",
       "3 2022-03-21 00:02:36  30037     5573    8888    AA01731       AI26357   \n",
       "4 2022-03-21 00:02:37  30037     5573    8888    AA01731       AI26358   \n",
       "\n",
       "   operation operation_type  fare  route_code  line_code  stop_code  \n",
       "0  ORDINAIRE         Ticket   5.0           5        102      10069  \n",
       "1  ORDINAIRE         Ticket   5.0           5        102      10069  \n",
       "2  ORDINAIRE         Ticket   5.0           5        102      10069  \n",
       "3  ORDINAIRE         Ticket   5.0           5        102      10069  \n",
       "4  ORDINAIRE         Ticket   5.0           5        102      10069  "
      ]
     },
     "execution_count": 24,
     "metadata": {},
     "output_type": "execute_result"
    }
   ],
   "source": [
    "tickets.head()"
   ]
  },
  {
   "cell_type": "code",
   "execution_count": 25,
   "id": "43bff749",
   "metadata": {},
   "outputs": [
    {
     "name": "stdout",
     "output_type": "stream",
     "text": [
      "<class 'pandas.core.frame.DataFrame'>\n",
      "RangeIndex: 1251553 entries, 0 to 1251552\n",
      "Data columns (total 12 columns):\n",
      " #   Column          Non-Null Count    Dtype         \n",
      "---  ------          --------------    -----         \n",
      " 0   date            1251553 non-null  datetime64[ns]\n",
      " 1   bus             1251553 non-null  int64         \n",
      " 2   machine         1251553 non-null  int64         \n",
      " 3   driver          1251553 non-null  int64         \n",
      " 4   settlement      1251553 non-null  object        \n",
      " 5   ticket_number   1251553 non-null  object        \n",
      " 6   operation       1251553 non-null  object        \n",
      " 7   operation_type  1251553 non-null  object        \n",
      " 8   fare            1251553 non-null  float64       \n",
      " 9   route_code      1251553 non-null  int64         \n",
      " 10  line_code       1251553 non-null  int64         \n",
      " 11  stop_code       1251553 non-null  int64         \n",
      "dtypes: datetime64[ns](1), float64(1), int64(6), object(4)\n",
      "memory usage: 114.6+ MB\n"
     ]
    }
   ],
   "source": [
    "tickets.info()"
   ]
  },
  {
   "cell_type": "markdown",
   "id": "25f9da5f",
   "metadata": {},
   "source": [
    "#### Concateno los dataframes"
   ]
  },
  {
   "cell_type": "code",
   "execution_count": 26,
   "id": "d8f3fef2",
   "metadata": {},
   "outputs": [],
   "source": [
    "# Concateno todos los dataframes de billetes y tarjetas\n",
    "\n",
    "passengers = pd.concat([tickets, cards])\n"
   ]
  },
  {
   "cell_type": "code",
   "execution_count": 27,
   "id": "94560921",
   "metadata": {},
   "outputs": [],
   "source": [
    "# Convierto a csv los pasajeros\n",
    "\n",
    "passengers.to_csv('../data/pasajeros/passengers.csv', sep=',', index=False)\n"
   ]
  },
  {
   "cell_type": "markdown",
   "id": "7b387cb7",
   "metadata": {},
   "source": [
    "#### Topologia"
   ]
  },
  {
   "cell_type": "code",
   "execution_count": 28,
   "id": "f1b64e3f",
   "metadata": {},
   "outputs": [],
   "source": [
    "# Renombro las columnas\n",
    "\n",
    "columnas3 = {'route_code_gmv': 'route_code', 'route': 'route_name', 'route_name': 'route_name_int', 'stop_code_gmv': 'stop_code', 'stop_code_alsa': 'stop_code_int'}\n"
   ]
  },
  {
   "cell_type": "code",
   "execution_count": 29,
   "id": "98a5117c",
   "metadata": {},
   "outputs": [],
   "source": [
    "topologia = topologia.rename(columns=columnas3)"
   ]
  },
  {
   "cell_type": "code",
   "execution_count": 30,
   "id": "c0b0e26c",
   "metadata": {},
   "outputs": [
    {
     "data": {
      "text/html": [
       "<div>\n",
       "<style scoped>\n",
       "    .dataframe tbody tr th:only-of-type {\n",
       "        vertical-align: middle;\n",
       "    }\n",
       "\n",
       "    .dataframe tbody tr th {\n",
       "        vertical-align: top;\n",
       "    }\n",
       "\n",
       "    .dataframe thead th {\n",
       "        text-align: right;\n",
       "    }\n",
       "</style>\n",
       "<table border=\"1\" class=\"dataframe\">\n",
       "  <thead>\n",
       "    <tr style=\"text-align: right;\">\n",
       "      <th></th>\n",
       "      <th>route_code</th>\n",
       "      <th>route_name</th>\n",
       "      <th>route_name_int</th>\n",
       "      <th>line_code</th>\n",
       "      <th>line_name</th>\n",
       "      <th>stop_order</th>\n",
       "      <th>stop_code</th>\n",
       "      <th>stop_name</th>\n",
       "      <th>stop_code_int</th>\n",
       "      <th>latitude</th>\n",
       "      <th>longitude</th>\n",
       "    </tr>\n",
       "  </thead>\n",
       "  <tbody>\n",
       "    <tr>\n",
       "      <th>0</th>\n",
       "      <td>1</td>\n",
       "      <td>L1</td>\n",
       "      <td>L1 BAB CHELLAH-DOHA</td>\n",
       "      <td>103</td>\n",
       "      <td>BAB CHALLEH-DOHA</td>\n",
       "      <td>1</td>\n",
       "      <td>10005</td>\n",
       "      <td>Bab Chellah</td>\n",
       "      <td>73006</td>\n",
       "      <td>34,02329786</td>\n",
       "      <td>-6,834576334</td>\n",
       "    </tr>\n",
       "    <tr>\n",
       "      <th>1</th>\n",
       "      <td>1</td>\n",
       "      <td>L1</td>\n",
       "      <td>L1 BAB CHELLAH-DOHA</td>\n",
       "      <td>103</td>\n",
       "      <td>BAB CHALLEH-DOHA</td>\n",
       "      <td>2</td>\n",
       "      <td>10007</td>\n",
       "      <td>Bab Mellah</td>\n",
       "      <td>73008</td>\n",
       "      <td>34,02500069</td>\n",
       "      <td>-6,829615092</td>\n",
       "    </tr>\n",
       "    <tr>\n",
       "      <th>2</th>\n",
       "      <td>1</td>\n",
       "      <td>L1</td>\n",
       "      <td>L1 BAB CHELLAH-DOHA</td>\n",
       "      <td>103</td>\n",
       "      <td>BAB CHALLEH-DOHA</td>\n",
       "      <td>3</td>\n",
       "      <td>10044</td>\n",
       "      <td>Bab Khmiss</td>\n",
       "      <td>73046</td>\n",
       "      <td>34,03663288</td>\n",
       "      <td>-6,817232328</td>\n",
       "    </tr>\n",
       "    <tr>\n",
       "      <th>3</th>\n",
       "      <td>1</td>\n",
       "      <td>L1</td>\n",
       "      <td>L1 BAB CHELLAH-DOHA</td>\n",
       "      <td>103</td>\n",
       "      <td>BAB CHALLEH-DOHA</td>\n",
       "      <td>4</td>\n",
       "      <td>10046</td>\n",
       "      <td>Diar</td>\n",
       "      <td>73048</td>\n",
       "      <td>34,04143426</td>\n",
       "      <td>-6,816443938</td>\n",
       "    </tr>\n",
       "    <tr>\n",
       "      <th>4</th>\n",
       "      <td>1</td>\n",
       "      <td>L1</td>\n",
       "      <td>L1 BAB CHELLAH-DOHA</td>\n",
       "      <td>103</td>\n",
       "      <td>BAB CHALLEH-DOHA</td>\n",
       "      <td>5</td>\n",
       "      <td>10048</td>\n",
       "      <td>Mkinsiya</td>\n",
       "      <td>73050</td>\n",
       "      <td>34,04413576</td>\n",
       "      <td>-6,817705018</td>\n",
       "    </tr>\n",
       "  </tbody>\n",
       "</table>\n",
       "</div>"
      ],
      "text/plain": [
       "   route_code route_name       route_name_int  line_code         line_name  \\\n",
       "0           1         L1  L1 BAB CHELLAH-DOHA        103  BAB CHALLEH-DOHA   \n",
       "1           1         L1  L1 BAB CHELLAH-DOHA        103  BAB CHALLEH-DOHA   \n",
       "2           1         L1  L1 BAB CHELLAH-DOHA        103  BAB CHALLEH-DOHA   \n",
       "3           1         L1  L1 BAB CHELLAH-DOHA        103  BAB CHALLEH-DOHA   \n",
       "4           1         L1  L1 BAB CHELLAH-DOHA        103  BAB CHALLEH-DOHA   \n",
       "\n",
       "   stop_order  stop_code    stop_name  stop_code_int     latitude  \\\n",
       "0           1      10005  Bab Chellah          73006  34,02329786   \n",
       "1           2      10007   Bab Mellah          73008  34,02500069   \n",
       "2           3      10044   Bab Khmiss          73046  34,03663288   \n",
       "3           4      10046         Diar          73048  34,04143426   \n",
       "4           5      10048     Mkinsiya          73050  34,04413576   \n",
       "\n",
       "      longitude  \n",
       "0  -6,834576334  \n",
       "1  -6,829615092  \n",
       "2  -6,817232328  \n",
       "3  -6,816443938  \n",
       "4  -6,817705018  "
      ]
     },
     "execution_count": 30,
     "metadata": {},
     "output_type": "execute_result"
    }
   ],
   "source": [
    "topologia.head()"
   ]
  },
  {
   "cell_type": "code",
   "execution_count": 31,
   "id": "2673e275",
   "metadata": {},
   "outputs": [],
   "source": [
    "topologia = topologia.drop(['route_name_int'], axis=1)"
   ]
  },
  {
   "cell_type": "code",
   "execution_count": 32,
   "id": "ee13c97b",
   "metadata": {},
   "outputs": [],
   "source": [
    "topologia.line_name = topologia.line_name.fillna('AEROPORT-GARE AGDAL')"
   ]
  },
  {
   "cell_type": "code",
   "execution_count": 33,
   "id": "01f298cb",
   "metadata": {},
   "outputs": [],
   "source": [
    "topologia.to_csv('../data/pasajeros/topologia.csv', sep=',', index=False)"
   ]
  },
  {
   "cell_type": "markdown",
   "id": "10195b66",
   "metadata": {},
   "source": [
    "## Joins entre tablas (creo passenger_location)"
   ]
  },
  {
   "cell_type": "code",
   "execution_count": 34,
   "id": "9d1eabae",
   "metadata": {},
   "outputs": [
    {
     "data": {
      "text/html": [
       "<div>\n",
       "<style scoped>\n",
       "    .dataframe tbody tr th:only-of-type {\n",
       "        vertical-align: middle;\n",
       "    }\n",
       "\n",
       "    .dataframe tbody tr th {\n",
       "        vertical-align: top;\n",
       "    }\n",
       "\n",
       "    .dataframe thead th {\n",
       "        text-align: right;\n",
       "    }\n",
       "</style>\n",
       "<table border=\"1\" class=\"dataframe\">\n",
       "  <thead>\n",
       "    <tr style=\"text-align: right;\">\n",
       "      <th></th>\n",
       "      <th>date</th>\n",
       "      <th>bus</th>\n",
       "      <th>machine</th>\n",
       "      <th>driver</th>\n",
       "      <th>settlement</th>\n",
       "      <th>ticket_number</th>\n",
       "      <th>operation</th>\n",
       "      <th>operation_type</th>\n",
       "      <th>fare</th>\n",
       "      <th>route_code</th>\n",
       "      <th>line_code</th>\n",
       "      <th>stop_code</th>\n",
       "    </tr>\n",
       "  </thead>\n",
       "  <tbody>\n",
       "    <tr>\n",
       "      <th>0</th>\n",
       "      <td>2022-03-21 00:02:31</td>\n",
       "      <td>30037</td>\n",
       "      <td>5573</td>\n",
       "      <td>8888</td>\n",
       "      <td>AA01731</td>\n",
       "      <td>AI26354</td>\n",
       "      <td>ORDINAIRE</td>\n",
       "      <td>Ticket</td>\n",
       "      <td>5.0</td>\n",
       "      <td>5</td>\n",
       "      <td>102</td>\n",
       "      <td>10069</td>\n",
       "    </tr>\n",
       "    <tr>\n",
       "      <th>1</th>\n",
       "      <td>2022-03-21 00:02:33</td>\n",
       "      <td>30037</td>\n",
       "      <td>5573</td>\n",
       "      <td>8888</td>\n",
       "      <td>AA01731</td>\n",
       "      <td>AI26355</td>\n",
       "      <td>ORDINAIRE</td>\n",
       "      <td>Ticket</td>\n",
       "      <td>5.0</td>\n",
       "      <td>5</td>\n",
       "      <td>102</td>\n",
       "      <td>10069</td>\n",
       "    </tr>\n",
       "    <tr>\n",
       "      <th>2</th>\n",
       "      <td>2022-03-21 00:02:34</td>\n",
       "      <td>30037</td>\n",
       "      <td>5573</td>\n",
       "      <td>8888</td>\n",
       "      <td>AA01731</td>\n",
       "      <td>AI26356</td>\n",
       "      <td>ORDINAIRE</td>\n",
       "      <td>Ticket</td>\n",
       "      <td>5.0</td>\n",
       "      <td>5</td>\n",
       "      <td>102</td>\n",
       "      <td>10069</td>\n",
       "    </tr>\n",
       "    <tr>\n",
       "      <th>3</th>\n",
       "      <td>2022-03-21 00:02:36</td>\n",
       "      <td>30037</td>\n",
       "      <td>5573</td>\n",
       "      <td>8888</td>\n",
       "      <td>AA01731</td>\n",
       "      <td>AI26357</td>\n",
       "      <td>ORDINAIRE</td>\n",
       "      <td>Ticket</td>\n",
       "      <td>5.0</td>\n",
       "      <td>5</td>\n",
       "      <td>102</td>\n",
       "      <td>10069</td>\n",
       "    </tr>\n",
       "    <tr>\n",
       "      <th>4</th>\n",
       "      <td>2022-03-21 00:02:37</td>\n",
       "      <td>30037</td>\n",
       "      <td>5573</td>\n",
       "      <td>8888</td>\n",
       "      <td>AA01731</td>\n",
       "      <td>AI26358</td>\n",
       "      <td>ORDINAIRE</td>\n",
       "      <td>Ticket</td>\n",
       "      <td>5.0</td>\n",
       "      <td>5</td>\n",
       "      <td>102</td>\n",
       "      <td>10069</td>\n",
       "    </tr>\n",
       "  </tbody>\n",
       "</table>\n",
       "</div>"
      ],
      "text/plain": [
       "                 date    bus  machine  driver settlement ticket_number  \\\n",
       "0 2022-03-21 00:02:31  30037     5573    8888    AA01731       AI26354   \n",
       "1 2022-03-21 00:02:33  30037     5573    8888    AA01731       AI26355   \n",
       "2 2022-03-21 00:02:34  30037     5573    8888    AA01731       AI26356   \n",
       "3 2022-03-21 00:02:36  30037     5573    8888    AA01731       AI26357   \n",
       "4 2022-03-21 00:02:37  30037     5573    8888    AA01731       AI26358   \n",
       "\n",
       "   operation operation_type  fare  route_code  line_code  stop_code  \n",
       "0  ORDINAIRE         Ticket   5.0           5        102      10069  \n",
       "1  ORDINAIRE         Ticket   5.0           5        102      10069  \n",
       "2  ORDINAIRE         Ticket   5.0           5        102      10069  \n",
       "3  ORDINAIRE         Ticket   5.0           5        102      10069  \n",
       "4  ORDINAIRE         Ticket   5.0           5        102      10069  "
      ]
     },
     "execution_count": 34,
     "metadata": {},
     "output_type": "execute_result"
    }
   ],
   "source": [
    "passengers.head()"
   ]
  },
  {
   "cell_type": "markdown",
   "id": "755555b7",
   "metadata": {},
   "source": [
    "#### JOIN (REVISAR)"
   ]
  },
  {
   "cell_type": "code",
   "execution_count": 35,
   "id": "75d630f1",
   "metadata": {},
   "outputs": [],
   "source": [
    "# Hago un left join entre 'passengers'  y 'topologia' para obtener 'route_name', 'line_name', 'stop_order', 'stop_name', 'latitude', 'longitude' \n",
    "\n",
    "\n",
    "passenger_location = passengers.set_index(['route_code', 'line_code', 'stop_code']).join(topologia[['route_code', 'line_code', 'stop_code', 'route_name', 'line_name', 'stop_order', 'stop_name', 'latitude', 'longitude']].set_index(['route_code', 'line_code', 'stop_code']))\n"
   ]
  },
  {
   "cell_type": "code",
   "execution_count": 36,
   "id": "382e59d7",
   "metadata": {},
   "outputs": [],
   "source": [
    "# Reseteo el indice\n",
    "\n",
    "passenger_location.reset_index(inplace=True)"
   ]
  },
  {
   "cell_type": "code",
   "execution_count": 38,
   "id": "8e4a3797",
   "metadata": {},
   "outputs": [],
   "source": [
    "# Modifico el dataset en el que elimino todas las filas con algún datos nulos\n",
    "\n",
    "\n",
    "passenger_location = passenger_location[passenger_location[['route_name', 'line_name', 'stop_order', 'stop_name', 'latitude', 'longitude']].notnull().any(axis=1)]"
   ]
  },
  {
   "cell_type": "code",
   "execution_count": 39,
   "id": "5e318524",
   "metadata": {},
   "outputs": [],
   "source": [
    "# Ordeno las columnas\n",
    "\n",
    "column_names2 = [\"date\", \"bus\", \"machine\", \"driver\", \"settlement\", \"ticket_number\", \"operation\", \"operation_type\", \"fare\", \"route_code\",\"route_name\", \"line_code\", \"line_name\", \"stop_code\", \"stop_name\", \"stop_order\", \"latitude\", \"longitude\"]\n",
    "\n",
    "passenger_location = passenger_location.reindex(columns=column_names2)"
   ]
  },
  {
   "cell_type": "code",
   "execution_count": 40,
   "id": "ceba5c9d",
   "metadata": {},
   "outputs": [],
   "source": [
    "# Cambio el tipo de dato 'stop_order' a int\n",
    "\n",
    "passenger_location = passenger_location.astype({'stop_order': 'int64'})"
   ]
  },
  {
   "cell_type": "code",
   "execution_count": 43,
   "id": "eafa98e9",
   "metadata": {},
   "outputs": [
    {
     "name": "stdout",
     "output_type": "stream",
     "text": [
      "<class 'pandas.core.frame.DataFrame'>\n",
      "Int64Index: 1414810 entries, 0 to 1498342\n",
      "Data columns (total 18 columns):\n",
      " #   Column          Non-Null Count    Dtype         \n",
      "---  ------          --------------    -----         \n",
      " 0   date            1414810 non-null  datetime64[ns]\n",
      " 1   bus             1414810 non-null  int64         \n",
      " 2   machine         1414810 non-null  int64         \n",
      " 3   driver          1414810 non-null  int64         \n",
      " 4   settlement      1414810 non-null  object        \n",
      " 5   ticket_number   1414810 non-null  object        \n",
      " 6   operation       1414810 non-null  object        \n",
      " 7   operation_type  1414810 non-null  object        \n",
      " 8   fare            1414810 non-null  float64       \n",
      " 9   route_code      1414810 non-null  int64         \n",
      " 10  route_name      1414810 non-null  object        \n",
      " 11  line_code       1414810 non-null  int64         \n",
      " 12  line_name       1414810 non-null  object        \n",
      " 13  stop_code       1414810 non-null  int64         \n",
      " 14  stop_name       1414810 non-null  object        \n",
      " 15  stop_order      1414810 non-null  int64         \n",
      " 16  latitude        1414810 non-null  object        \n",
      " 17  longitude       1414810 non-null  object        \n",
      "dtypes: datetime64[ns](1), float64(1), int64(7), object(9)\n",
      "memory usage: 205.1+ MB\n"
     ]
    }
   ],
   "source": [
    "passenger_location.info()"
   ]
  },
  {
   "cell_type": "code",
   "execution_count": 41,
   "id": "bf2f6646",
   "metadata": {},
   "outputs": [],
   "source": [
    "# Convierto a csv los pasajeros\n",
    "\n",
    "passenger_location.to_csv('../data/pasajeros/passenger_location.csv', sep=',', index=False)"
   ]
  },
  {
   "cell_type": "code",
   "execution_count": null,
   "id": "c7ec7d8d",
   "metadata": {},
   "outputs": [],
   "source": []
  }
 ],
 "metadata": {
  "kernelspec": {
   "display_name": "clase",
   "language": "python",
   "name": "clase"
  },
  "language_info": {
   "codemirror_mode": {
    "name": "ipython",
    "version": 3
   },
   "file_extension": ".py",
   "mimetype": "text/x-python",
   "name": "python",
   "nbconvert_exporter": "python",
   "pygments_lexer": "ipython3",
   "version": "3.9.7"
  }
 },
 "nbformat": 4,
 "nbformat_minor": 5
}
