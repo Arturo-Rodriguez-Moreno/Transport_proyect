{
 "cells": [
  {
   "cell_type": "code",
   "execution_count": 1,
   "id": "dc0004f4",
   "metadata": {},
   "outputs": [],
   "source": [
    "import pandas as pd\n",
    "import numpy as np\n",
    "\n",
    "pd.set_option('display.max_columns', None)  # es para enseñar todas las columnas del df\n",
    "#pd.set_option('display.max_rows', None)     # es para enseñar todas las filas del df\n",
    "\n",
    "\n",
    "import warnings\n",
    "warnings.simplefilter('ignore')   # es para quitar warnings"
   ]
  },
  {
   "cell_type": "code",
   "execution_count": 2,
   "id": "373d6a73",
   "metadata": {},
   "outputs": [],
   "source": [
    "# Leo archivos\n",
    "\n",
    "topologia2 = pd.read_csv('../data/pasajeros/topologia2.csv')\n",
    "passengers = pd.read_csv('../data/pasajeros/passengers.csv')"
   ]
  },
  {
   "cell_type": "code",
   "execution_count": 3,
   "id": "5d555a51",
   "metadata": {},
   "outputs": [
    {
     "name": "stdout",
     "output_type": "stream",
     "text": [
      "<class 'pandas.core.frame.DataFrame'>\n",
      "RangeIndex: 2653 entries, 0 to 2652\n",
      "Data columns (total 10 columns):\n",
      " #   Column         Non-Null Count  Dtype  \n",
      "---  ------         --------------  -----  \n",
      " 0   route_code     2653 non-null   int64  \n",
      " 1   route_name     2653 non-null   object \n",
      " 2   line_code      2653 non-null   int64  \n",
      " 3   line_name      2653 non-null   object \n",
      " 4   stop_order     2653 non-null   int64  \n",
      " 5   stop_code      2653 non-null   int64  \n",
      " 6   stop_name      2653 non-null   object \n",
      " 7   stop_code_int  2653 non-null   int64  \n",
      " 8   latitude       2653 non-null   float64\n",
      " 9   longitude      2653 non-null   float64\n",
      "dtypes: float64(2), int64(5), object(3)\n",
      "memory usage: 207.4+ KB\n"
     ]
    }
   ],
   "source": [
    "topologia2.info()"
   ]
  },
  {
   "cell_type": "markdown",
   "id": "017a50f3",
   "metadata": {},
   "source": [
    "## Topologia 2"
   ]
  },
  {
   "cell_type": "code",
   "execution_count": 4,
   "id": "d1634e82",
   "metadata": {},
   "outputs": [],
   "source": [
    "# Agrupo por 'route_code', 'line_code'\n",
    "\n",
    "df = topologia2.groupby(['route_code', 'line_code']).agg({'route_name': [lambda x:x.value_counts().index[0]], 'line_name':[lambda x:x.value_counts().index[0]]})"
   ]
  },
  {
   "cell_type": "code",
   "execution_count": 5,
   "id": "adf8d7ba",
   "metadata": {},
   "outputs": [],
   "source": [
    "# Renombro las columnas \n",
    "\n",
    "lista=[]\n",
    "for i in range(len(df.columns)):\n",
    "    lista.append(df.columns[i][0])\n",
    "df.columns= lista"
   ]
  },
  {
   "cell_type": "code",
   "execution_count": 6,
   "id": "bd6bbadb",
   "metadata": {},
   "outputs": [],
   "source": [
    "# Reseteo el indice\n",
    "\n",
    "df.reset_index(inplace=True)"
   ]
  },
  {
   "cell_type": "code",
   "execution_count": 7,
   "id": "9c3534be",
   "metadata": {},
   "outputs": [],
   "source": [
    "# Agrupo por 'stop_code'\n",
    "\n",
    "df1 = topologia2.groupby(['stop_code']).agg({'stop_name': [lambda x:x.value_counts().index[0]], 'latitude':[lambda x:x.value_counts().index[0]], 'longitude':[lambda x:x.value_counts().index[0]]})"
   ]
  },
  {
   "cell_type": "code",
   "execution_count": 8,
   "id": "f76bb246",
   "metadata": {},
   "outputs": [],
   "source": [
    "# Renombro las columnas\n",
    "\n",
    "lista=[]\n",
    "for i in range(len(df1.columns)):\n",
    "    lista.append(df1.columns[i][0])\n",
    "df1.columns= lista"
   ]
  },
  {
   "cell_type": "code",
   "execution_count": 9,
   "id": "89b422e3",
   "metadata": {},
   "outputs": [],
   "source": [
    "# Reseteo el indice\n",
    "\n",
    "df1.reset_index(inplace=True)"
   ]
  },
  {
   "cell_type": "markdown",
   "id": "ae2eec44",
   "metadata": {},
   "source": [
    "## Passenger_location2"
   ]
  },
  {
   "cell_type": "code",
   "execution_count": 10,
   "id": "aa0b1ab8",
   "metadata": {},
   "outputs": [],
   "source": [
    "# Join entre passengers y df para introducir 'route_name', 'line_name'\n",
    "\n",
    "passenger_location2 = passengers.set_index(['route_code', 'line_code']).join(df[['route_code', 'line_code', 'route_name', 'line_name']].set_index(['route_code', 'line_code']))"
   ]
  },
  {
   "cell_type": "code",
   "execution_count": 11,
   "id": "a757d731",
   "metadata": {},
   "outputs": [],
   "source": [
    "# Reseteo el indice\n",
    "\n",
    "passenger_location2.reset_index(inplace=True)"
   ]
  },
  {
   "cell_type": "code",
   "execution_count": 12,
   "id": "7ec690ea",
   "metadata": {},
   "outputs": [],
   "source": [
    "# Join entre passenger_location2 y df para introducir 'stop_name', 'latitude', 'longitude'\n",
    "\n",
    "passenger_location2 = passenger_location2.set_index(['stop_code']).join(df1[['stop_code', 'stop_name','latitude', 'longitude']].set_index(['stop_code']))"
   ]
  },
  {
   "cell_type": "code",
   "execution_count": 13,
   "id": "ca8898bc",
   "metadata": {},
   "outputs": [],
   "source": [
    "# Reseteo el indice\n",
    "\n",
    "passenger_location2.reset_index(inplace=True)"
   ]
  },
  {
   "cell_type": "code",
   "execution_count": 14,
   "id": "824b20d6",
   "metadata": {},
   "outputs": [],
   "source": [
    "# Ordeno las columnas\n",
    "\n",
    "column_names2 = [\"date\", \"bus\", \"machine\", \"driver\", \"settlement\", \"ticket_number\", \"operation\", \"operation_type\", \"fare\", \"route_code\",\"route_name\", \"line_code\", \"line_name\", \"stop_code\", \"stop_name\", \"latitude\", \"longitude\"]\n",
    "\n",
    "passenger_location2 = passenger_location2.reindex(columns=column_names2)"
   ]
  },
  {
   "cell_type": "code",
   "execution_count": 15,
   "id": "a2e423b5",
   "metadata": {},
   "outputs": [],
   "source": [
    "# Convierto a csv los pasajeros\n",
    "\n",
    "passenger_location2.to_csv('../data/pasajeros/passenger_location2.csv', sep=',', index=False)"
   ]
  },
  {
   "cell_type": "code",
   "execution_count": null,
   "id": "68d1035f",
   "metadata": {},
   "outputs": [],
   "source": []
  },
  {
   "cell_type": "markdown",
   "id": "aa71ea8e",
   "metadata": {},
   "source": [
    "**Revisar cuando tenga mas tiempo, las lineas 400 y 306**\n",
    "\n",
    "Ver como puedo modificar añadir el el nombre de linea y routa"
   ]
  },
  {
   "cell_type": "code",
   "execution_count": 25,
   "id": "aac291bd",
   "metadata": {},
   "outputs": [],
   "source": [
    "# Relleno la columna de line_name y route_name de la Route 38 \n",
    "\n",
    "passenger_location2.line_name[(passenger_location2.route_code==38) & (passenger_location2.line_code == 104)] = passenger_location2.line_name[(passenger_location2.route_code==38) & (passenger_location2.line_code == 104)].fillna('BAB EL HAD-TAMESSNA')\n",
    "\n",
    "passenger_location2.line_name[(passenger_location2.route_code==38) & (passenger_location2.line_code == 203)] = passenger_location2.line_name[(passenger_location2.route_code==38) & (passenger_location2.line_code == 203)].fillna('TAMESSNA-BAB EL HAD')\n",
    "\n",
    "passenger_location2.line_name[(passenger_location2.route_code==38) & (passenger_location2.line_code == 204)] = passenger_location2.line_name[(passenger_location2.route_code==38) & (passenger_location2.line_code == 204)].fillna('TAMESSNA-BAB EL HAD')\n",
    "\n",
    "passenger_location2.route_name[(passenger_location2.route_code==38)] = passenger_location2.route_name[(passenger_location2.route_code==38)].fillna('L38')"
   ]
  },
  {
   "cell_type": "code",
   "execution_count": 27,
   "id": "a523443c",
   "metadata": {},
   "outputs": [],
   "source": [
    "# Relleno la columna de line_name y route_name de la Route 400 and line 201\n",
    "\n",
    "passenger_location2.line_name[(passenger_location2.route_code==400) & (passenger_location2.line_code == 201)]=passenger_location2.line_name[(passenger_location2.route_code==400) & (passenger_location2.line_code == 201)].fillna('GARE AGDAL-AEROPORT')\n",
    "\n",
    "passenger_location2.route_name[(passenger_location2.route_code==400)]=passenger_location2.route_name[(passenger_location2.route_code==400)].fillna('AE')"
   ]
  },
  {
   "cell_type": "code",
   "execution_count": null,
   "id": "21103a41",
   "metadata": {},
   "outputs": [],
   "source": [
    "'''# Relleno la columna de line_name y route_name de la Route 306\n",
    "\n",
    "passenger_location2[(passenger_location2.route_code==306) & (passenger_location2.line_code == 102)].line_name.fillna('')\n",
    "\n",
    "passenger_location2[(passenger_location2.route_code==306) & (passenger_location2.line_code == 202)].line_name.fillna('')\n",
    "\n",
    "passenger_location2[(passenger_location2.route_code==306)].route_name.fillna('')'''"
   ]
  },
  {
   "cell_type": "code",
   "execution_count": null,
   "id": "e29b195a",
   "metadata": {},
   "outputs": [],
   "source": [
    "topologia = topologia.astype({\"latitude\": object, \"longitude\": object}) "
   ]
  },
  {
   "cell_type": "code",
   "execution_count": 41,
   "id": "c0d1223a",
   "metadata": {},
   "outputs": [],
   "source": [
    "# Modifico el dataset en el que elimino todas las filas con algún datos nulos\n",
    "\n",
    "\n",
    "passenger_location2 = passenger_location2[passenger_location2[['route_name', 'line_name', 'stop_name', 'latitude', 'longitude']].notnull().all(axis=1)]"
   ]
  },
  {
   "cell_type": "code",
   "execution_count": 43,
   "id": "9b109a61",
   "metadata": {},
   "outputs": [],
   "source": [
    "passenger_location2 = passenger_location2.astype({\"latitude\": object, \"longitude\": object}) "
   ]
  },
  {
   "cell_type": "code",
   "execution_count": 45,
   "id": "cb216931",
   "metadata": {},
   "outputs": [],
   "source": [
    "# Convierto a csv los pasajeros\n",
    "\n",
    "passenger_location2.to_csv('../data/pasajeros/passenger_location2.csv', sep=',', index=False)"
   ]
  },
  {
   "cell_type": "code",
   "execution_count": null,
   "id": "19bce624",
   "metadata": {},
   "outputs": [],
   "source": []
  }
 ],
 "metadata": {
  "kernelspec": {
   "display_name": "clase",
   "language": "python",
   "name": "clase"
  },
  "language_info": {
   "codemirror_mode": {
    "name": "ipython",
    "version": 3
   },
   "file_extension": ".py",
   "mimetype": "text/x-python",
   "name": "python",
   "nbconvert_exporter": "python",
   "pygments_lexer": "ipython3",
   "version": "3.9.7"
  }
 },
 "nbformat": 4,
 "nbformat_minor": 5
}
