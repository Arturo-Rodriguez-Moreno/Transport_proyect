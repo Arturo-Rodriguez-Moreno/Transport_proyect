{
 "cells": [
  {
   "cell_type": "code",
   "execution_count": 1,
   "id": "c9eb8725",
   "metadata": {},
   "outputs": [],
   "source": [
    "import pandas as pd\n",
    "import numpy as np\n",
    "\n",
    "pd.set_option('display.max_columns', None)  # es para enseñar todas las columnas del df\n",
    "#pd.set_option('display.max_rows', None)     # es para enseñar todas las filas del df\n",
    "\n",
    "\n",
    "import warnings\n",
    "warnings.simplefilter('ignore')   # es para quitar warnings"
   ]
  },
  {
   "cell_type": "code",
   "execution_count": 2,
   "id": "702e36db",
   "metadata": {},
   "outputs": [],
   "source": [
    "# Leo archivos\n",
    "\n",
    "topologia2 = pd.read_csv('../data/pasajeros/topologia2.csv')\n",
    "passengers = pd.read_csv('../data/pasajeros/passengers.csv')"
   ]
  },
  {
   "cell_type": "code",
   "execution_count": 3,
   "id": "f28858e5",
   "metadata": {},
   "outputs": [
    {
     "name": "stdout",
     "output_type": "stream",
     "text": [
      "<class 'pandas.core.frame.DataFrame'>\n",
      "RangeIndex: 2653 entries, 0 to 2652\n",
      "Data columns (total 10 columns):\n",
      " #   Column         Non-Null Count  Dtype  \n",
      "---  ------         --------------  -----  \n",
      " 0   route_code     2653 non-null   int64  \n",
      " 1   route_name     2653 non-null   object \n",
      " 2   line_code      2653 non-null   int64  \n",
      " 3   line_name      2653 non-null   object \n",
      " 4   stop_order     2653 non-null   int64  \n",
      " 5   stop_code      2653 non-null   int64  \n",
      " 6   stop_name      2653 non-null   object \n",
      " 7   stop_code_int  2653 non-null   int64  \n",
      " 8   latitude       2653 non-null   float64\n",
      " 9   longitude      2653 non-null   float64\n",
      "dtypes: float64(2), int64(5), object(3)\n",
      "memory usage: 207.4+ KB\n"
     ]
    }
   ],
   "source": [
    "topologia2.info()"
   ]
  },
  {
   "cell_type": "markdown",
   "id": "b6d9cd7a",
   "metadata": {},
   "source": [
    "## Topologia 2"
   ]
  },
  {
   "cell_type": "code",
   "execution_count": 4,
   "id": "9c98ba00",
   "metadata": {},
   "outputs": [],
   "source": [
    "# Agrupo por 'route_code', 'line_code'\n",
    "\n",
    "df = topologia2.groupby(['route_code', 'line_code']).agg({'route_name': [lambda x:x.value_counts().index[0]], 'line_name':[lambda x:x.value_counts().index[0]]})"
   ]
  },
  {
   "cell_type": "code",
   "execution_count": 5,
   "id": "825c41d6",
   "metadata": {},
   "outputs": [],
   "source": [
    "# Renombro las columnas \n",
    "\n",
    "lista=[]\n",
    "for i in range(len(df.columns)):\n",
    "    lista.append(df.columns[i][0])\n",
    "df.columns= lista"
   ]
  },
  {
   "cell_type": "code",
   "execution_count": 6,
   "id": "2cbb4514",
   "metadata": {},
   "outputs": [],
   "source": [
    "# Reseteo el indice\n",
    "\n",
    "df.reset_index(inplace=True)"
   ]
  },
  {
   "cell_type": "code",
   "execution_count": 7,
   "id": "bd55c765",
   "metadata": {},
   "outputs": [],
   "source": [
    "# Agrupo por 'stop_code'\n",
    "\n",
    "df1 = topologia2.groupby(['stop_code']).agg({'stop_name': [lambda x:x.value_counts().index[0]], 'latitude':[lambda x:x.value_counts().index[0]], 'longitude':[lambda x:x.value_counts().index[0]]})"
   ]
  },
  {
   "cell_type": "code",
   "execution_count": 8,
   "id": "072b97e9",
   "metadata": {},
   "outputs": [],
   "source": [
    "# Renombro las columnas\n",
    "\n",
    "lista=[]\n",
    "for i in range(len(df1.columns)):\n",
    "    lista.append(df1.columns[i][0])\n",
    "df1.columns= lista"
   ]
  },
  {
   "cell_type": "code",
   "execution_count": 9,
   "id": "f350c73d",
   "metadata": {},
   "outputs": [],
   "source": [
    "# Reseteo el indice\n",
    "\n",
    "df1.reset_index(inplace=True)"
   ]
  },
  {
   "cell_type": "markdown",
   "id": "927b10ff",
   "metadata": {},
   "source": [
    "## Passenger_location2"
   ]
  },
  {
   "cell_type": "code",
   "execution_count": 10,
   "id": "74ddb901",
   "metadata": {},
   "outputs": [],
   "source": [
    "# Join entre passengers y df para introducir 'route_name', 'line_name'\n",
    "\n",
    "passenger_location2 = passengers.set_index(['route_code', 'line_code']).join(df[['route_code', 'line_code', 'route_name', 'line_name']].set_index(['route_code', 'line_code']))"
   ]
  },
  {
   "cell_type": "code",
   "execution_count": 11,
   "id": "b3ec80f5",
   "metadata": {},
   "outputs": [],
   "source": [
    "# Reseteo el indice\n",
    "\n",
    "passenger_location2.reset_index(inplace=True)"
   ]
  },
  {
   "cell_type": "code",
   "execution_count": 12,
   "id": "bfba9dca",
   "metadata": {},
   "outputs": [],
   "source": [
    "# Join entre passenger_location2 y df para introducir 'stop_name', 'latitude', 'longitude'\n",
    "\n",
    "passenger_location2 = passenger_location2.set_index(['stop_code']).join(df1[['stop_code', 'stop_name','latitude', 'longitude']].set_index(['stop_code']))"
   ]
  },
  {
   "cell_type": "code",
   "execution_count": 13,
   "id": "41a53fda",
   "metadata": {},
   "outputs": [],
   "source": [
    "# Reseteo el indice\n",
    "\n",
    "passenger_location2.reset_index(inplace=True)"
   ]
  },
  {
   "cell_type": "code",
   "execution_count": 14,
   "id": "e9f21744",
   "metadata": {},
   "outputs": [],
   "source": [
    "# Ordeno las columnas\n",
    "\n",
    "column_names2 = [\"date\", \"bus\", \"machine\", \"driver\", \"settlement\", \"ticket_number\", \"operation\", \"operation_type\", \"fare\", \"route_code\",\"route_name\", \"line_code\", \"line_name\", \"stop_code\", \"stop_name\", \"latitude\", \"longitude\"]\n",
    "\n",
    "passenger_location2 = passenger_location2.reindex(columns=column_names2)"
   ]
  },
  {
   "cell_type": "code",
   "execution_count": 15,
   "id": "9d45db1a",
   "metadata": {},
   "outputs": [],
   "source": [
    "# Convierto a csv los pasajeros\n",
    "\n",
    "passenger_location2.to_csv('../data/pasajeros/passenger_location2.csv', sep=',', index=False)"
   ]
  },
  {
   "cell_type": "code",
   "execution_count": null,
   "id": "76f6db71",
   "metadata": {},
   "outputs": [],
   "source": []
  },
  {
   "cell_type": "markdown",
   "id": "4bfd713b",
   "metadata": {},
   "source": [
    "**Revisar cuando tenga mas tiempo, las lineas 400 y 306**\n",
    "\n",
    "Ver como puedo modificar añadir el el nombre de linea y routa"
   ]
  },
  {
   "cell_type": "code",
   "execution_count": 25,
   "id": "336434d8",
   "metadata": {},
   "outputs": [],
   "source": [
    "# Relleno la columna de line_name y route_name de la Route 38 \n",
    "\n",
    "passenger_location2.line_name[(passenger_location2.route_code==38) & (passenger_location2.line_code == 104)] = passenger_location2.line_name[(passenger_location2.route_code==38) & (passenger_location2.line_code == 104)].fillna('BAB EL HAD-TAMESSNA')\n",
    "\n",
    "passenger_location2.line_name[(passenger_location2.route_code==38) & (passenger_location2.line_code == 203)] = passenger_location2.line_name[(passenger_location2.route_code==38) & (passenger_location2.line_code == 203)].fillna('TAMESSNA-BAB EL HAD')\n",
    "\n",
    "passenger_location2.line_name[(passenger_location2.route_code==38) & (passenger_location2.line_code == 204)] = passenger_location2.line_name[(passenger_location2.route_code==38) & (passenger_location2.line_code == 204)].fillna('TAMESSNA-BAB EL HAD')\n",
    "\n",
    "passenger_location2.route_name[(passenger_location2.route_code==38)] = passenger_location2.route_name[(passenger_location2.route_code==38)].fillna('L38')"
   ]
  },
  {
   "cell_type": "code",
   "execution_count": 27,
   "id": "6f8e7013",
   "metadata": {},
   "outputs": [],
   "source": [
    "# Relleno la columna de line_name y route_name de la Route 400 and line 201\n",
    "\n",
    "passenger_location2.line_name[(passenger_location2.route_code==400) & (passenger_location2.line_code == 201)]=passenger_location2.line_name[(passenger_location2.route_code==400) & (passenger_location2.line_code == 201)].fillna('GARE AGDAL-AEROPORT')\n",
    "\n",
    "passenger_location2.route_name[(passenger_location2.route_code==400)]=passenger_location2.route_name[(passenger_location2.route_code==400)].fillna('AE')"
   ]
  },
  {
   "cell_type": "code",
   "execution_count": null,
   "id": "c2390301",
   "metadata": {},
   "outputs": [],
   "source": [
    "'''# Relleno la columna de line_name y route_name de la Route 306\n",
    "\n",
    "passenger_location2[(passenger_location2.route_code==306) & (passenger_location2.line_code == 102)].line_name.fillna('')\n",
    "\n",
    "passenger_location2[(passenger_location2.route_code==306) & (passenger_location2.line_code == 202)].line_name.fillna('')\n",
    "\n",
    "passenger_location2[(passenger_location2.route_code==306)].route_name.fillna('')'''"
   ]
  },
  {
   "cell_type": "code",
   "execution_count": null,
   "id": "fd7d6868",
   "metadata": {},
   "outputs": [],
   "source": [
    "topologia = topologia.astype({\"latitude\": object, \"longitude\": object}) "
   ]
  },
  {
   "cell_type": "code",
   "execution_count": 41,
   "id": "6dccce0e",
   "metadata": {},
   "outputs": [],
   "source": [
    "# Modifico el dataset en el que elimino todas las filas con algún datos nulos\n",
    "\n",
    "\n",
    "passenger_location2 = passenger_location2[passenger_location2[['route_name', 'line_name', 'stop_name', 'latitude', 'longitude']].notnull().all(axis=1)]"
   ]
  },
  {
   "cell_type": "code",
   "execution_count": 43,
   "id": "8cbfca81",
   "metadata": {},
   "outputs": [],
   "source": [
    "passenger_location2 = passenger_location2.astype({\"latitude\": object, \"longitude\": object}) "
   ]
  },
  {
   "cell_type": "code",
   "execution_count": 45,
   "id": "2cfee97d",
   "metadata": {},
   "outputs": [],
   "source": [
    "# Convierto a csv los pasajeros\n",
    "\n",
    "passenger_location2.to_csv('../data/pasajeros/passenger_location2.csv', sep=',', index=False)"
   ]
  },
  {
   "cell_type": "code",
   "execution_count": 46,
   "id": "db9141e5",
   "metadata": {},
   "outputs": [
    {
     "name": "stdout",
     "output_type": "stream",
     "text": [
      "<class 'pandas.core.frame.DataFrame'>\n",
      "Int64Index: 1461650 entries, 187 to 1480810\n",
      "Data columns (total 17 columns):\n",
      " #   Column          Non-Null Count    Dtype  \n",
      "---  ------          --------------    -----  \n",
      " 0   date            1461650 non-null  object \n",
      " 1   bus             1461650 non-null  int64  \n",
      " 2   machine         1461650 non-null  int64  \n",
      " 3   driver          1461650 non-null  int64  \n",
      " 4   settlement      1461650 non-null  object \n",
      " 5   ticket_number   1461650 non-null  object \n",
      " 6   operation       1461650 non-null  object \n",
      " 7   operation_type  1461650 non-null  object \n",
      " 8   fare            1461650 non-null  float64\n",
      " 9   route_code      1461650 non-null  int64  \n",
      " 10  route_name      1461650 non-null  object \n",
      " 11  line_code       1461650 non-null  int64  \n",
      " 12  line_name       1461650 non-null  object \n",
      " 13  stop_code       1461650 non-null  int64  \n",
      " 14  stop_name       1461650 non-null  object \n",
      " 15  latitude        1461650 non-null  object \n",
      " 16  longitude       1461650 non-null  object \n",
      "dtypes: float64(1), int64(6), object(10)\n",
      "memory usage: 200.7+ MB\n"
     ]
    }
   ],
   "source": [
    "passenger_location2.info()"
   ]
  },
  {
   "cell_type": "code",
   "execution_count": null,
   "id": "0cb5b3d2",
   "metadata": {},
   "outputs": [],
   "source": []
  }
 ],
 "metadata": {
  "kernelspec": {
   "display_name": "clase",
   "language": "python",
   "name": "clase"
  },
  "language_info": {
   "codemirror_mode": {
    "name": "ipython",
    "version": 3
   },
   "file_extension": ".py",
   "mimetype": "text/x-python",
   "name": "python",
   "nbconvert_exporter": "python",
   "pygments_lexer": "ipython3",
   "version": "3.9.7"
  }
 },
 "nbformat": 4,
 "nbformat_minor": 5
}
