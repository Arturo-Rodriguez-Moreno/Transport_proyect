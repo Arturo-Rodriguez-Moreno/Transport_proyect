{
 "cells": [
  {
   "cell_type": "code",
   "execution_count": 1,
   "id": "f47fbfe2",
   "metadata": {},
   "outputs": [],
   "source": [
    "import pandas as pd\n",
    "import numpy as np\n",
    "\n",
    "pd.set_option('display.max_columns', None)  # es para enseñar todas las columnas del df\n",
    "#pd.set_option('display.max_rows', None)     # es para enseñar todas las filas del df\n",
    "\n",
    "\n",
    "import warnings\n",
    "warnings.simplefilter('ignore')   # es para quitar warnings"
   ]
  },
  {
   "cell_type": "markdown",
   "id": "81559eb2",
   "metadata": {},
   "source": [
    "## Topologia"
   ]
  },
  {
   "cell_type": "code",
   "execution_count": 2,
   "id": "6ab54d89",
   "metadata": {},
   "outputs": [],
   "source": [
    "# Cargo el archivo de topologia\n",
    "\n",
    "topologia = pd.read_excel('../data/topologia_2.xlsx')\n",
    "\n",
    "# Modificio las columnas a minusculas y sin espacios.\n",
    "\n",
    "topologia.columns=[c.lower().replace(' ', '_') for c in topologia.columns]\n",
    "\n",
    "# Convierto a csv los tickets\n",
    "\n",
    "# topologia.to_csv('../data/pasajeros/topologia.csv', sep=',', index=False)"
   ]
  },
  {
   "cell_type": "code",
   "execution_count": 4,
   "id": "9a322018",
   "metadata": {},
   "outputs": [],
   "source": [
    "# Renombro las columnas\n",
    "\n",
    "columnas3 = {'route_code_gmv': 'route_code', 'route': 'route_name', 'route_name': 'route_name_int', 'stop_code_gmv': 'stop_code', 'stop_code_alsa': 'stop_code_int'}\n",
    "\n",
    "topologia = topologia.rename(columns=columnas3)"
   ]
  },
  {
   "cell_type": "code",
   "execution_count": 6,
   "id": "504b3cde",
   "metadata": {},
   "outputs": [],
   "source": [
    "topologia = topologia.drop(['route_name_int'], axis=1)"
   ]
  },
  {
   "cell_type": "code",
   "execution_count": 8,
   "id": "c9a2ebbe",
   "metadata": {},
   "outputs": [],
   "source": [
    "topologia.line_name = topologia.line_name.fillna('AEROPORT-GARE AGDAL')"
   ]
  },
  {
   "cell_type": "code",
   "execution_count": 10,
   "id": "982c1136",
   "metadata": {},
   "outputs": [],
   "source": [
    "topologia = topologia.astype({\"latitude\": object, \"longitude\": object}) "
   ]
  },
  {
   "cell_type": "code",
   "execution_count": 13,
   "id": "4dea5430",
   "metadata": {},
   "outputs": [],
   "source": [
    "# Elimino todos los duplicados entre 'RouteId','LineId','PublicCode', para quedarme con la última version de la ruta.\n",
    "\n",
    "topologia = topologia.drop_duplicates(subset=['route_code','line_code', 'stop_order'], keep='first')"
   ]
  },
  {
   "cell_type": "code",
   "execution_count": 15,
   "id": "65a90735",
   "metadata": {},
   "outputs": [],
   "source": [
    "topologia.to_csv('../data/pasajeros/topologia2.csv', sep=',', index=False)"
   ]
  }
 ],
 "metadata": {
  "kernelspec": {
   "display_name": "clase",
   "language": "python",
   "name": "clase"
  },
  "language_info": {
   "codemirror_mode": {
    "name": "ipython",
    "version": 3
   },
   "file_extension": ".py",
   "mimetype": "text/x-python",
   "name": "python",
   "nbconvert_exporter": "python",
   "pygments_lexer": "ipython3",
   "version": "3.9.7"
  }
 },
 "nbformat": 4,
 "nbformat_minor": 5
}
