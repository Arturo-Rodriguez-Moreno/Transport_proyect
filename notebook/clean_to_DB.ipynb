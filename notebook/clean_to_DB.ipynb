{
 "cells": [
  {
   "cell_type": "code",
   "execution_count": 1,
   "id": "30482061",
   "metadata": {},
   "outputs": [],
   "source": [
    "import pandas as pd\n",
    "import numpy as np\n",
    "\n",
    "pd.set_option('display.max_columns', None)  # es para enseñar todas las columnas del df\n",
    "#pd.set_option('display.max_rows', None)     # es para enseñar todas las filas del df\n",
    "\n",
    "\n",
    "import warnings\n",
    "warnings.simplefilter('ignore')   # es para quitar warnings"
   ]
  },
  {
   "cell_type": "markdown",
   "id": "c361ee9f",
   "metadata": {},
   "source": [
    "## Cargo datos"
   ]
  },
  {
   "cell_type": "code",
   "execution_count": 2,
   "id": "c11aea91",
   "metadata": {},
   "outputs": [
    {
     "data": {
      "text/plain": [
       "\"# Exporto a csv\\n\\nstop.to_csv('../data/topologia_lineas/stop.csv', sep=',', index=False)\\nfleet.to_csv('../data/topologia_lineas/fleet.csv', sep=',', index=False)\\nlines_version.to_csv('../data/topologia_lineas/lines_version.csv', sep=',', index=False)\\nstops_routes.to_csv('../data/topologia_lineas/stops_routes.csv', sep=',', index=False)\\nstops_version.to_csv('../data/topologia_lineas/stops_version.csv', sep=',', index=False)\\nlines.to_csv('../data/topologia_lineas/lines.csv', sep=',', index=False)\\nroutes.to_csv('../data/topologia_lineas/routes.csv', sep=',', index=False)\\nvehicles.to_csv('../data/topologia_lineas/vehicles.csv', sep=',', index=False)\\n\""
      ]
     },
     "execution_count": 2,
     "metadata": {},
     "output_type": "execute_result"
    }
   ],
   "source": [
    "# Cargo de datos del excel\n",
    "\n",
    "'''stop = pd.read_excel('../data/selectsvistas/VIEW_TOPOLOGY_STOPS.xlsx')\n",
    "fleet = pd.read_excel('../data/selectsvistas/view_FLEETS.xlsx')\n",
    "lines_version = pd.read_excel('../data/selectsvistas/VIEW_TOPOLOGY_LINES_VERSION.xlsx')\n",
    "stops_routes = pd.read_excel('../data/selectsvistas/VIEW_TOPOLOGY_STOPS_ROUTES.xlsx')\n",
    "stops_version = pd.read_excel('../data/selectsvistas/VIEW_TOPOLOGY_STOPS_VERSION.xlsx')\n",
    "lines = pd.read_excel('../data/selectsvistas/VIEW_TOPOOGY_LINES.xlsx')\n",
    "routes = pd.read_excel('../data/selectsvistas/VIEW_TOPOOGY_ROUTES.xlsx')\n",
    "vehicles = pd.read_excel('../data/selectsvistas/VIEW_VEHICLES.xlsx')'''\n",
    "\n",
    "# Exporto a csv para leer mas rápido\n",
    "\n",
    "'''# Exporto a csv\n",
    "\n",
    "stop.to_csv('../data/topologia_lineas/stop.csv', sep=',', index=False)\n",
    "fleet.to_csv('../data/topologia_lineas/fleet.csv', sep=',', index=False)\n",
    "lines_version.to_csv('../data/topologia_lineas/lines_version.csv', sep=',', index=False)\n",
    "stops_routes.to_csv('../data/topologia_lineas/stops_routes.csv', sep=',', index=False)\n",
    "stops_version.to_csv('../data/topologia_lineas/stops_version.csv', sep=',', index=False)\n",
    "lines.to_csv('../data/topologia_lineas/lines.csv', sep=',', index=False)\n",
    "routes.to_csv('../data/topologia_lineas/routes.csv', sep=',', index=False)\n",
    "vehicles.to_csv('../data/topologia_lineas/vehicles.csv', sep=',', index=False)\n",
    "'''\n"
   ]
  },
  {
   "cell_type": "code",
   "execution_count": 3,
   "id": "584d8b76",
   "metadata": {},
   "outputs": [],
   "source": [
    "# Leo todos los csv\n",
    "\n",
    "stops = pd.read_csv('../data/topologia_lineas/stop.csv')\n",
    "fleet = pd.read_csv('../data/topologia_lineas/fleet.csv')\n",
    "lines_version = pd.read_csv('../data/topologia_lineas/lines_version.csv')\n",
    "stops_routes = pd.read_csv('../data/topologia_lineas/stops_routes.csv')\n",
    "stops_version = pd.read_csv('../data/topologia_lineas/stops_version.csv')\n",
    "lines = pd.read_csv('../data/topologia_lineas/lines.csv')\n",
    "routes = pd.read_csv('../data/topologia_lineas/routes.csv')\n",
    "vehicles = pd.read_csv('../data/topologia_lineas/vehicles.csv')"
   ]
  },
  {
   "cell_type": "markdown",
   "id": "f4b11509",
   "metadata": {},
   "source": [
    "## STOPS"
   ]
  },
  {
   "cell_type": "markdown",
   "id": "8ad2c453",
   "metadata": {},
   "source": [
    "Tabla de paradas donde están latitudes y longitudes, la **Primary Key** es **`StopId`**"
   ]
  },
  {
   "cell_type": "code",
   "execution_count": 4,
   "id": "12bcbb30",
   "metadata": {},
   "outputs": [],
   "source": [
    "# Elimino todos los duplicados entre 'LineId','RouteId','StopId', para quedarme con la última version de la parada.\n",
    "\n",
    "stops = stops.drop_duplicates(subset='StopId', keep='last')"
   ]
  },
  {
   "cell_type": "code",
   "execution_count": 5,
   "id": "d4e84b01",
   "metadata": {},
   "outputs": [],
   "source": [
    "# Me cargo la columna Stopversion \n",
    "\n",
    "stops = stops.drop('StopsVersion', axis=1)"
   ]
  },
  {
   "cell_type": "code",
   "execution_count": 6,
   "id": "80763d98",
   "metadata": {},
   "outputs": [],
   "source": [
    "stops.Description = stops.Description.fillna('NULL')"
   ]
  },
  {
   "cell_type": "code",
   "execution_count": 7,
   "id": "8438eeef",
   "metadata": {},
   "outputs": [
    {
     "data": {
      "text/html": [
       "<div>\n",
       "<style scoped>\n",
       "    .dataframe tbody tr th:only-of-type {\n",
       "        vertical-align: middle;\n",
       "    }\n",
       "\n",
       "    .dataframe tbody tr th {\n",
       "        vertical-align: top;\n",
       "    }\n",
       "\n",
       "    .dataframe thead th {\n",
       "        text-align: right;\n",
       "    }\n",
       "</style>\n",
       "<table border=\"1\" class=\"dataframe\">\n",
       "  <thead>\n",
       "    <tr style=\"text-align: right;\">\n",
       "      <th></th>\n",
       "      <th>StopId</th>\n",
       "      <th>Name</th>\n",
       "      <th>ShortName</th>\n",
       "      <th>Description</th>\n",
       "      <th>Latitude</th>\n",
       "      <th>Longitude</th>\n",
       "    </tr>\n",
       "  </thead>\n",
       "  <tbody>\n",
       "    <tr>\n",
       "      <th>125</th>\n",
       "      <td>1</td>\n",
       "      <td>El Hassania Terminus V</td>\n",
       "      <td>70413</td>\n",
       "      <td>El Hassania Terminus V</td>\n",
       "      <td>3369939.0</td>\n",
       "      <td>436438.0</td>\n",
       "    </tr>\n",
       "    <tr>\n",
       "      <th>252</th>\n",
       "      <td>2</td>\n",
       "      <td>El Hassania Stade</td>\n",
       "      <td>70410</td>\n",
       "      <td>El Hassania Stade</td>\n",
       "      <td>3369690.0</td>\n",
       "      <td>436560.0</td>\n",
       "    </tr>\n",
       "    <tr>\n",
       "      <th>379</th>\n",
       "      <td>3</td>\n",
       "      <td>Cimenterie Anza</td>\n",
       "      <td>70260</td>\n",
       "      <td>Cimenterie Anza</td>\n",
       "      <td>3368808.0</td>\n",
       "      <td>436831.0</td>\n",
       "    </tr>\n",
       "    <tr>\n",
       "      <th>505</th>\n",
       "      <td>5</td>\n",
       "      <td>Place Taddart</td>\n",
       "      <td>70789</td>\n",
       "      <td>Place Taddart</td>\n",
       "      <td>3369918.0</td>\n",
       "      <td>438141.0</td>\n",
       "    </tr>\n",
       "    <tr>\n",
       "      <th>632</th>\n",
       "      <td>7</td>\n",
       "      <td>Taddart 1</td>\n",
       "      <td>70919</td>\n",
       "      <td>Taddart 1</td>\n",
       "      <td>3370217.0</td>\n",
       "      <td>438798.0</td>\n",
       "    </tr>\n",
       "  </tbody>\n",
       "</table>\n",
       "</div>"
      ],
      "text/plain": [
       "     StopId                    Name  ShortName             Description  \\\n",
       "125       1  El Hassania Terminus V      70413  El Hassania Terminus V   \n",
       "252       2       El Hassania Stade      70410       El Hassania Stade   \n",
       "379       3         Cimenterie Anza      70260         Cimenterie Anza   \n",
       "505       5           Place Taddart      70789           Place Taddart   \n",
       "632       7               Taddart 1      70919               Taddart 1   \n",
       "\n",
       "      Latitude  Longitude  \n",
       "125  3369939.0   436438.0  \n",
       "252  3369690.0   436560.0  \n",
       "379  3368808.0   436831.0  \n",
       "505  3369918.0   438141.0  \n",
       "632  3370217.0   438798.0  "
      ]
     },
     "execution_count": 7,
     "metadata": {},
     "output_type": "execute_result"
    }
   ],
   "source": [
    "stops.head()"
   ]
  },
  {
   "cell_type": "markdown",
   "id": "ba18113b",
   "metadata": {},
   "source": [
    "## STOPS_ROUTES"
   ]
  },
  {
   "cell_type": "markdown",
   "id": "3a053e14",
   "metadata": {},
   "source": [
    "Tabla intermedia entre stops y routes, con **foreing keys** **`RouteId`** y **`StopId`**\n",
    "\n",
    "Revisar si elimino `LineId`"
   ]
  },
  {
   "cell_type": "code",
   "execution_count": 8,
   "id": "09fca5f5",
   "metadata": {},
   "outputs": [],
   "source": [
    "# Elimino todos los duplicados entre 'LineId','RouteId','StopId', para quedarme con la última version de la ruta.\n",
    "\n",
    "stops_routes = stops_routes.drop_duplicates(subset=['LineId','RouteId','StopId'], keep='last')"
   ]
  },
  {
   "cell_type": "code",
   "execution_count": 9,
   "id": "2a60ecec",
   "metadata": {},
   "outputs": [],
   "source": [
    "# Me cargo la columna StopsRoutesVersion y LineId\n",
    "\n",
    "stops_routes = stops_routes.drop('StopsRoutesVersion', axis=1)\n",
    "stops_routes = stops_routes.drop('LineId', axis=1)"
   ]
  },
  {
   "cell_type": "code",
   "execution_count": 10,
   "id": "272c5d1c",
   "metadata": {},
   "outputs": [
    {
     "data": {
      "text/html": [
       "<div>\n",
       "<style scoped>\n",
       "    .dataframe tbody tr th:only-of-type {\n",
       "        vertical-align: middle;\n",
       "    }\n",
       "\n",
       "    .dataframe tbody tr th {\n",
       "        vertical-align: top;\n",
       "    }\n",
       "\n",
       "    .dataframe thead th {\n",
       "        text-align: right;\n",
       "    }\n",
       "</style>\n",
       "<table border=\"1\" class=\"dataframe\">\n",
       "  <thead>\n",
       "    <tr style=\"text-align: right;\">\n",
       "      <th></th>\n",
       "      <th>RouteId</th>\n",
       "      <th>StopId</th>\n",
       "      <th>OrderInRoute</th>\n",
       "      <th>DistanceToFirstStop</th>\n",
       "    </tr>\n",
       "  </thead>\n",
       "  <tbody>\n",
       "    <tr>\n",
       "      <th>0</th>\n",
       "      <td>11</td>\n",
       "      <td>788</td>\n",
       "      <td>0</td>\n",
       "      <td>0.000000</td>\n",
       "    </tr>\n",
       "    <tr>\n",
       "      <th>6</th>\n",
       "      <td>11</td>\n",
       "      <td>26</td>\n",
       "      <td>0</td>\n",
       "      <td>0.000000</td>\n",
       "    </tr>\n",
       "    <tr>\n",
       "      <th>7</th>\n",
       "      <td>11</td>\n",
       "      <td>890</td>\n",
       "      <td>1</td>\n",
       "      <td>0.000000</td>\n",
       "    </tr>\n",
       "    <tr>\n",
       "      <th>13</th>\n",
       "      <td>11</td>\n",
       "      <td>111</td>\n",
       "      <td>1</td>\n",
       "      <td>0.439023</td>\n",
       "    </tr>\n",
       "    <tr>\n",
       "      <th>14</th>\n",
       "      <td>11</td>\n",
       "      <td>678</td>\n",
       "      <td>2</td>\n",
       "      <td>2.000000</td>\n",
       "    </tr>\n",
       "  </tbody>\n",
       "</table>\n",
       "</div>"
      ],
      "text/plain": [
       "    RouteId  StopId  OrderInRoute  DistanceToFirstStop\n",
       "0        11     788             0             0.000000\n",
       "6        11      26             0             0.000000\n",
       "7        11     890             1             0.000000\n",
       "13       11     111             1             0.439023\n",
       "14       11     678             2             2.000000"
      ]
     },
     "execution_count": 10,
     "metadata": {},
     "output_type": "execute_result"
    }
   ],
   "source": [
    "stops_routes.head()"
   ]
  },
  {
   "cell_type": "markdown",
   "id": "63927219",
   "metadata": {},
   "source": [
    "## ROUTES"
   ]
  },
  {
   "cell_type": "markdown",
   "id": "50345a19",
   "metadata": {},
   "source": [
    "Tabla de rutas donde **`RutasID`** es **Primary Key** y **`LineId`** es la **Foreing Key**"
   ]
  },
  {
   "cell_type": "code",
   "execution_count": 11,
   "id": "87c8b927",
   "metadata": {},
   "outputs": [],
   "source": [
    "# Elimino todos los duplicados entre 'RouteId','LineId','PublicCode', para quedarme con la última version de la ruta.\n",
    "\n",
    "routes = routes.drop_duplicates(subset=['RouteId','LineId','PublicCode'], keep='last')"
   ]
  },
  {
   "cell_type": "code",
   "execution_count": 12,
   "id": "a32158e0",
   "metadata": {},
   "outputs": [],
   "source": [
    "# Creo un nuevo Primary Key como 'RutasID'\n",
    "\n",
    "routes.RoutesVersion = np.arange(routes.shape[0])\n",
    "\n",
    "routes.rename(columns = {'RoutesVersion':'RutasId'}, inplace = True)"
   ]
  },
  {
   "cell_type": "code",
   "execution_count": 13,
   "id": "c9bf47a2",
   "metadata": {},
   "outputs": [
    {
     "data": {
      "text/html": [
       "<div>\n",
       "<style scoped>\n",
       "    .dataframe tbody tr th:only-of-type {\n",
       "        vertical-align: middle;\n",
       "    }\n",
       "\n",
       "    .dataframe tbody tr th {\n",
       "        vertical-align: top;\n",
       "    }\n",
       "\n",
       "    .dataframe thead th {\n",
       "        text-align: right;\n",
       "    }\n",
       "</style>\n",
       "<table border=\"1\" class=\"dataframe\">\n",
       "  <thead>\n",
       "    <tr style=\"text-align: right;\">\n",
       "      <th></th>\n",
       "      <th>RutasId</th>\n",
       "      <th>RouteId</th>\n",
       "      <th>LineId</th>\n",
       "      <th>PublicCode</th>\n",
       "      <th>Name</th>\n",
       "      <th>Direction</th>\n",
       "    </tr>\n",
       "  </thead>\n",
       "  <tbody>\n",
       "    <tr>\n",
       "      <th>6</th>\n",
       "      <td>0</td>\n",
       "      <td>11</td>\n",
       "      <td>1</td>\n",
       "      <td>101</td>\n",
       "      <td>MOUQUAOUAMA SUD-HOPITAL</td>\n",
       "      <td>1</td>\n",
       "    </tr>\n",
       "    <tr>\n",
       "      <th>13</th>\n",
       "      <td>1</td>\n",
       "      <td>12</td>\n",
       "      <td>1</td>\n",
       "      <td>102</td>\n",
       "      <td>HOPITAL-MOUQUAOUMA SUD</td>\n",
       "      <td>2</td>\n",
       "    </tr>\n",
       "    <tr>\n",
       "      <th>14</th>\n",
       "      <td>2</td>\n",
       "      <td>21</td>\n",
       "      <td>1</td>\n",
       "      <td>111</td>\n",
       "      <td>BACHAOUIA - KOLEA T.</td>\n",
       "      <td>1</td>\n",
       "    </tr>\n",
       "    <tr>\n",
       "      <th>67</th>\n",
       "      <td>3</td>\n",
       "      <td>11</td>\n",
       "      <td>2</td>\n",
       "      <td>101</td>\n",
       "      <td>WILAYA JARDIN - AIT EL MOUDEN</td>\n",
       "      <td>1</td>\n",
       "    </tr>\n",
       "    <tr>\n",
       "      <th>120</th>\n",
       "      <td>4</td>\n",
       "      <td>12</td>\n",
       "      <td>2</td>\n",
       "      <td>102</td>\n",
       "      <td>AIT EL MOUDEN - WILAYA JARDIN</td>\n",
       "      <td>2</td>\n",
       "    </tr>\n",
       "  </tbody>\n",
       "</table>\n",
       "</div>"
      ],
      "text/plain": [
       "     RutasId  RouteId  LineId  PublicCode                           Name  \\\n",
       "6          0       11       1         101        MOUQUAOUAMA SUD-HOPITAL   \n",
       "13         1       12       1         102         HOPITAL-MOUQUAOUMA SUD   \n",
       "14         2       21       1         111           BACHAOUIA - KOLEA T.   \n",
       "67         3       11       2         101  WILAYA JARDIN - AIT EL MOUDEN   \n",
       "120        4       12       2         102  AIT EL MOUDEN - WILAYA JARDIN   \n",
       "\n",
       "     Direction  \n",
       "6            1  \n",
       "13           2  \n",
       "14           1  \n",
       "67           1  \n",
       "120          2  "
      ]
     },
     "execution_count": 13,
     "metadata": {},
     "output_type": "execute_result"
    }
   ],
   "source": [
    "routes.head()"
   ]
  },
  {
   "cell_type": "markdown",
   "id": "ebaa0379",
   "metadata": {},
   "source": [
    "## LINES"
   ]
  },
  {
   "cell_type": "markdown",
   "id": "95fe7d71",
   "metadata": {},
   "source": [
    "Tabla de lineas donde **`LineId`** es la **Primary key** y donde **`FleetId`** es la **Foreing key**"
   ]
  },
  {
   "cell_type": "code",
   "execution_count": 14,
   "id": "60fee6eb",
   "metadata": {},
   "outputs": [],
   "source": [
    "# Elimino todos los duplicados entre 'RouteId','LineId','PublicCode', para quedarme con la última version de la ruta.\n",
    "\n",
    "lines = lines.drop_duplicates(subset=['LineId'], keep='last')"
   ]
  },
  {
   "cell_type": "code",
   "execution_count": 15,
   "id": "6161b722",
   "metadata": {},
   "outputs": [],
   "source": [
    "# Me cargo la columna LinesVersion\n",
    "\n",
    "lines = lines.drop('LinesVersion', axis=1)"
   ]
  },
  {
   "cell_type": "code",
   "execution_count": 16,
   "id": "c02c8e34",
   "metadata": {},
   "outputs": [
    {
     "data": {
      "text/html": [
       "<div>\n",
       "<style scoped>\n",
       "    .dataframe tbody tr th:only-of-type {\n",
       "        vertical-align: middle;\n",
       "    }\n",
       "\n",
       "    .dataframe tbody tr th {\n",
       "        vertical-align: top;\n",
       "    }\n",
       "\n",
       "    .dataframe thead th {\n",
       "        text-align: right;\n",
       "    }\n",
       "</style>\n",
       "<table border=\"1\" class=\"dataframe\">\n",
       "  <thead>\n",
       "    <tr style=\"text-align: right;\">\n",
       "      <th></th>\n",
       "      <th>LineId</th>\n",
       "      <th>FleetId</th>\n",
       "      <th>PublicCode</th>\n",
       "      <th>Name</th>\n",
       "    </tr>\n",
       "  </thead>\n",
       "  <tbody>\n",
       "    <tr>\n",
       "      <th>6</th>\n",
       "      <td>1</td>\n",
       "      <td>1</td>\n",
       "      <td>L1</td>\n",
       "      <td>6631|L1 MOUQUAOUAMA SUD INBIAT - HOPITAL HASSA...</td>\n",
       "    </tr>\n",
       "    <tr>\n",
       "      <th>59</th>\n",
       "      <td>2</td>\n",
       "      <td>1</td>\n",
       "      <td>L2</td>\n",
       "      <td>6632|L2 WILAYA - HAY MOHAMMEDI</td>\n",
       "    </tr>\n",
       "    <tr>\n",
       "      <th>112</th>\n",
       "      <td>3</td>\n",
       "      <td>1</td>\n",
       "      <td>L3</td>\n",
       "      <td>6633|L3 WILAYA VALLEE - ELHOUDA</td>\n",
       "    </tr>\n",
       "    <tr>\n",
       "      <th>119</th>\n",
       "      <td>4</td>\n",
       "      <td>1</td>\n",
       "      <td>L4</td>\n",
       "      <td>6634|L4 MOUQUAOUAMA SUD INBIAT - EL HASSANIA ANZA</td>\n",
       "    </tr>\n",
       "    <tr>\n",
       "      <th>172</th>\n",
       "      <td>5</td>\n",
       "      <td>1</td>\n",
       "      <td>L5</td>\n",
       "      <td>6635|L5 WILAYA VALLEE - DRARGA</td>\n",
       "    </tr>\n",
       "  </tbody>\n",
       "</table>\n",
       "</div>"
      ],
      "text/plain": [
       "     LineId  FleetId PublicCode  \\\n",
       "6         1        1         L1   \n",
       "59        2        1         L2   \n",
       "112       3        1         L3   \n",
       "119       4        1         L4   \n",
       "172       5        1         L5   \n",
       "\n",
       "                                                  Name  \n",
       "6    6631|L1 MOUQUAOUAMA SUD INBIAT - HOPITAL HASSA...  \n",
       "59                      6632|L2 WILAYA - HAY MOHAMMEDI  \n",
       "112                    6633|L3 WILAYA VALLEE - ELHOUDA  \n",
       "119  6634|L4 MOUQUAOUAMA SUD INBIAT - EL HASSANIA ANZA  \n",
       "172                     6635|L5 WILAYA VALLEE - DRARGA  "
      ]
     },
     "execution_count": 16,
     "metadata": {},
     "output_type": "execute_result"
    }
   ],
   "source": [
    "lines.head()"
   ]
  },
  {
   "cell_type": "markdown",
   "id": "bef7fd13",
   "metadata": {},
   "source": [
    "## FLEETS"
   ]
  },
  {
   "cell_type": "markdown",
   "id": "c7e0f989",
   "metadata": {},
   "source": [
    "Tabla de la delegación de la flota **`FleetId`** es la **Primary key**"
   ]
  },
  {
   "cell_type": "code",
   "execution_count": 17,
   "id": "054ae253",
   "metadata": {},
   "outputs": [
    {
     "data": {
      "text/html": [
       "<div>\n",
       "<style scoped>\n",
       "    .dataframe tbody tr th:only-of-type {\n",
       "        vertical-align: middle;\n",
       "    }\n",
       "\n",
       "    .dataframe tbody tr th {\n",
       "        vertical-align: top;\n",
       "    }\n",
       "\n",
       "    .dataframe thead th {\n",
       "        text-align: right;\n",
       "    }\n",
       "</style>\n",
       "<table border=\"1\" class=\"dataframe\">\n",
       "  <thead>\n",
       "    <tr style=\"text-align: right;\">\n",
       "      <th></th>\n",
       "      <th>FleetId</th>\n",
       "      <th>FleetName</th>\n",
       "      <th>FleetNumber</th>\n",
       "    </tr>\n",
       "  </thead>\n",
       "  <tbody>\n",
       "    <tr>\n",
       "      <th>0</th>\n",
       "      <td>1</td>\n",
       "      <td>669|Agadir</td>\n",
       "      <td>65</td>\n",
       "    </tr>\n",
       "    <tr>\n",
       "      <th>1</th>\n",
       "      <td>2</td>\n",
       "      <td>662|Rabat</td>\n",
       "      <td>66</td>\n",
       "    </tr>\n",
       "  </tbody>\n",
       "</table>\n",
       "</div>"
      ],
      "text/plain": [
       "   FleetId   FleetName  FleetNumber\n",
       "0        1  669|Agadir           65\n",
       "1        2   662|Rabat           66"
      ]
     },
     "execution_count": 17,
     "metadata": {},
     "output_type": "execute_result"
    }
   ],
   "source": [
    "fleet.head()"
   ]
  },
  {
   "cell_type": "markdown",
   "id": "b16440e0",
   "metadata": {},
   "source": [
    "## VEHICLES"
   ]
  },
  {
   "cell_type": "markdown",
   "id": "58aebc15",
   "metadata": {},
   "source": [
    "Tabla de detalle de vehículos **`FleetId`** es la **Primary key**"
   ]
  },
  {
   "cell_type": "code",
   "execution_count": 18,
   "id": "a9929d86",
   "metadata": {},
   "outputs": [
    {
     "data": {
      "text/html": [
       "<div>\n",
       "<style scoped>\n",
       "    .dataframe tbody tr th:only-of-type {\n",
       "        vertical-align: middle;\n",
       "    }\n",
       "\n",
       "    .dataframe tbody tr th {\n",
       "        vertical-align: top;\n",
       "    }\n",
       "\n",
       "    .dataframe thead th {\n",
       "        text-align: right;\n",
       "    }\n",
       "</style>\n",
       "<table border=\"1\" class=\"dataframe\">\n",
       "  <thead>\n",
       "    <tr style=\"text-align: right;\">\n",
       "      <th></th>\n",
       "      <th>VehicleId</th>\n",
       "      <th>VehicleCode</th>\n",
       "      <th>FleetId</th>\n",
       "      <th>Plate</th>\n",
       "      <th>Model</th>\n",
       "    </tr>\n",
       "  </thead>\n",
       "  <tbody>\n",
       "    <tr>\n",
       "      <th>0</th>\n",
       "      <td>1</td>\n",
       "      <td>9501</td>\n",
       "      <td>1</td>\n",
       "      <td>59697-A-33</td>\n",
       "      <td>K230 UB 4X2</td>\n",
       "    </tr>\n",
       "    <tr>\n",
       "      <th>1</th>\n",
       "      <td>2</td>\n",
       "      <td>9502</td>\n",
       "      <td>1</td>\n",
       "      <td>59675-A-33</td>\n",
       "      <td>K230 UB 4X2</td>\n",
       "    </tr>\n",
       "    <tr>\n",
       "      <th>2</th>\n",
       "      <td>3</td>\n",
       "      <td>9503</td>\n",
       "      <td>1</td>\n",
       "      <td>59691-A-33</td>\n",
       "      <td>K230 UB 4X2</td>\n",
       "    </tr>\n",
       "    <tr>\n",
       "      <th>3</th>\n",
       "      <td>4</td>\n",
       "      <td>9504</td>\n",
       "      <td>1</td>\n",
       "      <td>59868-A-33</td>\n",
       "      <td>K94UB 4X2</td>\n",
       "    </tr>\n",
       "    <tr>\n",
       "      <th>4</th>\n",
       "      <td>5</td>\n",
       "      <td>9505</td>\n",
       "      <td>1</td>\n",
       "      <td>59123-A-33</td>\n",
       "      <td>K230 UB 4X2</td>\n",
       "    </tr>\n",
       "  </tbody>\n",
       "</table>\n",
       "</div>"
      ],
      "text/plain": [
       "   VehicleId  VehicleCode  FleetId       Plate        Model\n",
       "0          1         9501        1  59697-A-33  K230 UB 4X2\n",
       "1          2         9502        1  59675-A-33  K230 UB 4X2\n",
       "2          3         9503        1  59691-A-33  K230 UB 4X2\n",
       "3          4         9504        1  59868-A-33    K94UB 4X2\n",
       "4          5         9505        1  59123-A-33  K230 UB 4X2"
      ]
     },
     "execution_count": 18,
     "metadata": {},
     "output_type": "execute_result"
    }
   ],
   "source": [
    "vehicles.head()"
   ]
  },
  {
   "cell_type": "markdown",
   "id": "85a9d0ae",
   "metadata": {},
   "source": [
    "## Exporto datos"
   ]
  },
  {
   "cell_type": "code",
   "execution_count": 19,
   "id": "c71c09e0",
   "metadata": {},
   "outputs": [],
   "source": [
    "# Exporto a csv los archivos modificados para cargar en base de datos.\n",
    "\n",
    "stops.to_csv('../data/red_transporte/stops.csv', sep=',', index=False)\n",
    "fleet.to_csv('../data/red_transporte/fleet.csv', sep=',', index=False)\n",
    "stops_routes.to_csv('../data/red_transporte/stops_routes.csv', sep=',', index=False)\n",
    "lines.to_csv('../data/red_transporte/lines.csv', sep=',', index=False)\n",
    "routes.to_csv('../data/red_transporte/routes.csv', sep=',', index=False)\n",
    "vehicles.to_csv('../data/red_transporte/vehicles.csv', sep=',', index=False)\n"
   ]
  }
 ],
 "metadata": {
  "kernelspec": {
   "display_name": "clase",
   "language": "python",
   "name": "clase"
  },
  "language_info": {
   "codemirror_mode": {
    "name": "ipython",
    "version": 3
   },
   "file_extension": ".py",
   "mimetype": "text/x-python",
   "name": "python",
   "nbconvert_exporter": "python",
   "pygments_lexer": "ipython3",
   "version": "3.9.7"
  }
 },
 "nbformat": 4,
 "nbformat_minor": 5
}
