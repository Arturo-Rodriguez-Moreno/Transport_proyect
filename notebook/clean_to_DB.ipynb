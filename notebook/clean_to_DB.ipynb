{
 "cells": [
  {
   "cell_type": "code",
   "execution_count": 1,
   "id": "30482061",
   "metadata": {},
   "outputs": [],
   "source": [
    "import pandas as pd\n",
    "import numpy as np\n",
    "\n",
    "pd.set_option('display.max_columns', None)  # es para enseñar todas las columnas del df\n",
    "#pd.set_option('display.max_rows', None)     # es para enseñar todas las filas del df\n",
    "\n",
    "\n",
    "import warnings\n",
    "warnings.simplefilter('ignore')   # es para quitar warnings"
   ]
  },
  {
   "cell_type": "markdown",
   "id": "c361ee9f",
   "metadata": {},
   "source": [
    "## Cargo datos"
   ]
  },
  {
   "cell_type": "code",
   "execution_count": 2,
   "id": "c11aea91",
   "metadata": {},
   "outputs": [
    {
     "data": {
      "text/plain": [
       "\"# Exporto a csv\\n\\nstop.to_csv('../data/topologia_lineas/stop.csv', sep=',', index=False)\\nfleet.to_csv('../data/topologia_lineas/fleet.csv', sep=',', index=False)\\nlines_version.to_csv('../data/topologia_lineas/lines_version.csv', sep=',', index=False)\\nstops_routes.to_csv('../data/topologia_lineas/stops_routes.csv', sep=',', index=False)\\nstops_version.to_csv('../data/topologia_lineas/stops_version.csv', sep=',', index=False)\\nlines.to_csv('../data/topologia_lineas/lines.csv', sep=',', index=False)\\nroutes.to_csv('../data/topologia_lineas/routes.csv', sep=',', index=False)\\nvehicles.to_csv('../data/topologia_lineas/vehicles.csv', sep=',', index=False)\\n\""
      ]
     },
     "execution_count": 2,
     "metadata": {},
     "output_type": "execute_result"
    }
   ],
   "source": [
    "# Cargo de datos del excel\n",
    "\n",
    "'''stop = pd.read_excel('../data/selectsvistas/VIEW_TOPOLOGY_STOPS.xlsx')\n",
    "fleet = pd.read_excel('../data/selectsvistas/view_FLEETS.xlsx')\n",
    "lines_version = pd.read_excel('../data/selectsvistas/VIEW_TOPOLOGY_LINES_VERSION.xlsx')\n",
    "stops_routes = pd.read_excel('../data/selectsvistas/VIEW_TOPOLOGY_STOPS_ROUTES.xlsx')\n",
    "stops_version = pd.read_excel('../data/selectsvistas/VIEW_TOPOLOGY_STOPS_VERSION.xlsx')\n",
    "lines = pd.read_excel('../data/selectsvistas/VIEW_TOPOOGY_LINES.xlsx')\n",
    "routes = pd.read_excel('../data/selectsvistas/VIEW_TOPOOGY_ROUTES.xlsx')\n",
    "vehicles = pd.read_excel('../data/selectsvistas/VIEW_VEHICLES.xlsx')'''\n",
    "\n",
    "# Exporto a csv para leer mas rápido\n",
    "\n",
    "'''# Exporto a csv\n",
    "\n",
    "stop.to_csv('../data/topologia_lineas/stop.csv', sep=',', index=False)\n",
    "fleet.to_csv('../data/topologia_lineas/fleet.csv', sep=',', index=False)\n",
    "lines_version.to_csv('../data/topologia_lineas/lines_version.csv', sep=',', index=False)\n",
    "stops_routes.to_csv('../data/topologia_lineas/stops_routes.csv', sep=',', index=False)\n",
    "stops_version.to_csv('../data/topologia_lineas/stops_version.csv', sep=',', index=False)\n",
    "lines.to_csv('../data/topologia_lineas/lines.csv', sep=',', index=False)\n",
    "routes.to_csv('../data/topologia_lineas/routes.csv', sep=',', index=False)\n",
    "vehicles.to_csv('../data/topologia_lineas/vehicles.csv', sep=',', index=False)\n",
    "'''\n"
   ]
  },
  {
   "cell_type": "code",
   "execution_count": 3,
   "id": "584d8b76",
   "metadata": {},
   "outputs": [],
   "source": [
    "# Leo todos los csv\n",
    "\n",
    "stops = pd.read_csv('../data/topologia_lineas/stop.csv')\n",
    "fleet = pd.read_csv('../data/topologia_lineas/fleet.csv')\n",
    "lines_version = pd.read_csv('../data/topologia_lineas/lines_version.csv')\n",
    "stops_routes = pd.read_csv('../data/topologia_lineas/stops_routes.csv')\n",
    "stops_version = pd.read_csv('../data/topologia_lineas/stops_version.csv')\n",
    "lines = pd.read_csv('../data/topologia_lineas/lines.csv')\n",
    "routes = pd.read_csv('../data/topologia_lineas/routes.csv')\n",
    "vehicles = pd.read_csv('../data/topologia_lineas/vehicles.csv')"
   ]
  },
  {
   "cell_type": "markdown",
   "id": "f4b11509",
   "metadata": {},
   "source": [
    "## STOPS"
   ]
  },
  {
   "cell_type": "markdown",
   "id": "82d3d1bb",
   "metadata": {},
   "source": [
    "Tabla de paradas donde están latitudes y longitudes, la **Primary Key** es **`StopId`**"
   ]
  },
  {
   "cell_type": "code",
   "execution_count": 4,
   "id": "095aa86d",
   "metadata": {},
   "outputs": [],
   "source": [
    "# Elimino todos los duplicados entre 'LineId','RouteId','StopId', para quedarme con la última version de la parada.\n",
    "\n",
    "stops = stops.drop_duplicates(subset='StopId', keep='last')"
   ]
  },
  {
   "cell_type": "code",
   "execution_count": 5,
   "id": "d4e84b01",
   "metadata": {},
   "outputs": [],
   "source": [
    "# Me cargo la columna Stopversion \n",
    "\n",
    "stops = stops.drop('StopsVersion', axis=1)"
   ]
  },
  {
   "cell_type": "code",
   "execution_count": 6,
   "id": "da402606",
   "metadata": {},
   "outputs": [],
   "source": [
    "# Relleno los valores nulos en Description\n",
    "\n",
    "stops.Description = stops.Description.fillna('NULL')"
   ]
  },
  {
   "cell_type": "code",
   "execution_count": 7,
   "id": "2eb940b9",
   "metadata": {},
   "outputs": [],
   "source": [
    "# Modifico 'NULL' por 'NoName' por da problemas al cargar csv\n",
    "\n",
    "stops.Description[stops.Description == 'NULL'] = 'NoName'"
   ]
  },
  {
   "cell_type": "code",
   "execution_count": 8,
   "id": "50ced011",
   "metadata": {},
   "outputs": [
    {
     "name": "stdout",
     "output_type": "stream",
     "text": [
      "<class 'pandas.core.frame.DataFrame'>\n",
      "Int64Index: 3797 entries, 125 to 297888\n",
      "Data columns (total 6 columns):\n",
      " #   Column       Non-Null Count  Dtype  \n",
      "---  ------       --------------  -----  \n",
      " 0   StopId       3797 non-null   int64  \n",
      " 1   Name         3797 non-null   object \n",
      " 2   ShortName    3797 non-null   int64  \n",
      " 3   Description  3797 non-null   object \n",
      " 4   Latitude     3797 non-null   float64\n",
      " 5   Longitude    3797 non-null   float64\n",
      "dtypes: float64(2), int64(2), object(2)\n",
      "memory usage: 207.6+ KB\n"
     ]
    }
   ],
   "source": [
    "stops.info()"
   ]
  },
  {
   "cell_type": "markdown",
   "id": "e23331b0",
   "metadata": {},
   "source": [
    "## ROUTES"
   ]
  },
  {
   "cell_type": "markdown",
   "id": "74f0700b",
   "metadata": {},
   "source": [
    "Tabla de rutas donde **`RutasID`** es **Primary Key** y **`LineId`** es la **Foreing Key**"
   ]
  },
  {
   "cell_type": "code",
   "execution_count": 9,
   "id": "8ef8ecf3",
   "metadata": {},
   "outputs": [],
   "source": [
    "# Elimino todos los duplicados entre 'RouteId','LineId','PublicCode', para quedarme con la última version de la ruta.\n",
    "\n",
    "routes = routes.drop_duplicates(subset=['RouteId','LineId'], keep='last')"
   ]
  },
  {
   "cell_type": "code",
   "execution_count": 10,
   "id": "743fb882",
   "metadata": {},
   "outputs": [],
   "source": [
    "# Creo un nuevo Primary Key como 'RutasID'\n",
    "\n",
    "routes.RoutesVersion = np.arange(routes.shape[0])\n",
    "\n",
    "routes.rename(columns = {'RoutesVersion':'RutasId'}, inplace = True)"
   ]
  },
  {
   "cell_type": "code",
   "execution_count": 11,
   "id": "7f9454f3",
   "metadata": {},
   "outputs": [
    {
     "name": "stdout",
     "output_type": "stream",
     "text": [
      "<class 'pandas.core.frame.DataFrame'>\n",
      "Int64Index: 518 entries, 6 to 14974\n",
      "Data columns (total 6 columns):\n",
      " #   Column      Non-Null Count  Dtype \n",
      "---  ------      --------------  ----- \n",
      " 0   RutasId     518 non-null    int32 \n",
      " 1   RouteId     518 non-null    int64 \n",
      " 2   LineId      518 non-null    int64 \n",
      " 3   PublicCode  518 non-null    int64 \n",
      " 4   Name        518 non-null    object\n",
      " 5   Direction   518 non-null    int64 \n",
      "dtypes: int32(1), int64(4), object(1)\n",
      "memory usage: 26.3+ KB\n"
     ]
    }
   ],
   "source": [
    "routes.info()"
   ]
  },
  {
   "cell_type": "markdown",
   "id": "ba18113b",
   "metadata": {},
   "source": [
    "## STOPS_ROUTES"
   ]
  },
  {
   "cell_type": "markdown",
   "id": "6552a6d6",
   "metadata": {},
   "source": [
    "Tabla intermedia entre stops y routes, con **foreing keys** **`RouteId`** y **`StopId`**\n",
    "\n",
    "Revisar si elimino `LineId`"
   ]
  },
  {
   "cell_type": "code",
   "execution_count": 12,
   "id": "09fca5f5",
   "metadata": {},
   "outputs": [],
   "source": [
    "# Elimino todos los duplicados entre 'LineId','RouteId','StopId', para quedarme con la última version de la ruta.\n",
    "\n",
    "stops_routes = stops_routes.drop_duplicates(subset=['LineId','RouteId','StopId'], keep='last')"
   ]
  },
  {
   "cell_type": "code",
   "execution_count": 13,
   "id": "2a60ecec",
   "metadata": {},
   "outputs": [],
   "source": [
    "# Me cargo la columna StopsRoutesVersion y LineId\n",
    "\n",
    "stops_routes = stops_routes.drop('StopsRoutesVersion', axis=1)"
   ]
  },
  {
   "cell_type": "code",
   "execution_count": 14,
   "id": "83e64f73",
   "metadata": {},
   "outputs": [],
   "source": [
    "# Hago un left join entre 'stops_routes'  y 'routes' para obtener 'RutasId'\n",
    "\n",
    "\n",
    "stops_routes = stops_routes.set_index(['LineId', 'RouteId']).join(routes[['LineId', 'RouteId', 'RutasId' ]].set_index(['LineId', 'RouteId']))\n"
   ]
  },
  {
   "cell_type": "code",
   "execution_count": 15,
   "id": "a0fd1c4c",
   "metadata": {},
   "outputs": [],
   "source": [
    "# Le elimino duplicado que se generan\n",
    "\n",
    "stops_routes.drop_duplicates(inplace=True)"
   ]
  },
  {
   "cell_type": "code",
   "execution_count": 16,
   "id": "8c31b28c",
   "metadata": {},
   "outputs": [],
   "source": [
    "# Le reseteo el indice\n",
    "\n",
    "stops_routes.reset_index(inplace=True)"
   ]
  },
  {
   "cell_type": "code",
   "execution_count": 17,
   "id": "54f33d62",
   "metadata": {},
   "outputs": [
    {
     "name": "stdout",
     "output_type": "stream",
     "text": [
      "<class 'pandas.core.frame.DataFrame'>\n",
      "RangeIndex: 15316 entries, 0 to 15315\n",
      "Data columns (total 6 columns):\n",
      " #   Column               Non-Null Count  Dtype  \n",
      "---  ------               --------------  -----  \n",
      " 0   LineId               15316 non-null  int64  \n",
      " 1   RouteId              15316 non-null  int64  \n",
      " 2   StopId               15316 non-null  int64  \n",
      " 3   OrderInRoute         15316 non-null  int64  \n",
      " 4   DistanceToFirstStop  15316 non-null  float64\n",
      " 5   RutasId              15316 non-null  int32  \n",
      "dtypes: float64(1), int32(1), int64(4)\n",
      "memory usage: 658.2 KB\n"
     ]
    }
   ],
   "source": [
    "stops_routes.info()"
   ]
  },
  {
   "cell_type": "markdown",
   "id": "234f3762",
   "metadata": {},
   "source": [
    "## LINES"
   ]
  },
  {
   "cell_type": "markdown",
   "id": "311ed376",
   "metadata": {},
   "source": [
    "Tabla de lineas donde **`LineId`** es la **Primary key** y donde **`FleetId`** es la **Foreing key**"
   ]
  },
  {
   "cell_type": "code",
   "execution_count": 18,
   "id": "6f57c10c",
   "metadata": {},
   "outputs": [],
   "source": [
    "# Elimino todos los duplicados entre 'RouteId','LineId','PublicCode', para quedarme con la última version de la ruta.\n",
    "\n",
    "lines = lines.drop_duplicates(subset=['LineId'], keep='last')"
   ]
  },
  {
   "cell_type": "code",
   "execution_count": 19,
   "id": "3a7ab69f",
   "metadata": {},
   "outputs": [],
   "source": [
    "# Me cargo la columna LinesVersion\n",
    "\n",
    "lines = lines.drop('LinesVersion', axis=1)"
   ]
  },
  {
   "cell_type": "code",
   "execution_count": 20,
   "id": "57fa5f73",
   "metadata": {},
   "outputs": [
    {
     "data": {
      "text/html": [
       "<div>\n",
       "<style scoped>\n",
       "    .dataframe tbody tr th:only-of-type {\n",
       "        vertical-align: middle;\n",
       "    }\n",
       "\n",
       "    .dataframe tbody tr th {\n",
       "        vertical-align: top;\n",
       "    }\n",
       "\n",
       "    .dataframe thead th {\n",
       "        text-align: right;\n",
       "    }\n",
       "</style>\n",
       "<table border=\"1\" class=\"dataframe\">\n",
       "  <thead>\n",
       "    <tr style=\"text-align: right;\">\n",
       "      <th></th>\n",
       "      <th>LineId</th>\n",
       "      <th>FleetId</th>\n",
       "      <th>PublicCode</th>\n",
       "      <th>Name</th>\n",
       "    </tr>\n",
       "  </thead>\n",
       "  <tbody>\n",
       "    <tr>\n",
       "      <th>6</th>\n",
       "      <td>1</td>\n",
       "      <td>1</td>\n",
       "      <td>L1</td>\n",
       "      <td>6631|L1 MOUQUAOUAMA SUD INBIAT - HOPITAL HASSA...</td>\n",
       "    </tr>\n",
       "    <tr>\n",
       "      <th>59</th>\n",
       "      <td>2</td>\n",
       "      <td>1</td>\n",
       "      <td>L2</td>\n",
       "      <td>6632|L2 WILAYA - HAY MOHAMMEDI</td>\n",
       "    </tr>\n",
       "    <tr>\n",
       "      <th>112</th>\n",
       "      <td>3</td>\n",
       "      <td>1</td>\n",
       "      <td>L3</td>\n",
       "      <td>6633|L3 WILAYA VALLEE - ELHOUDA</td>\n",
       "    </tr>\n",
       "    <tr>\n",
       "      <th>119</th>\n",
       "      <td>4</td>\n",
       "      <td>1</td>\n",
       "      <td>L4</td>\n",
       "      <td>6634|L4 MOUQUAOUAMA SUD INBIAT - EL HASSANIA ANZA</td>\n",
       "    </tr>\n",
       "    <tr>\n",
       "      <th>172</th>\n",
       "      <td>5</td>\n",
       "      <td>1</td>\n",
       "      <td>L5</td>\n",
       "      <td>6635|L5 WILAYA VALLEE - DRARGA</td>\n",
       "    </tr>\n",
       "  </tbody>\n",
       "</table>\n",
       "</div>"
      ],
      "text/plain": [
       "     LineId  FleetId PublicCode  \\\n",
       "6         1        1         L1   \n",
       "59        2        1         L2   \n",
       "112       3        1         L3   \n",
       "119       4        1         L4   \n",
       "172       5        1         L5   \n",
       "\n",
       "                                                  Name  \n",
       "6    6631|L1 MOUQUAOUAMA SUD INBIAT - HOPITAL HASSA...  \n",
       "59                      6632|L2 WILAYA - HAY MOHAMMEDI  \n",
       "112                    6633|L3 WILAYA VALLEE - ELHOUDA  \n",
       "119  6634|L4 MOUQUAOUAMA SUD INBIAT - EL HASSANIA ANZA  \n",
       "172                     6635|L5 WILAYA VALLEE - DRARGA  "
      ]
     },
     "execution_count": 20,
     "metadata": {},
     "output_type": "execute_result"
    }
   ],
   "source": [
    "lines.head()"
   ]
  },
  {
   "cell_type": "markdown",
   "id": "4a5ca253",
   "metadata": {},
   "source": [
    "## FLEETS"
   ]
  },
  {
   "cell_type": "markdown",
   "id": "51849f7d",
   "metadata": {},
   "source": [
    "Tabla de la delegación de la flota **`FleetId`** es la **Primary key**"
   ]
  },
  {
   "cell_type": "code",
   "execution_count": 21,
   "id": "761f0199",
   "metadata": {},
   "outputs": [
    {
     "data": {
      "text/html": [
       "<div>\n",
       "<style scoped>\n",
       "    .dataframe tbody tr th:only-of-type {\n",
       "        vertical-align: middle;\n",
       "    }\n",
       "\n",
       "    .dataframe tbody tr th {\n",
       "        vertical-align: top;\n",
       "    }\n",
       "\n",
       "    .dataframe thead th {\n",
       "        text-align: right;\n",
       "    }\n",
       "</style>\n",
       "<table border=\"1\" class=\"dataframe\">\n",
       "  <thead>\n",
       "    <tr style=\"text-align: right;\">\n",
       "      <th></th>\n",
       "      <th>FleetId</th>\n",
       "      <th>FleetName</th>\n",
       "      <th>FleetNumber</th>\n",
       "    </tr>\n",
       "  </thead>\n",
       "  <tbody>\n",
       "    <tr>\n",
       "      <th>0</th>\n",
       "      <td>1</td>\n",
       "      <td>669|Agadir</td>\n",
       "      <td>65</td>\n",
       "    </tr>\n",
       "    <tr>\n",
       "      <th>1</th>\n",
       "      <td>2</td>\n",
       "      <td>662|Rabat</td>\n",
       "      <td>66</td>\n",
       "    </tr>\n",
       "  </tbody>\n",
       "</table>\n",
       "</div>"
      ],
      "text/plain": [
       "   FleetId   FleetName  FleetNumber\n",
       "0        1  669|Agadir           65\n",
       "1        2   662|Rabat           66"
      ]
     },
     "execution_count": 21,
     "metadata": {},
     "output_type": "execute_result"
    }
   ],
   "source": [
    "fleet.head()"
   ]
  },
  {
   "cell_type": "markdown",
   "id": "fec824a9",
   "metadata": {},
   "source": [
    "## VEHICLES"
   ]
  },
  {
   "cell_type": "markdown",
   "id": "e2524ff0",
   "metadata": {},
   "source": [
    "Tabla de detalle de vehículos **`FleetId`** es la **Primary key**"
   ]
  },
  {
   "cell_type": "code",
   "execution_count": 22,
   "id": "d3d51c4d",
   "metadata": {},
   "outputs": [
    {
     "data": {
      "text/html": [
       "<div>\n",
       "<style scoped>\n",
       "    .dataframe tbody tr th:only-of-type {\n",
       "        vertical-align: middle;\n",
       "    }\n",
       "\n",
       "    .dataframe tbody tr th {\n",
       "        vertical-align: top;\n",
       "    }\n",
       "\n",
       "    .dataframe thead th {\n",
       "        text-align: right;\n",
       "    }\n",
       "</style>\n",
       "<table border=\"1\" class=\"dataframe\">\n",
       "  <thead>\n",
       "    <tr style=\"text-align: right;\">\n",
       "      <th></th>\n",
       "      <th>VehicleId</th>\n",
       "      <th>VehicleCode</th>\n",
       "      <th>FleetId</th>\n",
       "      <th>Plate</th>\n",
       "      <th>Model</th>\n",
       "    </tr>\n",
       "  </thead>\n",
       "  <tbody>\n",
       "    <tr>\n",
       "      <th>0</th>\n",
       "      <td>1</td>\n",
       "      <td>9501</td>\n",
       "      <td>1</td>\n",
       "      <td>59697-A-33</td>\n",
       "      <td>K230 UB 4X2</td>\n",
       "    </tr>\n",
       "    <tr>\n",
       "      <th>1</th>\n",
       "      <td>2</td>\n",
       "      <td>9502</td>\n",
       "      <td>1</td>\n",
       "      <td>59675-A-33</td>\n",
       "      <td>K230 UB 4X2</td>\n",
       "    </tr>\n",
       "    <tr>\n",
       "      <th>2</th>\n",
       "      <td>3</td>\n",
       "      <td>9503</td>\n",
       "      <td>1</td>\n",
       "      <td>59691-A-33</td>\n",
       "      <td>K230 UB 4X2</td>\n",
       "    </tr>\n",
       "    <tr>\n",
       "      <th>3</th>\n",
       "      <td>4</td>\n",
       "      <td>9504</td>\n",
       "      <td>1</td>\n",
       "      <td>59868-A-33</td>\n",
       "      <td>K94UB 4X2</td>\n",
       "    </tr>\n",
       "    <tr>\n",
       "      <th>4</th>\n",
       "      <td>5</td>\n",
       "      <td>9505</td>\n",
       "      <td>1</td>\n",
       "      <td>59123-A-33</td>\n",
       "      <td>K230 UB 4X2</td>\n",
       "    </tr>\n",
       "  </tbody>\n",
       "</table>\n",
       "</div>"
      ],
      "text/plain": [
       "   VehicleId  VehicleCode  FleetId       Plate        Model\n",
       "0          1         9501        1  59697-A-33  K230 UB 4X2\n",
       "1          2         9502        1  59675-A-33  K230 UB 4X2\n",
       "2          3         9503        1  59691-A-33  K230 UB 4X2\n",
       "3          4         9504        1  59868-A-33    K94UB 4X2\n",
       "4          5         9505        1  59123-A-33  K230 UB 4X2"
      ]
     },
     "execution_count": 22,
     "metadata": {},
     "output_type": "execute_result"
    }
   ],
   "source": [
    "vehicles.head()"
   ]
  },
  {
   "cell_type": "markdown",
   "id": "b9db63a6",
   "metadata": {},
   "source": [
    "## Exporto datos"
   ]
  },
  {
   "cell_type": "code",
   "execution_count": 23,
   "id": "4094c65d",
   "metadata": {},
   "outputs": [],
   "source": [
    "# Exporto a csv los archivos modificados para cargar en base de datos.\n",
    "\n",
    "stops.to_csv('../data/red_transporte/stops.csv', sep=',', index=False)\n",
    "fleet.to_csv('../data/red_transporte/fleet.csv', sep=',', index=False)\n",
    "stops_routes.to_csv('../data/red_transporte/stops_routes.csv', sep=',', index=False)\n",
    "lines.to_csv('../data/red_transporte/lines.csv', sep=',', index=False)\n",
    "routes.to_csv('../data/red_transporte/routes.csv', sep=',', index=False)\n",
    "vehicles.to_csv('../data/red_transporte/vehicles.csv', sep=',', index=False)\n"
   ]
  }
 ],
 "metadata": {
  "kernelspec": {
   "display_name": "clase",
   "language": "python",
   "name": "clase"
  },
  "language_info": {
   "codemirror_mode": {
    "name": "ipython",
    "version": 3
   },
   "file_extension": ".py",
   "mimetype": "text/x-python",
   "name": "python",
   "nbconvert_exporter": "python",
   "pygments_lexer": "ipython3",
   "version": "3.9.7"
  }
 },
 "nbformat": 4,
 "nbformat_minor": 5
}
