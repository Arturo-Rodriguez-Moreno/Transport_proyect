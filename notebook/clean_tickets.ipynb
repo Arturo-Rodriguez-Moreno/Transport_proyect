{
 "cells": [
  {
   "cell_type": "code",
   "execution_count": 1,
   "id": "a0a47268",
   "metadata": {},
   "outputs": [],
   "source": [
    "import pandas as pd\n",
    "import numpy as np\n",
    "\n",
    "pd.set_option('display.max_columns', None)  # es para enseñar todas las columnas del df\n",
    "#pd.set_option('display.max_rows', None)     # es para enseñar todas las filas del df\n",
    "\n",
    "\n",
    "import warnings\n",
    "warnings.simplefilter('ignore')   # es para quitar warnings"
   ]
  },
  {
   "cell_type": "code",
   "execution_count": 13,
   "id": "57ad0ab8",
   "metadata": {},
   "outputs": [],
   "source": [
    "# Leo todos los csv de la parte de tarjetas\n",
    "\n",
    "etudiant = pd.read_csv('../data/tarjetas/Validaciones_titulo_1020.csv', sep=';')\n",
    "eleve = pd.read_csv('../data/tarjetas/Validaciones_titulo_1022.csv', sep=';')\n",
    "ita = pd.read_csv('../data/tarjetas/Validaciones_titulo_1033.csv', sep=';')\n",
    "pass_spsm = pd.read_csv('../data/tarjetas/Validaciones_titulo_3001.csv', sep=';')\n",
    "pass_ecole_jardinage = pd.read_csv('../data/tarjetas/Validaciones_titulo_3002.csv', sep=';')\n",
    "pass_baplm = pd.read_csv('../data/tarjetas/Validaciones_titulo_3003.csv', sep=';')\n",
    "carte_employee = pd.read_csv('../data/tarjetas/Validaciones_titulo_6020.csv', sep=';')\n"
   ]
  },
  {
   "cell_type": "code",
   "execution_count": 24,
   "id": "a58932c9",
   "metadata": {},
   "outputs": [],
   "source": [
    "# Concateno todos los dataframes\n",
    "\n",
    "cards = pd.concat([etudiant, eleve, ita, pass_spsm, pass_ecole_jardinage, pass_baplm, carte_employee])"
   ]
  },
  {
   "cell_type": "code",
   "execution_count": 26,
   "id": "4e62f366",
   "metadata": {},
   "outputs": [
    {
     "name": "stdout",
     "output_type": "stream",
     "text": [
      "<class 'pandas.core.frame.DataFrame'>\n",
      "Int64Index: 1383902 entries, 0 to 131451\n",
      "Data columns (total 18 columns):\n",
      " #   Column          Non-Null Count    Dtype  \n",
      "---  ------          --------------    -----  \n",
      " 0   DATE            1383902 non-null  object \n",
      " 1   CARD NUMBER     1383902 non-null  int64  \n",
      " 2   OPERATION       1383902 non-null  object \n",
      " 3   BUS             1383902 non-null  int64  \n",
      " 4   MACHINE         1383902 non-null  int64  \n",
      " 5   DRIVER          1383902 non-null  int64  \n",
      " 6   SETTLEMENT      1383902 non-null  object \n",
      " 7   ROUTE           1383902 non-null  int64  \n",
      " 8   ROUTE NAME      1383902 non-null  object \n",
      " 9   LINE            1383902 non-null  int64  \n",
      " 10  LINE NAME       1383902 non-null  object \n",
      " 11  WAYBILL         1383902 non-null  object \n",
      " 12  STOP            1383902 non-null  int64  \n",
      " 13  CARD TITLE      1383902 non-null  int64  \n",
      " 14  CARD TYPE       1383902 non-null  object \n",
      " 15  FARE            1383902 non-null  float64\n",
      " 16  FECHA INICIO    0 non-null        float64\n",
      " 17  FECHACADUCIDAD  0 non-null        float64\n",
      "dtypes: float64(3), int64(8), object(7)\n",
      "memory usage: 765.2 MB\n"
     ]
    }
   ],
   "source": [
    "# Leo todos los csv de la parte de tarjetas\n",
    "\n",
    "lunes = pd.read_csv('../data/tarjetas/Validaciones_titulo_1020.csv', sep=';')\n",
    "martes = pd.read_csv('../data/tarjetas/Validaciones_titulo_1022.csv', sep=';')\n",
    "miercoles = pd.read_csv('../data/tarjetas/Validaciones_titulo_1033.csv', sep=';')\n",
    "jueves = pd.read_csv('../data/tarjetas/Validaciones_titulo_3001.csv', sep=';')\n",
    "viernes = pd.read_csv('../data/tarjetas/Validaciones_titulo_3002.csv', sep=';')\n",
    "sabado = pd.read_csv('../data/tarjetas/Validaciones_titulo_3003.csv', sep=';')\n",
    "domingo = pd.read_csv('../data/tarjetas/Validaciones_titulo_6020.csv', sep=';')\n",
    "\n"
   ]
  },
  {
   "cell_type": "markdown",
   "id": "f8f15537",
   "metadata": {},
   "source": [
    "## Limpieza de datos"
   ]
  },
  {
   "cell_type": "code",
   "execution_count": 50,
   "id": "9e4b8791",
   "metadata": {},
   "outputs": [
    {
     "data": {
      "text/html": [
       "<div>\n",
       "<style scoped>\n",
       "    .dataframe tbody tr th:only-of-type {\n",
       "        vertical-align: middle;\n",
       "    }\n",
       "\n",
       "    .dataframe tbody tr th {\n",
       "        vertical-align: top;\n",
       "    }\n",
       "\n",
       "    .dataframe thead th {\n",
       "        text-align: right;\n",
       "    }\n",
       "</style>\n",
       "<table border=\"1\" class=\"dataframe\">\n",
       "  <thead>\n",
       "    <tr style=\"text-align: right;\">\n",
       "      <th></th>\n",
       "      <th>date</th>\n",
       "      <th>card_number</th>\n",
       "      <th>operation</th>\n",
       "      <th>bus</th>\n",
       "      <th>machine</th>\n",
       "      <th>driver</th>\n",
       "      <th>settlement</th>\n",
       "      <th>route</th>\n",
       "      <th>route_name</th>\n",
       "      <th>line</th>\n",
       "      <th>line_name</th>\n",
       "      <th>waybill</th>\n",
       "      <th>stop</th>\n",
       "      <th>card_title</th>\n",
       "      <th>card_type</th>\n",
       "      <th>fare</th>\n",
       "      <th>fecha_inicio</th>\n",
       "      <th>fechacaducidad</th>\n",
       "    </tr>\n",
       "  </thead>\n",
       "  <tbody>\n",
       "    <tr>\n",
       "      <th>0</th>\n",
       "      <td>2022-03-21 05:59:28.000</td>\n",
       "      <td>43230192</td>\n",
       "      <td>Entry validation</td>\n",
       "      <td>30064</td>\n",
       "      <td>5773</td>\n",
       "      <td>2114</td>\n",
       "      <td>AA01621</td>\n",
       "      <td>8</td>\n",
       "      <td>L8</td>\n",
       "      <td>203</td>\n",
       "      <td>AIN AOUDA-HIZB EL ES</td>\n",
       "      <td>AA09101</td>\n",
       "      <td>11670</td>\n",
       "      <td>1020</td>\n",
       "      <td>Etudiant</td>\n",
       "      <td>0.0</td>\n",
       "      <td>NaN</td>\n",
       "      <td>NaN</td>\n",
       "    </tr>\n",
       "    <tr>\n",
       "      <th>1</th>\n",
       "      <td>2022-03-21 06:03:51.000</td>\n",
       "      <td>18701088</td>\n",
       "      <td>Entry validation</td>\n",
       "      <td>30018</td>\n",
       "      <td>5828</td>\n",
       "      <td>1945</td>\n",
       "      <td>AA01567</td>\n",
       "      <td>38</td>\n",
       "      <td>L38</td>\n",
       "      <td>205</td>\n",
       "      <td>TAMESSNA-BAB EL HAD</td>\n",
       "      <td>AA08462</td>\n",
       "      <td>10429</td>\n",
       "      <td>1020</td>\n",
       "      <td>Etudiant</td>\n",
       "      <td>0.0</td>\n",
       "      <td>NaN</td>\n",
       "      <td>NaN</td>\n",
       "    </tr>\n",
       "    <tr>\n",
       "      <th>2</th>\n",
       "      <td>2022-03-21 06:18:53.000</td>\n",
       "      <td>2443413712</td>\n",
       "      <td>Entry validation</td>\n",
       "      <td>30292</td>\n",
       "      <td>5677</td>\n",
       "      <td>1611</td>\n",
       "      <td>AA01360</td>\n",
       "      <td>9</td>\n",
       "      <td>L9</td>\n",
       "      <td>102</td>\n",
       "      <td>KARIA-KAMRA</td>\n",
       "      <td>AA09919</td>\n",
       "      <td>10986</td>\n",
       "      <td>1020</td>\n",
       "      <td>Etudiant</td>\n",
       "      <td>0.0</td>\n",
       "      <td>NaN</td>\n",
       "      <td>NaN</td>\n",
       "    </tr>\n",
       "    <tr>\n",
       "      <th>3</th>\n",
       "      <td>2022-03-21 06:19:43.000</td>\n",
       "      <td>3472759179</td>\n",
       "      <td>Entry validation</td>\n",
       "      <td>30269</td>\n",
       "      <td>5723</td>\n",
       "      <td>2077</td>\n",
       "      <td>AA01558</td>\n",
       "      <td>303</td>\n",
       "      <td>L303</td>\n",
       "      <td>202</td>\n",
       "      <td>AIN AOUDA-CHIGA</td>\n",
       "      <td>AA08470</td>\n",
       "      <td>11846</td>\n",
       "      <td>1020</td>\n",
       "      <td>Etudiant</td>\n",
       "      <td>0.0</td>\n",
       "      <td>NaN</td>\n",
       "      <td>NaN</td>\n",
       "    </tr>\n",
       "    <tr>\n",
       "      <th>4</th>\n",
       "      <td>2022-03-21 06:19:48.000</td>\n",
       "      <td>3862394236</td>\n",
       "      <td>Entry validation</td>\n",
       "      <td>30158</td>\n",
       "      <td>5553</td>\n",
       "      <td>596</td>\n",
       "      <td>AA01767</td>\n",
       "      <td>8</td>\n",
       "      <td>L8</td>\n",
       "      <td>203</td>\n",
       "      <td>AIN AOUDA-HIZB EL ES</td>\n",
       "      <td>AA10900</td>\n",
       "      <td>11602</td>\n",
       "      <td>1020</td>\n",
       "      <td>Etudiant</td>\n",
       "      <td>0.0</td>\n",
       "      <td>NaN</td>\n",
       "      <td>NaN</td>\n",
       "    </tr>\n",
       "  </tbody>\n",
       "</table>\n",
       "</div>"
      ],
      "text/plain": [
       "                      date  card_number         operation    bus  machine  \\\n",
       "0  2022-03-21 05:59:28.000     43230192  Entry validation  30064     5773   \n",
       "1  2022-03-21 06:03:51.000     18701088  Entry validation  30018     5828   \n",
       "2  2022-03-21 06:18:53.000   2443413712  Entry validation  30292     5677   \n",
       "3  2022-03-21 06:19:43.000   3472759179  Entry validation  30269     5723   \n",
       "4  2022-03-21 06:19:48.000   3862394236  Entry validation  30158     5553   \n",
       "\n",
       "   driver settlement  route route_name  line             line_name  waybill  \\\n",
       "0    2114    AA01621      8         L8   203  AIN AOUDA-HIZB EL ES  AA09101   \n",
       "1    1945    AA01567     38        L38   205   TAMESSNA-BAB EL HAD  AA08462   \n",
       "2    1611    AA01360      9         L9   102           KARIA-KAMRA  AA09919   \n",
       "3    2077    AA01558    303       L303   202       AIN AOUDA-CHIGA  AA08470   \n",
       "4     596    AA01767      8         L8   203  AIN AOUDA-HIZB EL ES  AA10900   \n",
       "\n",
       "    stop  card_title card_type  fare  fecha_inicio  fechacaducidad  \n",
       "0  11670        1020  Etudiant   0.0           NaN             NaN  \n",
       "1  10429        1020  Etudiant   0.0           NaN             NaN  \n",
       "2  10986        1020  Etudiant   0.0           NaN             NaN  \n",
       "3  11846        1020  Etudiant   0.0           NaN             NaN  \n",
       "4  11602        1020  Etudiant   0.0           NaN             NaN  "
      ]
     },
     "execution_count": 50,
     "metadata": {},
     "output_type": "execute_result"
    }
   ],
   "source": [
    "cards.head()"
   ]
  },
  {
   "cell_type": "code",
   "execution_count": 49,
   "id": "cf6c9ded",
   "metadata": {},
   "outputs": [],
   "source": [
    "# Cambio los nombres de las columna sin espacios y a minusculas.\n",
    "\n",
    "cards.columns=[c.lower().replace(' ', '_') for c in cards.columns]"
   ]
  },
  {
   "cell_type": "code",
   "execution_count": 53,
   "id": "fed2503b",
   "metadata": {},
   "outputs": [],
   "source": [
    "# Elimino las columnas que no quiero\n",
    "\n",
    "cards = cards.drop(['fecha_inicio', 'fechacaducidad'], axis=1)"
   ]
  },
  {
   "cell_type": "code",
   "execution_count": 54,
   "id": "0af9c661",
   "metadata": {},
   "outputs": [],
   "source": [
    "# Cambio el formato a de fecha a datetime64\n",
    "\n",
    "cards.date = cards.date.astype('datetime64[ns]')"
   ]
  },
  {
   "cell_type": "code",
   "execution_count": 62,
   "id": "35fdca87",
   "metadata": {},
   "outputs": [],
   "source": [
    "# Me quedo con fecha inferiores al '2022-03-28'\n",
    "\n",
    "cards =cards[cards.date < '2022-03-28']"
   ]
  },
  {
   "cell_type": "code",
   "execution_count": 64,
   "id": "b032b54e",
   "metadata": {},
   "outputs": [
    {
     "name": "stdout",
     "output_type": "stream",
     "text": [
      "<class 'pandas.core.frame.DataFrame'>\n",
      "Int64Index: 229577 entries, 0 to 1269680\n",
      "Data columns (total 16 columns):\n",
      " #   Column       Non-Null Count   Dtype         \n",
      "---  ------       --------------   -----         \n",
      " 0   date         229577 non-null  datetime64[ns]\n",
      " 1   card_number  229577 non-null  int64         \n",
      " 2   operation    229577 non-null  object        \n",
      " 3   bus          229577 non-null  int64         \n",
      " 4   machine      229577 non-null  int64         \n",
      " 5   driver       229577 non-null  int64         \n",
      " 6   settlement   229577 non-null  object        \n",
      " 7   route        229577 non-null  int64         \n",
      " 8   route_name   229577 non-null  object        \n",
      " 9   line         229577 non-null  int64         \n",
      " 10  line_name    229577 non-null  object        \n",
      " 11  waybill      229577 non-null  object        \n",
      " 12  stop         229577 non-null  int64         \n",
      " 13  card_title   229577 non-null  int64         \n",
      " 14  card_type    229577 non-null  object        \n",
      " 15  fare         229577 non-null  float64       \n",
      "dtypes: datetime64[ns](1), float64(1), int64(8), object(6)\n",
      "memory usage: 107.7 MB\n"
     ]
    }
   ],
   "source": [
    "cards.info(memory_usage='deep')"
   ]
  },
  {
   "cell_type": "code",
   "execution_count": null,
   "id": "02a04733",
   "metadata": {},
   "outputs": [],
   "source": []
  },
  {
   "cell_type": "code",
   "execution_count": null,
   "id": "1a6e1215",
   "metadata": {},
   "outputs": [],
   "source": []
  },
  {
   "cell_type": "code",
   "execution_count": null,
   "id": "797312cc",
   "metadata": {},
   "outputs": [],
   "source": []
  },
  {
   "cell_type": "code",
   "execution_count": null,
   "id": "482196f0",
   "metadata": {},
   "outputs": [],
   "source": []
  },
  {
   "cell_type": "code",
   "execution_count": null,
   "id": "772db2ca",
   "metadata": {},
   "outputs": [],
   "source": []
  },
  {
   "cell_type": "code",
   "execution_count": null,
   "id": "7cf06281",
   "metadata": {},
   "outputs": [],
   "source": []
  },
  {
   "cell_type": "code",
   "execution_count": null,
   "id": "07aec189",
   "metadata": {},
   "outputs": [],
   "source": []
  },
  {
   "cell_type": "code",
   "execution_count": null,
   "id": "8ea0c717",
   "metadata": {},
   "outputs": [],
   "source": []
  },
  {
   "cell_type": "code",
   "execution_count": null,
   "id": "d771da1f",
   "metadata": {},
   "outputs": [],
   "source": []
  },
  {
   "cell_type": "code",
   "execution_count": null,
   "id": "46dd65e1",
   "metadata": {},
   "outputs": [],
   "source": []
  },
  {
   "cell_type": "code",
   "execution_count": null,
   "id": "d3d853ad",
   "metadata": {},
   "outputs": [],
   "source": []
  },
  {
   "cell_type": "code",
   "execution_count": null,
   "id": "81de2743",
   "metadata": {},
   "outputs": [],
   "source": []
  },
  {
   "cell_type": "code",
   "execution_count": null,
   "id": "57546541",
   "metadata": {},
   "outputs": [],
   "source": []
  },
  {
   "cell_type": "code",
   "execution_count": null,
   "id": "cc87256f",
   "metadata": {},
   "outputs": [],
   "source": []
  },
  {
   "cell_type": "code",
   "execution_count": 29,
   "id": "fa4ea9a1",
   "metadata": {},
   "outputs": [],
   "source": [
    "'''cards.to_csv('../data/tarjetas/cards.csv', sep=',', index=False)\n",
    "\n",
    "cards = pd.read_csv('../data/tarjetas/cards.csv')'''"
   ]
  }
 ],
 "metadata": {
  "kernelspec": {
   "display_name": "clase",
   "language": "python",
   "name": "clase"
  },
  "language_info": {
   "codemirror_mode": {
    "name": "ipython",
    "version": 3
   },
   "file_extension": ".py",
   "mimetype": "text/x-python",
   "name": "python",
   "nbconvert_exporter": "python",
   "pygments_lexer": "ipython3",
   "version": "3.9.7"
  }
 },
 "nbformat": 4,
 "nbformat_minor": 5
}
