{
 "cells": [
  {
   "cell_type": "code",
   "execution_count": 1,
   "id": "98bafe0f",
   "metadata": {},
   "outputs": [],
   "source": [
    "import pandas as pd\n",
    "import numpy as np\n",
    "\n",
    "pd.set_option('display.max_columns', None)  # es para enseñar todas las columnas del df\n",
    "#pd.set_option('display.max_rows', None)     # es para enseñar todas las filas del df\n",
    "\n",
    "\n",
    "import warnings\n",
    "warnings.simplefilter('ignore')   # es para quitar warnings"
   ]
  },
  {
   "cell_type": "markdown",
   "id": "c1dbbb23",
   "metadata": {},
   "source": [
    "## Cargo los archivos"
   ]
  },
  {
   "cell_type": "markdown",
   "id": "e333bfc5",
   "metadata": {},
   "source": [
    "#### Cargo tarjetas"
   ]
  },
  {
   "cell_type": "code",
   "execution_count": 2,
   "id": "dca207d6",
   "metadata": {},
   "outputs": [
    {
     "data": {
      "text/plain": [
       "\"# Leo todos los csv de la parte de tarjetas\\n\\netudiant = pd.read_csv('../data/tarjetas/Validaciones_titulo_1020.csv', sep=';')\\neleve = pd.read_csv('../data/tarjetas/Validaciones_titulo_1022.csv', sep=';')\\nita = pd.read_csv('../data/tarjetas/Validaciones_titulo_1033.csv', sep=';')\\npass_spsm = pd.read_csv('../data/tarjetas/Validaciones_titulo_3001.csv', sep=';')\\npass_ecole_jardinage = pd.read_csv('../data/tarjetas/Validaciones_titulo_3002.csv', sep=';')\\npass_baplm = pd.read_csv('../data/tarjetas/Validaciones_titulo_3003.csv', sep=';')\\ncarte_employee = pd.read_csv('../data/tarjetas/Validaciones_titulo_6020.csv', sep=';')\\n\\n# Concateno todos los dataframes de tarjetas\\n\\ncards = pd.concat([etudiant, eleve, ita, pass_spsm, pass_ecole_jardinage, pass_baplm, carte_employee])\\n\\n# Cambio los nombres de las columna sin espacios y a minusculas.\\n\\ncards.columns=[c.lower().replace(' ', '_') for c in cards.columns]\\n\\n# Convierto a csv los tarjetas\\n\\ncards.to_csv('../data/pasajeros/cards.csv', sep=',', index=False)\\n\""
      ]
     },
     "execution_count": 2,
     "metadata": {},
     "output_type": "execute_result"
    }
   ],
   "source": [
    "'''# Leo todos los csv de la parte de tarjetas\n",
    "\n",
    "etudiant = pd.read_csv('../data/tarjetas/Validaciones_titulo_1020.csv', sep=';')\n",
    "eleve = pd.read_csv('../data/tarjetas/Validaciones_titulo_1022.csv', sep=';')\n",
    "ita = pd.read_csv('../data/tarjetas/Validaciones_titulo_1033.csv', sep=';')\n",
    "pass_spsm = pd.read_csv('../data/tarjetas/Validaciones_titulo_3001.csv', sep=';')\n",
    "pass_ecole_jardinage = pd.read_csv('../data/tarjetas/Validaciones_titulo_3002.csv', sep=';')\n",
    "pass_baplm = pd.read_csv('../data/tarjetas/Validaciones_titulo_3003.csv', sep=';')\n",
    "carte_employee = pd.read_csv('../data/tarjetas/Validaciones_titulo_6020.csv', sep=';')\n",
    "\n",
    "# Concateno todos los dataframes de tarjetas\n",
    "\n",
    "cards = pd.concat([etudiant, eleve, ita, pass_spsm, pass_ecole_jardinage, pass_baplm, carte_employee])\n",
    "\n",
    "# Cambio los nombres de las columna sin espacios y a minusculas.\n",
    "\n",
    "cards.columns=[c.lower().replace(' ', '_') for c in cards.columns]\n",
    "\n",
    "# Convierto a csv los tarjetas\n",
    "\n",
    "cards.to_csv('../data/pasajeros/cards.csv', sep=',', index=False)\n",
    "'''"
   ]
  },
  {
   "cell_type": "code",
   "execution_count": 3,
   "id": "5fd3e5a2",
   "metadata": {},
   "outputs": [],
   "source": [
    "# Cargo los csv de tickets\n",
    "\n",
    "cards = pd.read_csv('../data/pasajeros/cards.csv')"
   ]
  },
  {
   "cell_type": "code",
   "execution_count": 4,
   "id": "8abcbdea",
   "metadata": {},
   "outputs": [
    {
     "data": {
      "text/html": [
       "<div>\n",
       "<style scoped>\n",
       "    .dataframe tbody tr th:only-of-type {\n",
       "        vertical-align: middle;\n",
       "    }\n",
       "\n",
       "    .dataframe tbody tr th {\n",
       "        vertical-align: top;\n",
       "    }\n",
       "\n",
       "    .dataframe thead th {\n",
       "        text-align: right;\n",
       "    }\n",
       "</style>\n",
       "<table border=\"1\" class=\"dataframe\">\n",
       "  <thead>\n",
       "    <tr style=\"text-align: right;\">\n",
       "      <th></th>\n",
       "      <th>date</th>\n",
       "      <th>card_number</th>\n",
       "      <th>operation</th>\n",
       "      <th>bus</th>\n",
       "      <th>machine</th>\n",
       "      <th>driver</th>\n",
       "      <th>settlement</th>\n",
       "      <th>route</th>\n",
       "      <th>route_name</th>\n",
       "      <th>line</th>\n",
       "      <th>line_name</th>\n",
       "      <th>waybill</th>\n",
       "      <th>stop</th>\n",
       "      <th>card_title</th>\n",
       "      <th>card_type</th>\n",
       "      <th>fare</th>\n",
       "      <th>fecha_inicio</th>\n",
       "      <th>fechacaducidad</th>\n",
       "    </tr>\n",
       "  </thead>\n",
       "  <tbody>\n",
       "    <tr>\n",
       "      <th>0</th>\n",
       "      <td>2022-03-21 05:59:28.000</td>\n",
       "      <td>43230192</td>\n",
       "      <td>Entry validation</td>\n",
       "      <td>30064</td>\n",
       "      <td>5773</td>\n",
       "      <td>2114</td>\n",
       "      <td>AA01621</td>\n",
       "      <td>8</td>\n",
       "      <td>L8</td>\n",
       "      <td>203</td>\n",
       "      <td>AIN AOUDA-HIZB EL ES</td>\n",
       "      <td>AA09101</td>\n",
       "      <td>11670</td>\n",
       "      <td>1020</td>\n",
       "      <td>Etudiant</td>\n",
       "      <td>0.0</td>\n",
       "      <td>NaN</td>\n",
       "      <td>NaN</td>\n",
       "    </tr>\n",
       "    <tr>\n",
       "      <th>1</th>\n",
       "      <td>2022-03-21 06:03:51.000</td>\n",
       "      <td>18701088</td>\n",
       "      <td>Entry validation</td>\n",
       "      <td>30018</td>\n",
       "      <td>5828</td>\n",
       "      <td>1945</td>\n",
       "      <td>AA01567</td>\n",
       "      <td>38</td>\n",
       "      <td>L38</td>\n",
       "      <td>205</td>\n",
       "      <td>TAMESSNA-BAB EL HAD</td>\n",
       "      <td>AA08462</td>\n",
       "      <td>10429</td>\n",
       "      <td>1020</td>\n",
       "      <td>Etudiant</td>\n",
       "      <td>0.0</td>\n",
       "      <td>NaN</td>\n",
       "      <td>NaN</td>\n",
       "    </tr>\n",
       "    <tr>\n",
       "      <th>2</th>\n",
       "      <td>2022-03-21 06:18:53.000</td>\n",
       "      <td>2443413712</td>\n",
       "      <td>Entry validation</td>\n",
       "      <td>30292</td>\n",
       "      <td>5677</td>\n",
       "      <td>1611</td>\n",
       "      <td>AA01360</td>\n",
       "      <td>9</td>\n",
       "      <td>L9</td>\n",
       "      <td>102</td>\n",
       "      <td>KARIA-KAMRA</td>\n",
       "      <td>AA09919</td>\n",
       "      <td>10986</td>\n",
       "      <td>1020</td>\n",
       "      <td>Etudiant</td>\n",
       "      <td>0.0</td>\n",
       "      <td>NaN</td>\n",
       "      <td>NaN</td>\n",
       "    </tr>\n",
       "    <tr>\n",
       "      <th>3</th>\n",
       "      <td>2022-03-21 06:19:43.000</td>\n",
       "      <td>3472759179</td>\n",
       "      <td>Entry validation</td>\n",
       "      <td>30269</td>\n",
       "      <td>5723</td>\n",
       "      <td>2077</td>\n",
       "      <td>AA01558</td>\n",
       "      <td>303</td>\n",
       "      <td>L303</td>\n",
       "      <td>202</td>\n",
       "      <td>AIN AOUDA-CHIGA</td>\n",
       "      <td>AA08470</td>\n",
       "      <td>11846</td>\n",
       "      <td>1020</td>\n",
       "      <td>Etudiant</td>\n",
       "      <td>0.0</td>\n",
       "      <td>NaN</td>\n",
       "      <td>NaN</td>\n",
       "    </tr>\n",
       "    <tr>\n",
       "      <th>4</th>\n",
       "      <td>2022-03-21 06:19:48.000</td>\n",
       "      <td>3862394236</td>\n",
       "      <td>Entry validation</td>\n",
       "      <td>30158</td>\n",
       "      <td>5553</td>\n",
       "      <td>596</td>\n",
       "      <td>AA01767</td>\n",
       "      <td>8</td>\n",
       "      <td>L8</td>\n",
       "      <td>203</td>\n",
       "      <td>AIN AOUDA-HIZB EL ES</td>\n",
       "      <td>AA10900</td>\n",
       "      <td>11602</td>\n",
       "      <td>1020</td>\n",
       "      <td>Etudiant</td>\n",
       "      <td>0.0</td>\n",
       "      <td>NaN</td>\n",
       "      <td>NaN</td>\n",
       "    </tr>\n",
       "  </tbody>\n",
       "</table>\n",
       "</div>"
      ],
      "text/plain": [
       "                      date  card_number         operation    bus  machine  \\\n",
       "0  2022-03-21 05:59:28.000     43230192  Entry validation  30064     5773   \n",
       "1  2022-03-21 06:03:51.000     18701088  Entry validation  30018     5828   \n",
       "2  2022-03-21 06:18:53.000   2443413712  Entry validation  30292     5677   \n",
       "3  2022-03-21 06:19:43.000   3472759179  Entry validation  30269     5723   \n",
       "4  2022-03-21 06:19:48.000   3862394236  Entry validation  30158     5553   \n",
       "\n",
       "   driver settlement  route route_name  line             line_name  waybill  \\\n",
       "0    2114    AA01621      8         L8   203  AIN AOUDA-HIZB EL ES  AA09101   \n",
       "1    1945    AA01567     38        L38   205   TAMESSNA-BAB EL HAD  AA08462   \n",
       "2    1611    AA01360      9         L9   102           KARIA-KAMRA  AA09919   \n",
       "3    2077    AA01558    303       L303   202       AIN AOUDA-CHIGA  AA08470   \n",
       "4     596    AA01767      8         L8   203  AIN AOUDA-HIZB EL ES  AA10900   \n",
       "\n",
       "    stop  card_title card_type  fare  fecha_inicio  fechacaducidad  \n",
       "0  11670        1020  Etudiant   0.0           NaN             NaN  \n",
       "1  10429        1020  Etudiant   0.0           NaN             NaN  \n",
       "2  10986        1020  Etudiant   0.0           NaN             NaN  \n",
       "3  11846        1020  Etudiant   0.0           NaN             NaN  \n",
       "4  11602        1020  Etudiant   0.0           NaN             NaN  "
      ]
     },
     "execution_count": 4,
     "metadata": {},
     "output_type": "execute_result"
    }
   ],
   "source": [
    "cards.head()"
   ]
  },
  {
   "cell_type": "markdown",
   "id": "d9f0633c",
   "metadata": {},
   "source": [
    "#### Cargo tickets"
   ]
  },
  {
   "cell_type": "code",
   "execution_count": 5,
   "id": "ff6ba06a",
   "metadata": {},
   "outputs": [
    {
     "data": {
      "text/plain": [
       "\"# Leo todos los csv de la parte de tickets\\n\\nlunes = pd.read_excel('../data/billetes/Billetes_21032022.xlsx')\\nmartes = pd.read_excel('../data/billetes/Billetes_22032022.xlsx')\\nmiercoles = pd.read_excel('../data/billetes/Billetes_23032022.xlsx')\\njueves = pd.read_excel('../data/billetes/Billetes_24032022.xlsx')\\nviernes = pd.read_excel('../data/billetes/Billetes_25032022.xlsx')\\nsabado = pd.read_excel('../data/billetes/Billetes_26032022.xlsx')\\ndomingo = pd.read_excel('../data/billetes/Billetes_27032022.xlsx')\\n\\n# Función para modificar el nombre de las columnas\\n\\ndef rename_columns(lista):\\n    \\n    for file in lista:\\n        \\n        file.columns=[c.lower().replace(' ', '_') for c in file.columns]\\n    \\n    df = pd.concat([lunes, martes, miercoles, jueves, viernes, sabado, domingo])\\n    \\n    return df\\n\\n# llamo a la función para modificar las columnas\\n\\ndias = [lunes, martes, miercoles, jueves, viernes, sabado, domingo]\\n\\ntickets = rename_columns(dias)\\n\\n# Convierto a csv los tickets\\n\\ntickets.to_csv('../data/pasajeros/tickets.csv', sep=',', index=False)\""
      ]
     },
     "execution_count": 5,
     "metadata": {},
     "output_type": "execute_result"
    }
   ],
   "source": [
    "'''# Leo todos los csv de la parte de tickets\n",
    "\n",
    "lunes = pd.read_excel('../data/billetes/Billetes_21032022.xlsx')\n",
    "martes = pd.read_excel('../data/billetes/Billetes_22032022.xlsx')\n",
    "miercoles = pd.read_excel('../data/billetes/Billetes_23032022.xlsx')\n",
    "jueves = pd.read_excel('../data/billetes/Billetes_24032022.xlsx')\n",
    "viernes = pd.read_excel('../data/billetes/Billetes_25032022.xlsx')\n",
    "sabado = pd.read_excel('../data/billetes/Billetes_26032022.xlsx')\n",
    "domingo = pd.read_excel('../data/billetes/Billetes_27032022.xlsx')\n",
    "\n",
    "# Función para modificar el nombre de las columnas\n",
    "\n",
    "def rename_columns(lista):\n",
    "    \n",
    "    for file in lista:\n",
    "        \n",
    "        file.columns=[c.lower().replace(' ', '_') for c in file.columns]\n",
    "    \n",
    "    df = pd.concat([lunes, martes, miercoles, jueves, viernes, sabado, domingo])\n",
    "    \n",
    "    return df\n",
    "\n",
    "# llamo a la función para modificar las columnas\n",
    "\n",
    "dias = [lunes, martes, miercoles, jueves, viernes, sabado, domingo]\n",
    "\n",
    "tickets = rename_columns(dias)\n",
    "\n",
    "# Convierto a csv los tickets\n",
    "\n",
    "tickets.to_csv('../data/pasajeros/tickets.csv', sep=',', index=False)'''\n",
    "\n"
   ]
  },
  {
   "cell_type": "code",
   "execution_count": 6,
   "id": "2d297d5a",
   "metadata": {},
   "outputs": [],
   "source": [
    "# Cargo los csv de tickets\n",
    "\n",
    "tickets = pd.read_csv('../data/pasajeros/tickets.csv')"
   ]
  },
  {
   "cell_type": "code",
   "execution_count": 7,
   "id": "6fcdf5d3",
   "metadata": {},
   "outputs": [
    {
     "data": {
      "text/html": [
       "<div>\n",
       "<style scoped>\n",
       "    .dataframe tbody tr th:only-of-type {\n",
       "        vertical-align: middle;\n",
       "    }\n",
       "\n",
       "    .dataframe tbody tr th {\n",
       "        vertical-align: top;\n",
       "    }\n",
       "\n",
       "    .dataframe thead th {\n",
       "        text-align: right;\n",
       "    }\n",
       "</style>\n",
       "<table border=\"1\" class=\"dataframe\">\n",
       "  <thead>\n",
       "    <tr style=\"text-align: right;\">\n",
       "      <th></th>\n",
       "      <th>bus</th>\n",
       "      <th>conductor</th>\n",
       "      <th>maquina</th>\n",
       "      <th>liquidacion</th>\n",
       "      <th>fecha</th>\n",
       "      <th>tarifa</th>\n",
       "      <th>nombretarifa</th>\n",
       "      <th>precio</th>\n",
       "      <th>billete</th>\n",
       "      <th>linea</th>\n",
       "      <th>trayecto</th>\n",
       "      <th>parada</th>\n",
       "    </tr>\n",
       "  </thead>\n",
       "  <tbody>\n",
       "    <tr>\n",
       "      <th>0</th>\n",
       "      <td>30037</td>\n",
       "      <td>8888</td>\n",
       "      <td>5573</td>\n",
       "      <td>AA01731</td>\n",
       "      <td>2022-03-21 00:02:31.000</td>\n",
       "      <td>1</td>\n",
       "      <td>ORDINAIRE</td>\n",
       "      <td>5000</td>\n",
       "      <td>AI26354</td>\n",
       "      <td>5</td>\n",
       "      <td>102</td>\n",
       "      <td>10069</td>\n",
       "    </tr>\n",
       "    <tr>\n",
       "      <th>1</th>\n",
       "      <td>30037</td>\n",
       "      <td>8888</td>\n",
       "      <td>5573</td>\n",
       "      <td>AA01731</td>\n",
       "      <td>2022-03-21 00:02:33.000</td>\n",
       "      <td>1</td>\n",
       "      <td>ORDINAIRE</td>\n",
       "      <td>5000</td>\n",
       "      <td>AI26355</td>\n",
       "      <td>5</td>\n",
       "      <td>102</td>\n",
       "      <td>10069</td>\n",
       "    </tr>\n",
       "    <tr>\n",
       "      <th>2</th>\n",
       "      <td>30037</td>\n",
       "      <td>8888</td>\n",
       "      <td>5573</td>\n",
       "      <td>AA01731</td>\n",
       "      <td>2022-03-21 00:02:34.000</td>\n",
       "      <td>1</td>\n",
       "      <td>ORDINAIRE</td>\n",
       "      <td>5000</td>\n",
       "      <td>AI26356</td>\n",
       "      <td>5</td>\n",
       "      <td>102</td>\n",
       "      <td>10069</td>\n",
       "    </tr>\n",
       "    <tr>\n",
       "      <th>3</th>\n",
       "      <td>30037</td>\n",
       "      <td>8888</td>\n",
       "      <td>5573</td>\n",
       "      <td>AA01731</td>\n",
       "      <td>2022-03-21 00:02:36.000</td>\n",
       "      <td>1</td>\n",
       "      <td>ORDINAIRE</td>\n",
       "      <td>5000</td>\n",
       "      <td>AI26357</td>\n",
       "      <td>5</td>\n",
       "      <td>102</td>\n",
       "      <td>10069</td>\n",
       "    </tr>\n",
       "    <tr>\n",
       "      <th>4</th>\n",
       "      <td>30037</td>\n",
       "      <td>8888</td>\n",
       "      <td>5573</td>\n",
       "      <td>AA01731</td>\n",
       "      <td>2022-03-21 00:02:37.000</td>\n",
       "      <td>1</td>\n",
       "      <td>ORDINAIRE</td>\n",
       "      <td>5000</td>\n",
       "      <td>AI26358</td>\n",
       "      <td>5</td>\n",
       "      <td>102</td>\n",
       "      <td>10069</td>\n",
       "    </tr>\n",
       "  </tbody>\n",
       "</table>\n",
       "</div>"
      ],
      "text/plain": [
       "     bus  conductor  maquina liquidacion                    fecha  tarifa  \\\n",
       "0  30037       8888     5573     AA01731  2022-03-21 00:02:31.000       1   \n",
       "1  30037       8888     5573     AA01731  2022-03-21 00:02:33.000       1   \n",
       "2  30037       8888     5573     AA01731  2022-03-21 00:02:34.000       1   \n",
       "3  30037       8888     5573     AA01731  2022-03-21 00:02:36.000       1   \n",
       "4  30037       8888     5573     AA01731  2022-03-21 00:02:37.000       1   \n",
       "\n",
       "  nombretarifa  precio  billete  linea  trayecto  parada  \n",
       "0    ORDINAIRE    5000  AI26354      5       102   10069  \n",
       "1    ORDINAIRE    5000  AI26355      5       102   10069  \n",
       "2    ORDINAIRE    5000  AI26356      5       102   10069  \n",
       "3    ORDINAIRE    5000  AI26357      5       102   10069  \n",
       "4    ORDINAIRE    5000  AI26358      5       102   10069  "
      ]
     },
     "execution_count": 7,
     "metadata": {},
     "output_type": "execute_result"
    }
   ],
   "source": [
    "tickets.head()"
   ]
  },
  {
   "cell_type": "markdown",
   "id": "e4c6ebe2",
   "metadata": {},
   "source": [
    "#### Cargo Topologia"
   ]
  },
  {
   "cell_type": "code",
   "execution_count": 8,
   "id": "decbf726",
   "metadata": {},
   "outputs": [
    {
     "data": {
      "text/plain": [
       "\"# Cargo el archivo de topologia\\n\\ntopologia = pd.read_csv('../data/red_transporte/topologia.csv')\\n\\n# Modificio las columnas a minusculas y sin espacios.\\n\\ntopologia.columns=[c.lower().replace(' ', '_') for c in topologia.columns]\\n\\n# Convierto a csv los tickets\\n\\ntopologia.to_csv('../data/pasajeros/topologia.csv', sep=',', index=False)\\n\""
      ]
     },
     "execution_count": 8,
     "metadata": {},
     "output_type": "execute_result"
    }
   ],
   "source": [
    "'''# Cargo el archivo de topologia\n",
    "\n",
    "topologia = pd.read_csv('../data/red_transporte/topologia.csv')\n",
    "\n",
    "# Modificio las columnas a minusculas y sin espacios.\n",
    "\n",
    "topologia.columns=[c.lower().replace(' ', '_') for c in topologia.columns]\n",
    "\n",
    "# Convierto a csv los tickets\n",
    "\n",
    "topologia.to_csv('../data/pasajeros/topologia.csv', sep=',', index=False)\n",
    "'''"
   ]
  },
  {
   "cell_type": "code",
   "execution_count": 9,
   "id": "3a8a57c6",
   "metadata": {},
   "outputs": [],
   "source": [
    "# Cargo el archivo de topologia\n",
    "\n",
    "topologia = pd.read_csv('../data/pasajeros/topologia.csv')"
   ]
  },
  {
   "cell_type": "code",
   "execution_count": 10,
   "id": "822db256",
   "metadata": {},
   "outputs": [
    {
     "data": {
      "text/html": [
       "<div>\n",
       "<style scoped>\n",
       "    .dataframe tbody tr th:only-of-type {\n",
       "        vertical-align: middle;\n",
       "    }\n",
       "\n",
       "    .dataframe tbody tr th {\n",
       "        vertical-align: top;\n",
       "    }\n",
       "\n",
       "    .dataframe thead th {\n",
       "        text-align: right;\n",
       "    }\n",
       "</style>\n",
       "<table border=\"1\" class=\"dataframe\">\n",
       "  <thead>\n",
       "    <tr style=\"text-align: right;\">\n",
       "      <th></th>\n",
       "      <th>route_code_gmv</th>\n",
       "      <th>route</th>\n",
       "      <th>route_name</th>\n",
       "      <th>line_code</th>\n",
       "      <th>line_name</th>\n",
       "      <th>stop_order</th>\n",
       "      <th>stop_code_gmv</th>\n",
       "      <th>stop_name</th>\n",
       "      <th>stop_code_alsa</th>\n",
       "      <th>latitude</th>\n",
       "      <th>longitude</th>\n",
       "    </tr>\n",
       "  </thead>\n",
       "  <tbody>\n",
       "    <tr>\n",
       "      <th>0</th>\n",
       "      <td>1</td>\n",
       "      <td>L1</td>\n",
       "      <td>L1 BAB CHELLAH-DOHA</td>\n",
       "      <td>103</td>\n",
       "      <td>BAB CHALLEH-DOHA</td>\n",
       "      <td>1</td>\n",
       "      <td>10005</td>\n",
       "      <td>Bab Chellah</td>\n",
       "      <td>73006</td>\n",
       "      <td>34,02329786</td>\n",
       "      <td>-6,834576334</td>\n",
       "    </tr>\n",
       "    <tr>\n",
       "      <th>1</th>\n",
       "      <td>1</td>\n",
       "      <td>L1</td>\n",
       "      <td>L1 BAB CHELLAH-DOHA</td>\n",
       "      <td>103</td>\n",
       "      <td>BAB CHALLEH-DOHA</td>\n",
       "      <td>2</td>\n",
       "      <td>10007</td>\n",
       "      <td>Bab Mellah</td>\n",
       "      <td>73008</td>\n",
       "      <td>34,02500069</td>\n",
       "      <td>-6,829615092</td>\n",
       "    </tr>\n",
       "    <tr>\n",
       "      <th>2</th>\n",
       "      <td>1</td>\n",
       "      <td>L1</td>\n",
       "      <td>L1 BAB CHELLAH-DOHA</td>\n",
       "      <td>103</td>\n",
       "      <td>BAB CHALLEH-DOHA</td>\n",
       "      <td>3</td>\n",
       "      <td>10044</td>\n",
       "      <td>Bab Khmiss</td>\n",
       "      <td>73046</td>\n",
       "      <td>34,03663288</td>\n",
       "      <td>-6,817232328</td>\n",
       "    </tr>\n",
       "    <tr>\n",
       "      <th>3</th>\n",
       "      <td>1</td>\n",
       "      <td>L1</td>\n",
       "      <td>L1 BAB CHELLAH-DOHA</td>\n",
       "      <td>103</td>\n",
       "      <td>BAB CHALLEH-DOHA</td>\n",
       "      <td>4</td>\n",
       "      <td>10046</td>\n",
       "      <td>Diar</td>\n",
       "      <td>73048</td>\n",
       "      <td>34,04143426</td>\n",
       "      <td>-6,816443938</td>\n",
       "    </tr>\n",
       "    <tr>\n",
       "      <th>4</th>\n",
       "      <td>1</td>\n",
       "      <td>L1</td>\n",
       "      <td>L1 BAB CHELLAH-DOHA</td>\n",
       "      <td>103</td>\n",
       "      <td>BAB CHALLEH-DOHA</td>\n",
       "      <td>5</td>\n",
       "      <td>10048</td>\n",
       "      <td>Mkinsiya</td>\n",
       "      <td>73050</td>\n",
       "      <td>34,04413576</td>\n",
       "      <td>-6,817705018</td>\n",
       "    </tr>\n",
       "  </tbody>\n",
       "</table>\n",
       "</div>"
      ],
      "text/plain": [
       "   route_code_gmv route           route_name  line_code         line_name  \\\n",
       "0               1    L1  L1 BAB CHELLAH-DOHA        103  BAB CHALLEH-DOHA   \n",
       "1               1    L1  L1 BAB CHELLAH-DOHA        103  BAB CHALLEH-DOHA   \n",
       "2               1    L1  L1 BAB CHELLAH-DOHA        103  BAB CHALLEH-DOHA   \n",
       "3               1    L1  L1 BAB CHELLAH-DOHA        103  BAB CHALLEH-DOHA   \n",
       "4               1    L1  L1 BAB CHELLAH-DOHA        103  BAB CHALLEH-DOHA   \n",
       "\n",
       "   stop_order  stop_code_gmv    stop_name  stop_code_alsa     latitude  \\\n",
       "0           1          10005  Bab Chellah           73006  34,02329786   \n",
       "1           2          10007   Bab Mellah           73008  34,02500069   \n",
       "2           3          10044   Bab Khmiss           73046  34,03663288   \n",
       "3           4          10046         Diar           73048  34,04143426   \n",
       "4           5          10048     Mkinsiya           73050  34,04413576   \n",
       "\n",
       "      longitude  \n",
       "0  -6,834576334  \n",
       "1  -6,829615092  \n",
       "2  -6,817232328  \n",
       "3  -6,816443938  \n",
       "4  -6,817705018  "
      ]
     },
     "execution_count": 10,
     "metadata": {},
     "output_type": "execute_result"
    }
   ],
   "source": [
    "topologia.head()"
   ]
  },
  {
   "cell_type": "markdown",
   "id": "7045c878",
   "metadata": {},
   "source": [
    "## Limpieza de datos"
   ]
  },
  {
   "cell_type": "markdown",
   "id": "441b2123",
   "metadata": {},
   "source": [
    "#### Limpieza Cards"
   ]
  },
  {
   "cell_type": "code",
   "execution_count": 11,
   "id": "84d7607d",
   "metadata": {},
   "outputs": [],
   "source": [
    "# Elimino las columnas que no quiero\n",
    "\n",
    "cards = cards.drop(['fecha_inicio', 'fechacaducidad'], axis=1)"
   ]
  },
  {
   "cell_type": "code",
   "execution_count": 12,
   "id": "4677c15f",
   "metadata": {},
   "outputs": [],
   "source": [
    "# Elimino las columnas que no quiero\n",
    "\n",
    "cards = cards.drop(['card_title', 'waybill', 'route_name', 'line_name' ], axis=1)"
   ]
  },
  {
   "cell_type": "code",
   "execution_count": 13,
   "id": "153c1899",
   "metadata": {},
   "outputs": [],
   "source": [
    "# Cambio el formato a de fecha a datetime64\n",
    "\n",
    "cards.date = cards.date.astype('datetime64[ns]')"
   ]
  },
  {
   "cell_type": "code",
   "execution_count": 14,
   "id": "736daf20",
   "metadata": {},
   "outputs": [],
   "source": [
    "# Me quedo con fecha inferiores al '2022-03-28'\n",
    "\n",
    "cards =cards[cards.date < '2022-03-28']"
   ]
  },
  {
   "cell_type": "code",
   "execution_count": 15,
   "id": "c82cfa5d",
   "metadata": {},
   "outputs": [],
   "source": [
    "# Modifico el nombre de las columnas\n",
    "\n",
    "columnas = {'card_number': 'ticket_number', 'route': 'route_code', 'line': 'line_code', 'stop': 'stop_code', 'card_type': 'operation_type'}\n",
    "\n",
    "cards = cards.rename(columns=columnas)"
   ]
  },
  {
   "cell_type": "code",
   "execution_count": 16,
   "id": "a2e14acc",
   "metadata": {},
   "outputs": [],
   "source": [
    "# Ordeno las columnas\n",
    "\n",
    "column_names = [\"date\", \"bus\", \"machine\", \"driver\", \"settlement\", \"ticket_number\", \"operation\", \"operation_type\", \"fare\", \"route_code\", \"line_code\", \"stop_code\"]\n",
    "\n",
    "cards = cards.reindex(columns=column_names)"
   ]
  },
  {
   "cell_type": "code",
   "execution_count": 17,
   "id": "a9b526bf",
   "metadata": {},
   "outputs": [],
   "source": [
    "# Cambio el tipo de dato 'ticket_number' a object\n",
    "\n",
    "cards = cards.astype({'ticket_number': 'object'})"
   ]
  },
  {
   "cell_type": "code",
   "execution_count": 18,
   "id": "4ca4625f",
   "metadata": {},
   "outputs": [],
   "source": [
    "# Me quedo solo con Validaciones y Transfers\n",
    "\n",
    "cards = cards[(cards.operation == 'Entry validation') | (cards.operation == 'Transfer (entry)')]\n",
    "\n",
    "# Modifico lo valores de valores a Validation y Transfer\n",
    "\n",
    "cards.operation.replace('Entry validation', 'Validation', inplace=True)\n",
    "cards.operation.replace('Transfer (entry)', 'Transfer', inplace=True)\n"
   ]
  },
  {
   "cell_type": "code",
   "execution_count": 19,
   "id": "68464cb8",
   "metadata": {},
   "outputs": [
    {
     "data": {
      "text/html": [
       "<div>\n",
       "<style scoped>\n",
       "    .dataframe tbody tr th:only-of-type {\n",
       "        vertical-align: middle;\n",
       "    }\n",
       "\n",
       "    .dataframe tbody tr th {\n",
       "        vertical-align: top;\n",
       "    }\n",
       "\n",
       "    .dataframe thead th {\n",
       "        text-align: right;\n",
       "    }\n",
       "</style>\n",
       "<table border=\"1\" class=\"dataframe\">\n",
       "  <thead>\n",
       "    <tr style=\"text-align: right;\">\n",
       "      <th></th>\n",
       "      <th>date</th>\n",
       "      <th>bus</th>\n",
       "      <th>machine</th>\n",
       "      <th>driver</th>\n",
       "      <th>settlement</th>\n",
       "      <th>ticket_number</th>\n",
       "      <th>operation</th>\n",
       "      <th>operation_type</th>\n",
       "      <th>fare</th>\n",
       "      <th>route_code</th>\n",
       "      <th>line_code</th>\n",
       "      <th>stop_code</th>\n",
       "    </tr>\n",
       "  </thead>\n",
       "  <tbody>\n",
       "    <tr>\n",
       "      <th>0</th>\n",
       "      <td>2022-03-21 05:59:28</td>\n",
       "      <td>30064</td>\n",
       "      <td>5773</td>\n",
       "      <td>2114</td>\n",
       "      <td>AA01621</td>\n",
       "      <td>43230192</td>\n",
       "      <td>Validation</td>\n",
       "      <td>Etudiant</td>\n",
       "      <td>0.0</td>\n",
       "      <td>8</td>\n",
       "      <td>203</td>\n",
       "      <td>11670</td>\n",
       "    </tr>\n",
       "    <tr>\n",
       "      <th>1</th>\n",
       "      <td>2022-03-21 06:03:51</td>\n",
       "      <td>30018</td>\n",
       "      <td>5828</td>\n",
       "      <td>1945</td>\n",
       "      <td>AA01567</td>\n",
       "      <td>18701088</td>\n",
       "      <td>Validation</td>\n",
       "      <td>Etudiant</td>\n",
       "      <td>0.0</td>\n",
       "      <td>38</td>\n",
       "      <td>205</td>\n",
       "      <td>10429</td>\n",
       "    </tr>\n",
       "    <tr>\n",
       "      <th>2</th>\n",
       "      <td>2022-03-21 06:18:53</td>\n",
       "      <td>30292</td>\n",
       "      <td>5677</td>\n",
       "      <td>1611</td>\n",
       "      <td>AA01360</td>\n",
       "      <td>2443413712</td>\n",
       "      <td>Validation</td>\n",
       "      <td>Etudiant</td>\n",
       "      <td>0.0</td>\n",
       "      <td>9</td>\n",
       "      <td>102</td>\n",
       "      <td>10986</td>\n",
       "    </tr>\n",
       "    <tr>\n",
       "      <th>3</th>\n",
       "      <td>2022-03-21 06:19:43</td>\n",
       "      <td>30269</td>\n",
       "      <td>5723</td>\n",
       "      <td>2077</td>\n",
       "      <td>AA01558</td>\n",
       "      <td>3472759179</td>\n",
       "      <td>Validation</td>\n",
       "      <td>Etudiant</td>\n",
       "      <td>0.0</td>\n",
       "      <td>303</td>\n",
       "      <td>202</td>\n",
       "      <td>11846</td>\n",
       "    </tr>\n",
       "    <tr>\n",
       "      <th>4</th>\n",
       "      <td>2022-03-21 06:19:48</td>\n",
       "      <td>30158</td>\n",
       "      <td>5553</td>\n",
       "      <td>596</td>\n",
       "      <td>AA01767</td>\n",
       "      <td>3862394236</td>\n",
       "      <td>Validation</td>\n",
       "      <td>Etudiant</td>\n",
       "      <td>0.0</td>\n",
       "      <td>8</td>\n",
       "      <td>203</td>\n",
       "      <td>11602</td>\n",
       "    </tr>\n",
       "  </tbody>\n",
       "</table>\n",
       "</div>"
      ],
      "text/plain": [
       "                 date    bus  machine  driver settlement ticket_number  \\\n",
       "0 2022-03-21 05:59:28  30064     5773    2114    AA01621      43230192   \n",
       "1 2022-03-21 06:03:51  30018     5828    1945    AA01567      18701088   \n",
       "2 2022-03-21 06:18:53  30292     5677    1611    AA01360    2443413712   \n",
       "3 2022-03-21 06:19:43  30269     5723    2077    AA01558    3472759179   \n",
       "4 2022-03-21 06:19:48  30158     5553     596    AA01767    3862394236   \n",
       "\n",
       "    operation operation_type  fare  route_code  line_code  stop_code  \n",
       "0  Validation       Etudiant   0.0           8        203      11670  \n",
       "1  Validation       Etudiant   0.0          38        205      10429  \n",
       "2  Validation       Etudiant   0.0           9        102      10986  \n",
       "3  Validation       Etudiant   0.0         303        202      11846  \n",
       "4  Validation       Etudiant   0.0           8        203      11602  "
      ]
     },
     "execution_count": 19,
     "metadata": {},
     "output_type": "execute_result"
    }
   ],
   "source": [
    "cards.head()"
   ]
  },
  {
   "cell_type": "code",
   "execution_count": 20,
   "id": "948ee7de",
   "metadata": {},
   "outputs": [
    {
     "name": "stdout",
     "output_type": "stream",
     "text": [
      "<class 'pandas.core.frame.DataFrame'>\n",
      "Int64Index: 229258 entries, 0 to 1269680\n",
      "Data columns (total 12 columns):\n",
      " #   Column          Non-Null Count   Dtype         \n",
      "---  ------          --------------   -----         \n",
      " 0   date            229258 non-null  datetime64[ns]\n",
      " 1   bus             229258 non-null  int64         \n",
      " 2   machine         229258 non-null  int64         \n",
      " 3   driver          229258 non-null  int64         \n",
      " 4   settlement      229258 non-null  object        \n",
      " 5   ticket_number   229258 non-null  object        \n",
      " 6   operation       229258 non-null  object        \n",
      " 7   operation_type  229258 non-null  object        \n",
      " 8   fare            229258 non-null  float64       \n",
      " 9   route_code      229258 non-null  int64         \n",
      " 10  line_code       229258 non-null  int64         \n",
      " 11  stop_code       229258 non-null  int64         \n",
      "dtypes: datetime64[ns](1), float64(1), int64(6), object(4)\n",
      "memory usage: 22.7+ MB\n"
     ]
    }
   ],
   "source": [
    "cards.info()"
   ]
  },
  {
   "cell_type": "markdown",
   "id": "a7cd1ebc",
   "metadata": {},
   "source": [
    "#### Limpieza Tickets"
   ]
  },
  {
   "cell_type": "code",
   "execution_count": 21,
   "id": "aedb1dc6",
   "metadata": {},
   "outputs": [],
   "source": [
    "# Sustituyo el tipo de tarifa a object y como Ticket\n",
    "\n",
    "tickets.tarifa.replace(1, 'Ticket', inplace=True)"
   ]
  },
  {
   "cell_type": "code",
   "execution_count": 22,
   "id": "a5042409",
   "metadata": {},
   "outputs": [],
   "source": [
    "# Renombro las columnas\n",
    "\n",
    "columnas2 = {'conductor': 'driver', 'maquina': 'machine', 'liquidacion': 'settlement', 'fecha': 'date', 'tarifa': 'operation_type', 'nombretarifa': 'operation', 'precio': 'fare', 'billete': 'ticket_number', 'linea': 'route_code', 'trayecto': 'line_code', 'parada': 'stop_code'}\n",
    "\n",
    "tickets = tickets.rename(columns=columnas2)"
   ]
  },
  {
   "cell_type": "code",
   "execution_count": 23,
   "id": "d081f83f",
   "metadata": {},
   "outputs": [],
   "source": [
    "# Ordeno las columnas\n",
    "\n",
    "column_names = [\"date\", \"bus\", \"machine\", \"driver\", \"settlement\", \"ticket_number\", \"operation\", \"operation_type\", \"fare\", \"route_code\", \"line_code\", \"stop_code\"]\n",
    "\n",
    "tickets = tickets.reindex(columns=column_names)"
   ]
  },
  {
   "cell_type": "code",
   "execution_count": 24,
   "id": "4ec7a6d0",
   "metadata": {},
   "outputs": [],
   "source": [
    "# Cambio el formato de fecha a datetime64\n",
    "\n",
    "tickets.date = tickets.date.astype('datetime64[ns]')"
   ]
  },
  {
   "cell_type": "code",
   "execution_count": 25,
   "id": "5bd9d532",
   "metadata": {},
   "outputs": [],
   "source": [
    "# Cambio el tipo de dato 'ticket_number' a object\n",
    "\n",
    "tickets = tickets.astype({'fare': 'float64'})"
   ]
  },
  {
   "cell_type": "code",
   "execution_count": 26,
   "id": "b9f934b8",
   "metadata": {},
   "outputs": [],
   "source": [
    "# Modifico el precio de los billetes\n",
    "\n",
    "tickets.fare.replace({5000 : 5.0, 10000: 10.0, 25000 : 25.0}, inplace=True)"
   ]
  },
  {
   "cell_type": "code",
   "execution_count": 27,
   "id": "c19414a2",
   "metadata": {},
   "outputs": [
    {
     "data": {
      "text/html": [
       "<div>\n",
       "<style scoped>\n",
       "    .dataframe tbody tr th:only-of-type {\n",
       "        vertical-align: middle;\n",
       "    }\n",
       "\n",
       "    .dataframe tbody tr th {\n",
       "        vertical-align: top;\n",
       "    }\n",
       "\n",
       "    .dataframe thead th {\n",
       "        text-align: right;\n",
       "    }\n",
       "</style>\n",
       "<table border=\"1\" class=\"dataframe\">\n",
       "  <thead>\n",
       "    <tr style=\"text-align: right;\">\n",
       "      <th></th>\n",
       "      <th>date</th>\n",
       "      <th>bus</th>\n",
       "      <th>machine</th>\n",
       "      <th>driver</th>\n",
       "      <th>settlement</th>\n",
       "      <th>ticket_number</th>\n",
       "      <th>operation</th>\n",
       "      <th>operation_type</th>\n",
       "      <th>fare</th>\n",
       "      <th>route_code</th>\n",
       "      <th>line_code</th>\n",
       "      <th>stop_code</th>\n",
       "    </tr>\n",
       "  </thead>\n",
       "  <tbody>\n",
       "    <tr>\n",
       "      <th>0</th>\n",
       "      <td>2022-03-21 00:02:31</td>\n",
       "      <td>30037</td>\n",
       "      <td>5573</td>\n",
       "      <td>8888</td>\n",
       "      <td>AA01731</td>\n",
       "      <td>AI26354</td>\n",
       "      <td>ORDINAIRE</td>\n",
       "      <td>Ticket</td>\n",
       "      <td>5.0</td>\n",
       "      <td>5</td>\n",
       "      <td>102</td>\n",
       "      <td>10069</td>\n",
       "    </tr>\n",
       "    <tr>\n",
       "      <th>1</th>\n",
       "      <td>2022-03-21 00:02:33</td>\n",
       "      <td>30037</td>\n",
       "      <td>5573</td>\n",
       "      <td>8888</td>\n",
       "      <td>AA01731</td>\n",
       "      <td>AI26355</td>\n",
       "      <td>ORDINAIRE</td>\n",
       "      <td>Ticket</td>\n",
       "      <td>5.0</td>\n",
       "      <td>5</td>\n",
       "      <td>102</td>\n",
       "      <td>10069</td>\n",
       "    </tr>\n",
       "    <tr>\n",
       "      <th>2</th>\n",
       "      <td>2022-03-21 00:02:34</td>\n",
       "      <td>30037</td>\n",
       "      <td>5573</td>\n",
       "      <td>8888</td>\n",
       "      <td>AA01731</td>\n",
       "      <td>AI26356</td>\n",
       "      <td>ORDINAIRE</td>\n",
       "      <td>Ticket</td>\n",
       "      <td>5.0</td>\n",
       "      <td>5</td>\n",
       "      <td>102</td>\n",
       "      <td>10069</td>\n",
       "    </tr>\n",
       "    <tr>\n",
       "      <th>3</th>\n",
       "      <td>2022-03-21 00:02:36</td>\n",
       "      <td>30037</td>\n",
       "      <td>5573</td>\n",
       "      <td>8888</td>\n",
       "      <td>AA01731</td>\n",
       "      <td>AI26357</td>\n",
       "      <td>ORDINAIRE</td>\n",
       "      <td>Ticket</td>\n",
       "      <td>5.0</td>\n",
       "      <td>5</td>\n",
       "      <td>102</td>\n",
       "      <td>10069</td>\n",
       "    </tr>\n",
       "    <tr>\n",
       "      <th>4</th>\n",
       "      <td>2022-03-21 00:02:37</td>\n",
       "      <td>30037</td>\n",
       "      <td>5573</td>\n",
       "      <td>8888</td>\n",
       "      <td>AA01731</td>\n",
       "      <td>AI26358</td>\n",
       "      <td>ORDINAIRE</td>\n",
       "      <td>Ticket</td>\n",
       "      <td>5.0</td>\n",
       "      <td>5</td>\n",
       "      <td>102</td>\n",
       "      <td>10069</td>\n",
       "    </tr>\n",
       "  </tbody>\n",
       "</table>\n",
       "</div>"
      ],
      "text/plain": [
       "                 date    bus  machine  driver settlement ticket_number  \\\n",
       "0 2022-03-21 00:02:31  30037     5573    8888    AA01731       AI26354   \n",
       "1 2022-03-21 00:02:33  30037     5573    8888    AA01731       AI26355   \n",
       "2 2022-03-21 00:02:34  30037     5573    8888    AA01731       AI26356   \n",
       "3 2022-03-21 00:02:36  30037     5573    8888    AA01731       AI26357   \n",
       "4 2022-03-21 00:02:37  30037     5573    8888    AA01731       AI26358   \n",
       "\n",
       "   operation operation_type  fare  route_code  line_code  stop_code  \n",
       "0  ORDINAIRE         Ticket   5.0           5        102      10069  \n",
       "1  ORDINAIRE         Ticket   5.0           5        102      10069  \n",
       "2  ORDINAIRE         Ticket   5.0           5        102      10069  \n",
       "3  ORDINAIRE         Ticket   5.0           5        102      10069  \n",
       "4  ORDINAIRE         Ticket   5.0           5        102      10069  "
      ]
     },
     "execution_count": 27,
     "metadata": {},
     "output_type": "execute_result"
    }
   ],
   "source": [
    "tickets.head()"
   ]
  },
  {
   "cell_type": "code",
   "execution_count": 28,
   "id": "43bff749",
   "metadata": {},
   "outputs": [
    {
     "name": "stdout",
     "output_type": "stream",
     "text": [
      "<class 'pandas.core.frame.DataFrame'>\n",
      "RangeIndex: 1251553 entries, 0 to 1251552\n",
      "Data columns (total 12 columns):\n",
      " #   Column          Non-Null Count    Dtype         \n",
      "---  ------          --------------    -----         \n",
      " 0   date            1251553 non-null  datetime64[ns]\n",
      " 1   bus             1251553 non-null  int64         \n",
      " 2   machine         1251553 non-null  int64         \n",
      " 3   driver          1251553 non-null  int64         \n",
      " 4   settlement      1251553 non-null  object        \n",
      " 5   ticket_number   1251553 non-null  object        \n",
      " 6   operation       1251553 non-null  object        \n",
      " 7   operation_type  1251553 non-null  object        \n",
      " 8   fare            1251553 non-null  float64       \n",
      " 9   route_code      1251553 non-null  int64         \n",
      " 10  line_code       1251553 non-null  int64         \n",
      " 11  stop_code       1251553 non-null  int64         \n",
      "dtypes: datetime64[ns](1), float64(1), int64(6), object(4)\n",
      "memory usage: 114.6+ MB\n"
     ]
    }
   ],
   "source": [
    "tickets.info()"
   ]
  },
  {
   "cell_type": "markdown",
   "id": "ed582160",
   "metadata": {},
   "source": [
    "#### Concateno los dataframes"
   ]
  },
  {
   "cell_type": "code",
   "execution_count": 29,
   "id": "d8f3fef2",
   "metadata": {},
   "outputs": [],
   "source": [
    "# Concateno todos los dataframes de billetes y tarjetas\n",
    "\n",
    "passengers = pd.concat([tickets, cards])\n"
   ]
  },
  {
   "cell_type": "code",
   "execution_count": 30,
   "id": "94560921",
   "metadata": {},
   "outputs": [],
   "source": [
    "# Convierto a csv los tarjetas\n",
    "\n",
    "passengers.to_csv('../data/pasajeros/passengers.csv', sep=',', index=False)\n"
   ]
  },
  {
   "cell_type": "code",
   "execution_count": 46,
   "id": "4b939129",
   "metadata": {},
   "outputs": [
    {
     "data": {
      "text/plain": [
       "(1480811, 12)"
      ]
     },
     "execution_count": 46,
     "metadata": {},
     "output_type": "execute_result"
    }
   ],
   "source": [
    "passengers.shape"
   ]
  },
  {
   "cell_type": "code",
   "execution_count": 38,
   "id": "5dbe7026",
   "metadata": {},
   "outputs": [],
   "source": [
    "linea8 = passengers[(passengers.route_code == 8) & (passengers.line_code == 203)  ]"
   ]
  },
  {
   "cell_type": "code",
   "execution_count": 45,
   "id": "75ca6ee2",
   "metadata": {},
   "outputs": [
    {
     "data": {
      "text/plain": [
       "(62123, 12)"
      ]
     },
     "execution_count": 45,
     "metadata": {},
     "output_type": "execute_result"
    }
   ],
   "source": [
    "linea8.shape"
   ]
  },
  {
   "cell_type": "markdown",
   "id": "04cbe62c",
   "metadata": {},
   "source": [
    "#### Topologia"
   ]
  },
  {
   "cell_type": "code",
   "execution_count": 32,
   "id": "cdf1bb3a",
   "metadata": {},
   "outputs": [
    {
     "name": "stdout",
     "output_type": "stream",
     "text": [
      "<class 'pandas.core.frame.DataFrame'>\n",
      "RangeIndex: 2693 entries, 0 to 2692\n",
      "Data columns (total 11 columns):\n",
      " #   Column          Non-Null Count  Dtype \n",
      "---  ------          --------------  ----- \n",
      " 0   route_code_gmv  2693 non-null   int64 \n",
      " 1   route           2693 non-null   object\n",
      " 2   route_name      2654 non-null   object\n",
      " 3   line_code       2693 non-null   int64 \n",
      " 4   line_name       2690 non-null   object\n",
      " 5   stop_order      2693 non-null   int64 \n",
      " 6   stop_code_gmv   2693 non-null   int64 \n",
      " 7   stop_name       2693 non-null   object\n",
      " 8   stop_code_alsa  2693 non-null   int64 \n",
      " 9   latitude        2693 non-null   object\n",
      " 10  longitude       2693 non-null   object\n",
      "dtypes: int64(5), object(6)\n",
      "memory usage: 231.6+ KB\n"
     ]
    }
   ],
   "source": [
    "topologia.info()"
   ]
  },
  {
   "cell_type": "code",
   "execution_count": 33,
   "id": "c564bb6a",
   "metadata": {},
   "outputs": [
    {
     "data": {
      "text/html": [
       "<div>\n",
       "<style scoped>\n",
       "    .dataframe tbody tr th:only-of-type {\n",
       "        vertical-align: middle;\n",
       "    }\n",
       "\n",
       "    .dataframe tbody tr th {\n",
       "        vertical-align: top;\n",
       "    }\n",
       "\n",
       "    .dataframe thead th {\n",
       "        text-align: right;\n",
       "    }\n",
       "</style>\n",
       "<table border=\"1\" class=\"dataframe\">\n",
       "  <thead>\n",
       "    <tr style=\"text-align: right;\">\n",
       "      <th></th>\n",
       "      <th>route_code_gmv</th>\n",
       "      <th>route</th>\n",
       "      <th>route_name</th>\n",
       "      <th>line_code</th>\n",
       "      <th>line_name</th>\n",
       "      <th>stop_order</th>\n",
       "      <th>stop_code_gmv</th>\n",
       "      <th>stop_name</th>\n",
       "      <th>stop_code_alsa</th>\n",
       "      <th>latitude</th>\n",
       "      <th>longitude</th>\n",
       "    </tr>\n",
       "  </thead>\n",
       "  <tbody>\n",
       "    <tr>\n",
       "      <th>0</th>\n",
       "      <td>1</td>\n",
       "      <td>L1</td>\n",
       "      <td>L1 BAB CHELLAH-DOHA</td>\n",
       "      <td>103</td>\n",
       "      <td>BAB CHALLEH-DOHA</td>\n",
       "      <td>1</td>\n",
       "      <td>10005</td>\n",
       "      <td>Bab Chellah</td>\n",
       "      <td>73006</td>\n",
       "      <td>34,02329786</td>\n",
       "      <td>-6,834576334</td>\n",
       "    </tr>\n",
       "    <tr>\n",
       "      <th>1</th>\n",
       "      <td>1</td>\n",
       "      <td>L1</td>\n",
       "      <td>L1 BAB CHELLAH-DOHA</td>\n",
       "      <td>103</td>\n",
       "      <td>BAB CHALLEH-DOHA</td>\n",
       "      <td>2</td>\n",
       "      <td>10007</td>\n",
       "      <td>Bab Mellah</td>\n",
       "      <td>73008</td>\n",
       "      <td>34,02500069</td>\n",
       "      <td>-6,829615092</td>\n",
       "    </tr>\n",
       "    <tr>\n",
       "      <th>2</th>\n",
       "      <td>1</td>\n",
       "      <td>L1</td>\n",
       "      <td>L1 BAB CHELLAH-DOHA</td>\n",
       "      <td>103</td>\n",
       "      <td>BAB CHALLEH-DOHA</td>\n",
       "      <td>3</td>\n",
       "      <td>10044</td>\n",
       "      <td>Bab Khmiss</td>\n",
       "      <td>73046</td>\n",
       "      <td>34,03663288</td>\n",
       "      <td>-6,817232328</td>\n",
       "    </tr>\n",
       "    <tr>\n",
       "      <th>3</th>\n",
       "      <td>1</td>\n",
       "      <td>L1</td>\n",
       "      <td>L1 BAB CHELLAH-DOHA</td>\n",
       "      <td>103</td>\n",
       "      <td>BAB CHALLEH-DOHA</td>\n",
       "      <td>4</td>\n",
       "      <td>10046</td>\n",
       "      <td>Diar</td>\n",
       "      <td>73048</td>\n",
       "      <td>34,04143426</td>\n",
       "      <td>-6,816443938</td>\n",
       "    </tr>\n",
       "    <tr>\n",
       "      <th>4</th>\n",
       "      <td>1</td>\n",
       "      <td>L1</td>\n",
       "      <td>L1 BAB CHELLAH-DOHA</td>\n",
       "      <td>103</td>\n",
       "      <td>BAB CHALLEH-DOHA</td>\n",
       "      <td>5</td>\n",
       "      <td>10048</td>\n",
       "      <td>Mkinsiya</td>\n",
       "      <td>73050</td>\n",
       "      <td>34,04413576</td>\n",
       "      <td>-6,817705018</td>\n",
       "    </tr>\n",
       "  </tbody>\n",
       "</table>\n",
       "</div>"
      ],
      "text/plain": [
       "   route_code_gmv route           route_name  line_code         line_name  \\\n",
       "0               1    L1  L1 BAB CHELLAH-DOHA        103  BAB CHALLEH-DOHA   \n",
       "1               1    L1  L1 BAB CHELLAH-DOHA        103  BAB CHALLEH-DOHA   \n",
       "2               1    L1  L1 BAB CHELLAH-DOHA        103  BAB CHALLEH-DOHA   \n",
       "3               1    L1  L1 BAB CHELLAH-DOHA        103  BAB CHALLEH-DOHA   \n",
       "4               1    L1  L1 BAB CHELLAH-DOHA        103  BAB CHALLEH-DOHA   \n",
       "\n",
       "   stop_order  stop_code_gmv    stop_name  stop_code_alsa     latitude  \\\n",
       "0           1          10005  Bab Chellah           73006  34,02329786   \n",
       "1           2          10007   Bab Mellah           73008  34,02500069   \n",
       "2           3          10044   Bab Khmiss           73046  34,03663288   \n",
       "3           4          10046         Diar           73048  34,04143426   \n",
       "4           5          10048     Mkinsiya           73050  34,04413576   \n",
       "\n",
       "      longitude  \n",
       "0  -6,834576334  \n",
       "1  -6,829615092  \n",
       "2  -6,817232328  \n",
       "3  -6,816443938  \n",
       "4  -6,817705018  "
      ]
     },
     "execution_count": 33,
     "metadata": {},
     "output_type": "execute_result"
    }
   ],
   "source": [
    "topologia.head()"
   ]
  },
  {
   "cell_type": "code",
   "execution_count": 34,
   "id": "ed89bd23",
   "metadata": {},
   "outputs": [],
   "source": [
    "# Renombro las columnas\n",
    "\n",
    "columnas3 = {'route_code_gmv': 'route_code', 'route': 'route_name', 'route_name': 'route_name_int', 'stop_code_gmv': 'stop_code', 'stop_code_alsa': 'stop_code_int'}\n",
    "\n",
    "topologia = topologia.rename(columns=columnas3)"
   ]
  },
  {
   "cell_type": "code",
   "execution_count": 35,
   "id": "09504c6f",
   "metadata": {},
   "outputs": [],
   "source": [
    "topologia = topologia.rename(columns=columnas3)"
   ]
  },
  {
   "cell_type": "code",
   "execution_count": 36,
   "id": "b55c7d19",
   "metadata": {},
   "outputs": [
    {
     "data": {
      "text/html": [
       "<div>\n",
       "<style scoped>\n",
       "    .dataframe tbody tr th:only-of-type {\n",
       "        vertical-align: middle;\n",
       "    }\n",
       "\n",
       "    .dataframe tbody tr th {\n",
       "        vertical-align: top;\n",
       "    }\n",
       "\n",
       "    .dataframe thead th {\n",
       "        text-align: right;\n",
       "    }\n",
       "</style>\n",
       "<table border=\"1\" class=\"dataframe\">\n",
       "  <thead>\n",
       "    <tr style=\"text-align: right;\">\n",
       "      <th></th>\n",
       "      <th>route_code</th>\n",
       "      <th>route_name_int</th>\n",
       "      <th>route_name_int</th>\n",
       "      <th>line_code</th>\n",
       "      <th>line_name</th>\n",
       "      <th>stop_order</th>\n",
       "      <th>stop_code</th>\n",
       "      <th>stop_name</th>\n",
       "      <th>stop_code_int</th>\n",
       "      <th>latitude</th>\n",
       "      <th>longitude</th>\n",
       "    </tr>\n",
       "  </thead>\n",
       "  <tbody>\n",
       "  </tbody>\n",
       "</table>\n",
       "</div>"
      ],
      "text/plain": [
       "Empty DataFrame\n",
       "Columns: [route_code, route_name_int, route_name_int, line_code, line_name, stop_order, stop_code, stop_name, stop_code_int, latitude, longitude]\n",
       "Index: []"
      ]
     },
     "execution_count": 36,
     "metadata": {},
     "output_type": "execute_result"
    }
   ],
   "source": [
    "topologia[(topologia.route_code == 8) & (topologia.line_code == 203)].head()"
   ]
  },
  {
   "cell_type": "markdown",
   "id": "8a7e8048",
   "metadata": {},
   "source": [
    "#### Joins entre tablas"
   ]
  },
  {
   "cell_type": "code",
   "execution_count": 37,
   "id": "f0546a36",
   "metadata": {},
   "outputs": [
    {
     "ename": "KeyError",
     "evalue": "\"['route_name'] not in index\"",
     "output_type": "error",
     "traceback": [
      "\u001b[1;31m---------------------------------------------------------------------------\u001b[0m",
      "\u001b[1;31mKeyError\u001b[0m                                  Traceback (most recent call last)",
      "Input \u001b[1;32mIn [37]\u001b[0m, in \u001b[0;36m<cell line: 4>\u001b[1;34m()\u001b[0m\n\u001b[0;32m      1\u001b[0m \u001b[38;5;66;03m# Hago un left join entre 'passengers'  y 'topologia' para obtener 'route_name', 'line_name', 'stop_order', 'stop_name', 'latitude', 'longitude' \u001b[39;00m\n\u001b[1;32m----> 4\u001b[0m passanger_loc \u001b[38;5;241m=\u001b[39m passengers\u001b[38;5;241m.\u001b[39mset_index([\u001b[38;5;124m'\u001b[39m\u001b[38;5;124mroute_code\u001b[39m\u001b[38;5;124m'\u001b[39m, \u001b[38;5;124m'\u001b[39m\u001b[38;5;124mline_code\u001b[39m\u001b[38;5;124m'\u001b[39m, \u001b[38;5;124m'\u001b[39m\u001b[38;5;124mstop_code\u001b[39m\u001b[38;5;124m'\u001b[39m])\u001b[38;5;241m.\u001b[39mjoin(\u001b[43mtopologia\u001b[49m\u001b[43m[\u001b[49m\u001b[43m[\u001b[49m\u001b[38;5;124;43m'\u001b[39;49m\u001b[38;5;124;43mroute_code\u001b[39;49m\u001b[38;5;124;43m'\u001b[39;49m\u001b[43m,\u001b[49m\u001b[43m \u001b[49m\u001b[38;5;124;43m'\u001b[39;49m\u001b[38;5;124;43mline_code\u001b[39;49m\u001b[38;5;124;43m'\u001b[39;49m\u001b[43m,\u001b[49m\u001b[43m \u001b[49m\u001b[38;5;124;43m'\u001b[39;49m\u001b[38;5;124;43mstop_code\u001b[39;49m\u001b[38;5;124;43m'\u001b[39;49m\u001b[43m,\u001b[49m\u001b[43m \u001b[49m\u001b[38;5;124;43m'\u001b[39;49m\u001b[38;5;124;43mroute_name\u001b[39;49m\u001b[38;5;124;43m'\u001b[39;49m\u001b[43m,\u001b[49m\u001b[43m \u001b[49m\u001b[38;5;124;43m'\u001b[39;49m\u001b[38;5;124;43mline_name\u001b[39;49m\u001b[38;5;124;43m'\u001b[39;49m\u001b[43m,\u001b[49m\u001b[43m \u001b[49m\u001b[38;5;124;43m'\u001b[39;49m\u001b[38;5;124;43mstop_order\u001b[39;49m\u001b[38;5;124;43m'\u001b[39;49m\u001b[43m,\u001b[49m\u001b[43m \u001b[49m\u001b[38;5;124;43m'\u001b[39;49m\u001b[38;5;124;43mstop_name\u001b[39;49m\u001b[38;5;124;43m'\u001b[39;49m\u001b[43m,\u001b[49m\u001b[43m \u001b[49m\u001b[38;5;124;43m'\u001b[39;49m\u001b[38;5;124;43mlatitude\u001b[39;49m\u001b[38;5;124;43m'\u001b[39;49m\u001b[43m,\u001b[49m\u001b[43m \u001b[49m\u001b[38;5;124;43m'\u001b[39;49m\u001b[38;5;124;43mlongitude\u001b[39;49m\u001b[38;5;124;43m'\u001b[39;49m\u001b[43m]\u001b[49m\u001b[43m]\u001b[49m\u001b[38;5;241m.\u001b[39mset_index([\u001b[38;5;124m'\u001b[39m\u001b[38;5;124mroute_code\u001b[39m\u001b[38;5;124m'\u001b[39m, \u001b[38;5;124m'\u001b[39m\u001b[38;5;124mline_code\u001b[39m\u001b[38;5;124m'\u001b[39m, \u001b[38;5;124m'\u001b[39m\u001b[38;5;124mstop_code\u001b[39m\u001b[38;5;124m'\u001b[39m]))\n",
      "File \u001b[1;32m~\\.conda\\envs\\clase\\lib\\site-packages\\pandas\\core\\frame.py:3511\u001b[0m, in \u001b[0;36mDataFrame.__getitem__\u001b[1;34m(self, key)\u001b[0m\n\u001b[0;32m   3509\u001b[0m     \u001b[38;5;28;01mif\u001b[39;00m is_iterator(key):\n\u001b[0;32m   3510\u001b[0m         key \u001b[38;5;241m=\u001b[39m \u001b[38;5;28mlist\u001b[39m(key)\n\u001b[1;32m-> 3511\u001b[0m     indexer \u001b[38;5;241m=\u001b[39m \u001b[38;5;28;43mself\u001b[39;49m\u001b[38;5;241;43m.\u001b[39;49m\u001b[43mcolumns\u001b[49m\u001b[38;5;241;43m.\u001b[39;49m\u001b[43m_get_indexer_strict\u001b[49m\u001b[43m(\u001b[49m\u001b[43mkey\u001b[49m\u001b[43m,\u001b[49m\u001b[43m \u001b[49m\u001b[38;5;124;43m\"\u001b[39;49m\u001b[38;5;124;43mcolumns\u001b[39;49m\u001b[38;5;124;43m\"\u001b[39;49m\u001b[43m)\u001b[49m[\u001b[38;5;241m1\u001b[39m]\n\u001b[0;32m   3513\u001b[0m \u001b[38;5;66;03m# take() does not accept boolean indexers\u001b[39;00m\n\u001b[0;32m   3514\u001b[0m \u001b[38;5;28;01mif\u001b[39;00m \u001b[38;5;28mgetattr\u001b[39m(indexer, \u001b[38;5;124m\"\u001b[39m\u001b[38;5;124mdtype\u001b[39m\u001b[38;5;124m\"\u001b[39m, \u001b[38;5;28;01mNone\u001b[39;00m) \u001b[38;5;241m==\u001b[39m \u001b[38;5;28mbool\u001b[39m:\n",
      "File \u001b[1;32m~\\.conda\\envs\\clase\\lib\\site-packages\\pandas\\core\\indexes\\base.py:5782\u001b[0m, in \u001b[0;36mIndex._get_indexer_strict\u001b[1;34m(self, key, axis_name)\u001b[0m\n\u001b[0;32m   5779\u001b[0m \u001b[38;5;28;01melse\u001b[39;00m:\n\u001b[0;32m   5780\u001b[0m     keyarr, indexer, new_indexer \u001b[38;5;241m=\u001b[39m \u001b[38;5;28mself\u001b[39m\u001b[38;5;241m.\u001b[39m_reindex_non_unique(keyarr)\n\u001b[1;32m-> 5782\u001b[0m \u001b[38;5;28;43mself\u001b[39;49m\u001b[38;5;241;43m.\u001b[39;49m\u001b[43m_raise_if_missing\u001b[49m\u001b[43m(\u001b[49m\u001b[43mkeyarr\u001b[49m\u001b[43m,\u001b[49m\u001b[43m \u001b[49m\u001b[43mindexer\u001b[49m\u001b[43m,\u001b[49m\u001b[43m \u001b[49m\u001b[43maxis_name\u001b[49m\u001b[43m)\u001b[49m\n\u001b[0;32m   5784\u001b[0m keyarr \u001b[38;5;241m=\u001b[39m \u001b[38;5;28mself\u001b[39m\u001b[38;5;241m.\u001b[39mtake(indexer)\n\u001b[0;32m   5785\u001b[0m \u001b[38;5;28;01mif\u001b[39;00m \u001b[38;5;28misinstance\u001b[39m(key, Index):\n\u001b[0;32m   5786\u001b[0m     \u001b[38;5;66;03m# GH 42790 - Preserve name from an Index\u001b[39;00m\n",
      "File \u001b[1;32m~\\.conda\\envs\\clase\\lib\\site-packages\\pandas\\core\\indexes\\base.py:5845\u001b[0m, in \u001b[0;36mIndex._raise_if_missing\u001b[1;34m(self, key, indexer, axis_name)\u001b[0m\n\u001b[0;32m   5842\u001b[0m     \u001b[38;5;28;01mraise\u001b[39;00m \u001b[38;5;167;01mKeyError\u001b[39;00m(\u001b[38;5;124mf\u001b[39m\u001b[38;5;124m\"\u001b[39m\u001b[38;5;124mNone of [\u001b[39m\u001b[38;5;132;01m{\u001b[39;00mkey\u001b[38;5;132;01m}\u001b[39;00m\u001b[38;5;124m] are in the [\u001b[39m\u001b[38;5;132;01m{\u001b[39;00maxis_name\u001b[38;5;132;01m}\u001b[39;00m\u001b[38;5;124m]\u001b[39m\u001b[38;5;124m\"\u001b[39m)\n\u001b[0;32m   5844\u001b[0m not_found \u001b[38;5;241m=\u001b[39m \u001b[38;5;28mlist\u001b[39m(ensure_index(key)[missing_mask\u001b[38;5;241m.\u001b[39mnonzero()[\u001b[38;5;241m0\u001b[39m]]\u001b[38;5;241m.\u001b[39munique())\n\u001b[1;32m-> 5845\u001b[0m \u001b[38;5;28;01mraise\u001b[39;00m \u001b[38;5;167;01mKeyError\u001b[39;00m(\u001b[38;5;124mf\u001b[39m\u001b[38;5;124m\"\u001b[39m\u001b[38;5;132;01m{\u001b[39;00mnot_found\u001b[38;5;132;01m}\u001b[39;00m\u001b[38;5;124m not in index\u001b[39m\u001b[38;5;124m\"\u001b[39m)\n",
      "\u001b[1;31mKeyError\u001b[0m: \"['route_name'] not in index\""
     ]
    }
   ],
   "source": [
    "# Hago un left join entre 'passengers'  y 'topologia' para obtener 'route_name', 'line_name', 'stop_order', 'stop_name', 'latitude', 'longitude' \n",
    "\n",
    "\n",
    "passanger_loc = passengers.set_index(['route_code', 'line_code', 'stop_code']).join(topologia[['route_code', 'line_code', 'stop_code', 'route_name', 'line_name', 'stop_order', 'stop_name', 'latitude', 'longitude']].set_index(['route_code', 'line_code', 'stop_code']))\n"
   ]
  },
  {
   "cell_type": "code",
   "execution_count": null,
   "id": "5ff4853e",
   "metadata": {},
   "outputs": [],
   "source": [
    "# Le reseteo el indice\n",
    "\n",
    "passanger_loc.reset_index(inplace=True)"
   ]
  },
  {
   "cell_type": "code",
   "execution_count": null,
   "id": "a023eda3",
   "metadata": {},
   "outputs": [],
   "source": [
    "passanger_loc.info()"
   ]
  },
  {
   "cell_type": "code",
   "execution_count": null,
   "id": "0ea848b2",
   "metadata": {},
   "outputs": [],
   "source": []
  },
  {
   "cell_type": "code",
   "execution_count": null,
   "id": "39f1c3e1",
   "metadata": {},
   "outputs": [],
   "source": [
    "subset_null = passanger_loc[passanger_loc.route_name.isna()].head()"
   ]
  },
  {
   "cell_type": "code",
   "execution_count": null,
   "id": "39cd2934",
   "metadata": {},
   "outputs": [],
   "source": [
    "subset_null.head()"
   ]
  },
  {
   "cell_type": "code",
   "execution_count": null,
   "id": "cded15b9",
   "metadata": {},
   "outputs": [],
   "source": [
    "subset_null.stop_code.unique()"
   ]
  },
  {
   "cell_type": "code",
   "execution_count": null,
   "id": "1dae47fa",
   "metadata": {},
   "outputs": [],
   "source": [
    "# para pintar\n",
    "import pylab as plt\n",
    "import seaborn as sns\n",
    "\n",
    "# para que salga el grafico\n",
    "%matplotlib inline"
   ]
  },
  {
   "cell_type": "code",
   "execution_count": null,
   "id": "54e7a9e8",
   "metadata": {},
   "outputs": [],
   "source": [
    "# Funcion que chequea los valores nulos y devuelve un histograma con ellos en forma de mapa de calor\n",
    "\n",
    "def check_nan(df):\n",
    "    \n",
    "    nan_cols=df.isna().mean() * 100\n",
    "    \n",
    "    display(f'N nan cols: {len(nan_cols[nan_cols>0])}')\n",
    "    display(nan_cols[nan_cols>0])\n",
    "    \n",
    "    plt.figure(figsize=(10, 6))\n",
    "\n",
    "    sns.heatmap(df.isna(),  \n",
    "                yticklabels=False,\n",
    "                cmap='viridis',\n",
    "                cbar=False)\n",
    "    \n",
    "    plt.show();"
   ]
  },
  {
   "cell_type": "code",
   "execution_count": null,
   "id": "71a32d8a",
   "metadata": {},
   "outputs": [],
   "source": [
    "check_nan(passanger_loc)"
   ]
  },
  {
   "cell_type": "code",
   "execution_count": null,
   "id": "866c42a0",
   "metadata": {},
   "outputs": [],
   "source": [
    "passanger_loc[['route_name', 'line_name', 'stop_order', 'stop_name', 'latitude', 'longitude']]"
   ]
  },
  {
   "cell_type": "code",
   "execution_count": null,
   "id": "56f1ad25",
   "metadata": {},
   "outputs": [],
   "source": [
    "# Me creo un dataset mas limpio con el que voy a seguir trabajando\n",
    "\n",
    "\n",
    "subset1 = passanger_loc[passanger_loc[['route_name', 'line_name', 'stop_order', 'stop_name', 'latitude', 'longitude']].notnull().any(axis=1)]"
   ]
  },
  {
   "cell_type": "code",
   "execution_count": null,
   "id": "b1f102ba",
   "metadata": {},
   "outputs": [],
   "source": [
    "subset1.info()"
   ]
  },
  {
   "cell_type": "code",
   "execution_count": null,
   "id": "444a1ec3",
   "metadata": {},
   "outputs": [],
   "source": []
  }
 ],
 "metadata": {
  "kernelspec": {
   "display_name": "clase",
   "language": "python",
   "name": "clase"
  },
  "language_info": {
   "codemirror_mode": {
    "name": "ipython",
    "version": 3
   },
   "file_extension": ".py",
   "mimetype": "text/x-python",
   "name": "python",
   "nbconvert_exporter": "python",
   "pygments_lexer": "ipython3",
   "version": "3.9.7"
  }
 },
 "nbformat": 4,
 "nbformat_minor": 5
}
